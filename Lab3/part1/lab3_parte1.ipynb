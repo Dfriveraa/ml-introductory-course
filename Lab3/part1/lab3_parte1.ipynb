{
 "cells": [
  {
   "cell_type": "markdown",
   "metadata": {
    "id": "fCTNsoLtkyaW"
   },
   "source": [
    "<a href=\"https://colab.research.google.com/github/jdariasl/ML_2020/blob/master/Labs/lab3/lab3_parte1.ipynb\">\n",
    "    <img src=\"https://colab.research.google.com/assets/colab-badge.svg\" alt=\"Open In Colab\"/></a>\n",
    "\n",
    "**Recuerda que una vez abierto, Da clic en \"Copiar en Drive\", de lo contrario no podras almacenar tu progreso**\n",
    "\n",
    "Nota: no olvide ir ejecutando las celdas de código de arriba hacia abajo para que no tenga errores de importación de librerías o por falta de definición de variables."
   ]
  },
  {
   "cell_type": "code",
   "execution_count": 1,
   "metadata": {
    "colab": {
     "base_uri": "https://localhost:8080/",
     "height": 292
    },
    "id": "gx0QZd1tkyaX",
    "outputId": "a36dee6c-984b-418d-8a35-6c97e9606299"
   },
   "outputs": [
    {
     "name": "stdout",
     "output_type": "stream",
     "text": [
      "--2020-10-19 07:16:18--  https://raw.githubusercontent.com/jdariasl/ML_2020/master/Labs/commons/utils/general.py\n",
      "Resolving raw.githubusercontent.com (raw.githubusercontent.com)... 199.232.48.133\n",
      "Connecting to raw.githubusercontent.com (raw.githubusercontent.com)|199.232.48.133|:443... connected.\n",
      "HTTP request sent, awaiting response... 200 OK\n",
      "Length: 13949 (14K) [text/plain]\n",
      "Saving to: ‘general.py’\n",
      "\n",
      "general.py          100%[===================>]  13.62K  --.-KB/s    in 0.03s   \n",
      "\n",
      "2020-10-19 07:16:19 (398 KB/s) - ‘general.py’ saved [13949/13949]\n",
      "\n",
      "lab configuration started\n",
      "installing libraries\n",
      "downloading files\n",
      "lab configured\n"
     ]
    }
   ],
   "source": [
    "#configuración del laboratorio\n",
    "# Ejecuta esta celda!\n",
    "%load_ext autoreload\n",
    "%autoreload 2\n",
    "# for local \n",
    "# import sys ; sys.path.append('../commons/utils/')\n",
    "!wget https://raw.githubusercontent.com/jdariasl/ML_2020/master/Labs/commons/utils/general.py -O general.py --no-cache\n",
    "from general import configure_lab3\n",
    "configure_lab3()\n",
    "from lab3 import *\n",
    "GRADER = part_1()"
   ]
  },
  {
   "cell_type": "markdown",
   "metadata": {
    "id": "fL3NUNjhkyaa"
   },
   "source": [
    "# Laboratorio 3 - Parte 1 \n",
    "\n",
    "## Ejercicio 1: Contextualización del problema\n",
    "\n",
    "A continuación se leen los datos de un problema de clasificación. El problema corresponde a la clasificación de dígitos escritos a mano. Los datos fueron preprocesados para reducir el número de características y solo se van usar los digitos 0 al 4. La técnica usada será analizada más adelante en el curso. Al ejecutar la celda de código, tambien se podra visualizar una muestra de los datos usados."
   ]
  },
  {
   "cell_type": "code",
   "execution_count": 2,
   "metadata": {
    "colab": {
     "base_uri": "https://localhost:8080/",
     "height": 469
    },
    "id": "rMq5O_h_kyaa",
    "outputId": "86ecedcd-b413-4d3d-e16b-dcb11ad783e9"
   },
   "outputs": [
    {
     "data": {
      "image/png": "[encoded data removed]",
      "text/plain": [
       "<Figure size 576x576 with 100 Axes>"
      ]
     },
     "metadata": {},
     "output_type": "display_data"
    }
   ],
   "source": [
    "digits = load_digits(n_class=5)\n",
    "#--------- preprocesamiento--------------------\n",
    "pca = PCA(0.99, whiten=True)\n",
    "data = pca.fit_transform(digits.data)\n",
    "#---------- Datos a usar ----------------------\n",
    "x = data\n",
    "y = digits.target\n",
    "\n",
    "plot_digits(digits.data)"
   ]
  },
  {
   "cell_type": "markdown",
   "metadata": {
    "id": "P9oDeolgkyac"
   },
   "source": [
    "Vamos realizar algunas pruebas para determinar que metodologia de validación es más adecuada. En el ejercicio de código, vamos usar las librerias de scikit-learn:\n",
    "1. [StratifiedKFold](https://scikit-learn.org/stable/modules/generated/sklearn.model_selection.StratifiedKFold.html?highlight=stratifiedkfold#sklearn.model_selection.StratifiedKFold)\n",
    "1. [Kfold](https://scikit-learn.org/stable/modules/generated/sklearn.model_selection.KFold.html#sklearn.model_selection.KFold)\n",
    "\n",
    "En la función debes seleccionar la función de sklearn adecuada para lograr el efecto deseado y completar el código, donde este incompleto. \n"
   ]
  },
  {
   "cell_type": "code",
   "execution_count": 3,
   "metadata": {
    "id": "GlubvnNCkyad"
   },
   "outputs": [],
   "source": [
    "#ejercicio de código\n",
    "def get_muestras_by_cv (X, Y, method):\n",
    "    \"\"\"función que devuelve el numero de muestras promedios\n",
    "    dependiendo de la metodologia de validación (method).\n",
    "    los conjuntos de datos deben dividirse **4 veces**\n",
    "    X: matriz numpy con los valores de las caracteristicas\n",
    "    Y: vector numpy con las etiquetas de con conjunto de caracteriticas X\n",
    "    method (int): solo puede tomar dos valores:\n",
    "        1: se debe usar el metodo de validación Bootstrapping\n",
    "        2: se debe usar el metodo valicacion cruzada estratificada\n",
    "    retorna: dataframe con las siguientes columnas:\n",
    "        - etiqueta de clase\n",
    "        - fold\n",
    "        - # muestras en entrenamiento\n",
    "    \"\"\"\n",
    "    \n",
    "    idx = 0\n",
    "    results = pd.DataFrame()\n",
    "    \n",
    "    if method == 1:\n",
    "        #completa el codigo con el metodo adecuado\n",
    "        cv = ShuffleSplit(n_splits=4)\n",
    "        for n, (train_index, test_index) in enumerate (cv.split(X,Y)):\n",
    "            y_train, y_test = Y[train_index], Y[test_index]\n",
    "            \n",
    "            # iterar sobre las etiquetas\n",
    "            for label in np.unique(y_train):\n",
    "                results.loc[idx, 'etiqueta de clase'] = label\n",
    "                results.loc[idx, 'fold'] = n\n",
    "                results.loc[idx, 'numero de muestras entrenamiento'] = (y_train == label).sum()\n",
    "                idx = idx+1\n",
    "        \n",
    "    elif method == 2:\n",
    "        #completa el codigo con el metodo adecuado\n",
    "        cv = StratifiedKFold(n_splits=4)\n",
    "        for n, (train_index, test_index ) in enumerate (cv.split(X,Y)):\n",
    "            y_train, y_test = Y[train_index], Y[test_index]\n",
    "            len(np.unique(y_train))\n",
    "            # iterar sobre las etiquetas\n",
    "            for label in np.unique(y_train):\n",
    "            \n",
    "                results.loc[idx, 'etiqueta de clase'] = label\n",
    "                results.loc[idx, 'folds'] = n             \n",
    "                results.loc[idx, 'numero de muestras entrenamiento'] = (y_train == label).sum()\n",
    "                idx = idx+1\n",
    "    else:\n",
    "        print(\"el metodo no es valido!\")\n",
    "        \n",
    "    return (results)\n",
    "    "
   ]
  },
  {
   "cell_type": "code",
   "execution_count": 4,
   "metadata": {
    "colab": {
     "base_uri": "https://localhost:8080/",
     "height": 34
    },
    "id": "7uZxurAMkyaf",
    "outputId": "14d8d316-58df-4f95-ffcb-52705c00b673"
   },
   "outputs": [
    {
     "name": "stdout",
     "output_type": "stream",
     "text": [
      "TEST EXITOSO!\n"
     ]
    }
   ],
   "source": [
    "## la funcion que prueba tu implementacion\n",
    "#ignora las graficas!!\n",
    "GRADER.run_test(\"ejercicio1\", get_muestras_by_cv)"
   ]
  },
  {
   "cell_type": "markdown",
   "metadata": {
    "id": "8WDTn2Pgkyah"
   },
   "source": [
    "Las siguientes lineas de código grafican los resultados para analizarlos."
   ]
  },
  {
   "cell_type": "code",
   "execution_count": 5,
   "metadata": {
    "colab": {
     "base_uri": "https://localhost:8080/",
     "height": 418
    },
    "id": "wSntfgF0kyah",
    "outputId": "b4843685-9e51-4d84-c021-770556e6c7ca"
   },
   "outputs": [
    {
     "data": {
      "text/plain": [
       "'distribución de clases'"
      ]
     },
     "metadata": {},
     "output_type": "display_data"
    },
    {
     "data": {
      "text/plain": [
       "<seaborn.axisgrid.FacetGrid at 0x7f0c84cf8dc0>"
      ]
     },
     "execution_count": 5,
     "metadata": {},
     "output_type": "execute_result"
    },
    {
     "data": {
      "image/png": "[encoded data removed]",
      "text/plain": [
       "<Figure size 466.25x360 with 1 Axes>"
      ]
     },
     "metadata": {
      "needs_background": "light"
     },
     "output_type": "display_data"
    }
   ],
   "source": [
    "cv1 = get_muestras_by_cv(x,y, 1)\n",
    "cv1['validación'] = 'Bootstrapping'\n",
    "cv2 = get_muestras_by_cv(x,y, 2)\n",
    "cv2['validación'] = 'Estratificada'\n",
    "cvs = pd.concat([cv1, cv2], ignore_index=True)\n",
    "display(\"distribución de clases\")\n",
    "sns.catplot(data= cvs , x = 'etiqueta de clase', y='numero de muestras entrenamiento', kind='point', hue='validación')"
   ]
  },
  {
   "cell_type": "code",
   "execution_count": 6,
   "metadata": {},
   "outputs": [
    {
     "data": {
      "text/html": [
       "<div>\n",
       "<style scoped>\n",
       "    .dataframe tbody tr th:only-of-type {\n",
       "        vertical-align: middle;\n",
       "    }\n",
       "\n",
       "    .dataframe tbody tr th {\n",
       "        vertical-align: top;\n",
       "    }\n",
       "\n",
       "    .dataframe thead th {\n",
       "        text-align: right;\n",
       "    }\n",
       "</style>\n",
       "<table border=\"1\" class=\"dataframe\">\n",
       "  <thead>\n",
       "    <tr style=\"text-align: right;\">\n",
       "      <th></th>\n",
       "      <th>etiqueta de clase</th>\n",
       "      <th>fold</th>\n",
       "      <th>numero de muestras entrenamiento</th>\n",
       "      <th>validación</th>\n",
       "    </tr>\n",
       "  </thead>\n",
       "  <tbody>\n",
       "    <tr>\n",
       "      <th>0</th>\n",
       "      <td>0.0</td>\n",
       "      <td>0.0</td>\n",
       "      <td>164.0</td>\n",
       "      <td>Bootstrapping</td>\n",
       "    </tr>\n",
       "    <tr>\n",
       "      <th>1</th>\n",
       "      <td>1.0</td>\n",
       "      <td>0.0</td>\n",
       "      <td>161.0</td>\n",
       "      <td>Bootstrapping</td>\n",
       "    </tr>\n",
       "    <tr>\n",
       "      <th>2</th>\n",
       "      <td>2.0</td>\n",
       "      <td>0.0</td>\n",
       "      <td>161.0</td>\n",
       "      <td>Bootstrapping</td>\n",
       "    </tr>\n",
       "    <tr>\n",
       "      <th>3</th>\n",
       "      <td>3.0</td>\n",
       "      <td>0.0</td>\n",
       "      <td>167.0</td>\n",
       "      <td>Bootstrapping</td>\n",
       "    </tr>\n",
       "    <tr>\n",
       "      <th>4</th>\n",
       "      <td>4.0</td>\n",
       "      <td>0.0</td>\n",
       "      <td>157.0</td>\n",
       "      <td>Bootstrapping</td>\n",
       "    </tr>\n",
       "    <tr>\n",
       "      <th>5</th>\n",
       "      <td>0.0</td>\n",
       "      <td>1.0</td>\n",
       "      <td>164.0</td>\n",
       "      <td>Bootstrapping</td>\n",
       "    </tr>\n",
       "    <tr>\n",
       "      <th>6</th>\n",
       "      <td>1.0</td>\n",
       "      <td>1.0</td>\n",
       "      <td>162.0</td>\n",
       "      <td>Bootstrapping</td>\n",
       "    </tr>\n",
       "    <tr>\n",
       "      <th>7</th>\n",
       "      <td>2.0</td>\n",
       "      <td>1.0</td>\n",
       "      <td>157.0</td>\n",
       "      <td>Bootstrapping</td>\n",
       "    </tr>\n",
       "    <tr>\n",
       "      <th>8</th>\n",
       "      <td>3.0</td>\n",
       "      <td>1.0</td>\n",
       "      <td>169.0</td>\n",
       "      <td>Bootstrapping</td>\n",
       "    </tr>\n",
       "    <tr>\n",
       "      <th>9</th>\n",
       "      <td>4.0</td>\n",
       "      <td>1.0</td>\n",
       "      <td>158.0</td>\n",
       "      <td>Bootstrapping</td>\n",
       "    </tr>\n",
       "    <tr>\n",
       "      <th>10</th>\n",
       "      <td>0.0</td>\n",
       "      <td>2.0</td>\n",
       "      <td>158.0</td>\n",
       "      <td>Bootstrapping</td>\n",
       "    </tr>\n",
       "    <tr>\n",
       "      <th>11</th>\n",
       "      <td>1.0</td>\n",
       "      <td>2.0</td>\n",
       "      <td>161.0</td>\n",
       "      <td>Bootstrapping</td>\n",
       "    </tr>\n",
       "    <tr>\n",
       "      <th>12</th>\n",
       "      <td>2.0</td>\n",
       "      <td>2.0</td>\n",
       "      <td>156.0</td>\n",
       "      <td>Bootstrapping</td>\n",
       "    </tr>\n",
       "    <tr>\n",
       "      <th>13</th>\n",
       "      <td>3.0</td>\n",
       "      <td>2.0</td>\n",
       "      <td>167.0</td>\n",
       "      <td>Bootstrapping</td>\n",
       "    </tr>\n",
       "    <tr>\n",
       "      <th>14</th>\n",
       "      <td>4.0</td>\n",
       "      <td>2.0</td>\n",
       "      <td>168.0</td>\n",
       "      <td>Bootstrapping</td>\n",
       "    </tr>\n",
       "    <tr>\n",
       "      <th>15</th>\n",
       "      <td>0.0</td>\n",
       "      <td>3.0</td>\n",
       "      <td>155.0</td>\n",
       "      <td>Bootstrapping</td>\n",
       "    </tr>\n",
       "    <tr>\n",
       "      <th>16</th>\n",
       "      <td>1.0</td>\n",
       "      <td>3.0</td>\n",
       "      <td>167.0</td>\n",
       "      <td>Bootstrapping</td>\n",
       "    </tr>\n",
       "    <tr>\n",
       "      <th>17</th>\n",
       "      <td>2.0</td>\n",
       "      <td>3.0</td>\n",
       "      <td>168.0</td>\n",
       "      <td>Bootstrapping</td>\n",
       "    </tr>\n",
       "    <tr>\n",
       "      <th>18</th>\n",
       "      <td>3.0</td>\n",
       "      <td>3.0</td>\n",
       "      <td>165.0</td>\n",
       "      <td>Bootstrapping</td>\n",
       "    </tr>\n",
       "    <tr>\n",
       "      <th>19</th>\n",
       "      <td>4.0</td>\n",
       "      <td>3.0</td>\n",
       "      <td>155.0</td>\n",
       "      <td>Bootstrapping</td>\n",
       "    </tr>\n",
       "  </tbody>\n",
       "</table>\n",
       "</div>"
      ],
      "text/plain": [
       "    etiqueta de clase  fold  numero de muestras entrenamiento     validación\n",
       "0                 0.0   0.0                             164.0  Bootstrapping\n",
       "1                 1.0   0.0                             161.0  Bootstrapping\n",
       "2                 2.0   0.0                             161.0  Bootstrapping\n",
       "3                 3.0   0.0                             167.0  Bootstrapping\n",
       "4                 4.0   0.0                             157.0  Bootstrapping\n",
       "5                 0.0   1.0                             164.0  Bootstrapping\n",
       "6                 1.0   1.0                             162.0  Bootstrapping\n",
       "7                 2.0   1.0                             157.0  Bootstrapping\n",
       "8                 3.0   1.0                             169.0  Bootstrapping\n",
       "9                 4.0   1.0                             158.0  Bootstrapping\n",
       "10                0.0   2.0                             158.0  Bootstrapping\n",
       "11                1.0   2.0                             161.0  Bootstrapping\n",
       "12                2.0   2.0                             156.0  Bootstrapping\n",
       "13                3.0   2.0                             167.0  Bootstrapping\n",
       "14                4.0   2.0                             168.0  Bootstrapping\n",
       "15                0.0   3.0                             155.0  Bootstrapping\n",
       "16                1.0   3.0                             167.0  Bootstrapping\n",
       "17                2.0   3.0                             168.0  Bootstrapping\n",
       "18                3.0   3.0                             165.0  Bootstrapping\n",
       "19                4.0   3.0                             155.0  Bootstrapping"
      ]
     },
     "execution_count": 6,
     "metadata": {},
     "output_type": "execute_result"
    }
   ],
   "source": [
    "cv1"
   ]
  },
  {
   "cell_type": "code",
   "execution_count": 7,
   "metadata": {
    "cellView": "form",
    "id": "rmF2ffwdkyak"
   },
   "outputs": [],
   "source": [
    "#@title Pregunta Abierta\n",
    "#@markdown  ¿con base en los resultados anteriores y al tipo de problema, qué tecnica de validación es más adecuada? justifique.\n",
    "respuesta_1 = \"El conjunto de datos no parece tener problemas de desbalanceo por lo que no es necesaria la metodología estratificada\" #@param {type:\"string\"}"
   ]
  },
  {
   "cell_type": "markdown",
   "metadata": {
    "id": "4HMh3Ajskyam"
   },
   "source": [
    "## Ejercicio 2: Mezclas de gaussinas\n",
    "\n",
    "En la siguiente celda defina una función que tome como entradas una matriz $X$ y una matriz $Y$, entrene un modelo GMM  (Modelo de mezclas gaussianas) por cada clase y retorne el listado de modelos para cada clase. Debe consultar todo lo relacionado con la creación, entrenamiento y uso en predicción de este modelo usando la librería scikit-learn. Consultar aquí: http://scikit-learn.org/stable/modules/generated/sklearn.mixture.GaussianMixture.html\n",
    "\n",
    "En el notebook, ya se encuentra cargada la libreria:\n",
    "\n",
    "```python\n",
    "from sklearn.mixture import GaussianMixture\n",
    "```\n"
   ]
  },
  {
   "cell_type": "code",
   "execution_count": 8,
   "metadata": {
    "id": "xj9H25Qkkyan"
   },
   "outputs": [],
   "source": [
    "#ejercicio de código\n",
    "def GMMClassifierTrain(X,Y,M,tipo):\n",
    "    \"\"\"metodo para entrenar un modelo de mezclas de gausianas\n",
    "    X: Matriz de caracteristicas\n",
    "    Y : Matriz con las clases\n",
    "    M: Número de componentes\n",
    "    tipo (str): Tipo de matriz de covarianza (los parametros que se\n",
    "          aceptan son los nombres de la  misma libreria:\n",
    "          ‘full’, ‘tied’, ‘diag’, ‘spherical’)\n",
    "    retorna: diccionario de con la estructura:\n",
    "        {etiqueta_clase: modelo_gmm_entrenado}\n",
    "    \"\"\" \n",
    "    GMMs = {}\n",
    "    for cl in np.unique(Y):\n",
    "        xclass = X[Y==cl, :]\n",
    "        gmm  =  GaussianMixture(n_components=M,covariance_type=tipo)\n",
    "        gmm.fit(xclass)\n",
    "        GMMs[cl]=gmm\n",
    "\n",
    "        \n",
    "    #Debe retornar un objeto que contenga todos los modelos entrenados  \n",
    "    return GMMs \n"
   ]
  },
  {
   "cell_type": "code",
   "execution_count": 9,
   "metadata": {
    "colab": {
     "base_uri": "https://localhost:8080/",
     "height": 34
    },
    "id": "0zOl0rx_kyao",
    "outputId": "37b93a2b-01d9-44ba-f461-0ec09916cbd3"
   },
   "outputs": [
    {
     "name": "stdout",
     "output_type": "stream",
     "text": [
      "TEST EXITOSO!\n"
     ]
    }
   ],
   "source": [
    "## la funcion que prueba tu implementacion\n",
    "GRADER.run_test(\"ejercicio2\", GMMClassifierTrain)"
   ]
  },
  {
   "cell_type": "markdown",
   "metadata": {
    "id": "RW6KTAO5kyaq"
   },
   "source": [
    "Adicionalmente construya una función que use los modelos entrenados en la función anterior para hacer la clasificación de un conjunto nuevo de muestras.\n"
   ]
  },
  {
   "cell_type": "code",
   "execution_count": 10,
   "metadata": {
    "id": "TrBGb_PFkyaq"
   },
   "outputs": [],
   "source": [
    "#ejercicio de código\n",
    "def GMMClassfierVal(GMMs,Xtest):\n",
    "    \"\"\"funcion que recibe los modelos GMM entrenados\n",
    "        y realiza predicciones con base a cada salida\n",
    "    GMMs: diccionario de con la estructura:\n",
    "        {etiqueta_clase: modelo_gmm_entrenado}\n",
    "    Xtest: matriz numpy con el cojunto de datos\n",
    "        de las caracteristicas de prueba/test\n",
    "    retorna: \n",
    "    - un numpy array con las estimaciones de de clase de cada \n",
    "        una de las muestras de Xtest\n",
    "    - matriz las probabilidades(en log) de cada clase por cada\n",
    "      muestra debe tener un shape [numero de muestras, numero de clases]\n",
    "    \"\"\"\n",
    "    prob = np.zeros((Xtest.shape[0], len(GMMs)))\n",
    "    \n",
    "    #pista explora los metodos de la libreria, que metodo retorna probabilidades?\n",
    "    for k,v in GMMs.items():\n",
    "      prob[:,k]= (v.score_samples(Xtest))    # la etiqueta la asignas seleccionando le maximo de probabilidad\n",
    "    Yest= np.argmax(prob,axis=1)\n",
    "    \n",
    "    return Yest, prob"
   ]
  },
  {
   "cell_type": "code",
   "execution_count": 11,
   "metadata": {
    "colab": {
     "base_uri": "https://localhost:8080/",
     "height": 34
    },
    "id": "ARKhErZCkyas",
    "outputId": "b06ef0e6-e51c-438f-9be8-6f6852dac754"
   },
   "outputs": [
    {
     "name": "stdout",
     "output_type": "stream",
     "text": [
      "TEST EXITOSO!\n"
     ]
    }
   ],
   "source": [
    "## la funcion que prueba tu implementacion\n",
    "#ignora las graficas!!\n",
    "GRADER.run_test(\"ejercicio3\", GMMClassfierVal)"
   ]
  },
  {
   "cell_type": "markdown",
   "metadata": {
    "id": "EOorjH6nkyau"
   },
   "source": [
    "## Ejercicio 3: Experimentos\n",
    "Con el código completado, vamos a realizar experimentos. Complete la siguiente función para poder obtener los resultados de los experimentos. Es necesario:\n",
    "1. retornar errores de entrenamiento y pruebas\n",
    "2. retornar intervalos de confianza (desviacion estandar) para cada una de la configuración de experimentos\n",
    "3. en el código, ya se sugiere la metodologia de validación (usando 4 folds) y se usa, como es usual el standard scaler para normalizar los datos."
   ]
  },
  {
   "cell_type": "code",
   "execution_count": 12,
   "metadata": {
    "id": "XBLei4VPkyau"
   },
   "outputs": [],
   "source": [
    "#ejercicio de código\n",
    "def experimentar(covariance_types,num_components, X, Y):\n",
    "    \"\"\"función que realiza experimentos del GMM\n",
    "    covariance_types: list[str] con las matrices de covarianza a probar\n",
    "    num_components: list[int] con el numero de componente a probar\n",
    "    X: matriz con las caractersiticas\n",
    "    Y: matriz de numpy con etiquetas\n",
    "    retorna: dataframe con:\n",
    "        - matriz de covarianza\n",
    "        - numero de componentes\n",
    "        - eficiencia de entrenamiento\n",
    "        - desviacion de estandar eficiencia de entrenamiento\n",
    "        - eficiencia de prueba\n",
    "        - desviacion estandar eficiencia de prueba\n",
    "    \"\"\"\n",
    "    folds = 4\n",
    "    skf = StratifiedKFold(n_splits=folds)\n",
    "    resultados = pd.DataFrame()\n",
    "    idx = 0\n",
    "\n",
    "    for cov_tipo in covariance_types:\n",
    "        for M in num_components:\n",
    "            ## para almacenar los errores intermedios\n",
    "            EficienciaTrain = []\n",
    "            EficienciaVal = []\n",
    "            for train, test in skf.split(X, Y):\n",
    "                Xtrain = X[train,:]\n",
    "                Ytrain = Y[train]\n",
    "                Xtest = X[test,:]\n",
    "                Ytest = Y[test]\n",
    "                #Normalizamos los datos\n",
    "                scaler = StandardScaler()\n",
    "                scaler.fit(Xtrain)\n",
    "                Xtrain= scaler.transform(Xtrain)\n",
    "                Xtest = scaler.transform(Xtest)\n",
    "                #Haga el llamado a la función para crear y entrenar el modelo usando los datos de entrenamiento\n",
    "                gmms = GMMClassifierTrain(Xtrain,Ytrain,M,cov_tipo)\n",
    "\n",
    "                #Validación se ignora la matriz de probabilidad\n",
    "                Ytrain_pred, _ = GMMClassfierVal(gmms,Xtrain)\n",
    "                Yest, _ = GMMClassfierVal(gmms,Xtest)\n",
    "                #Evaluamos las predicciones del modelo con los datos de test\n",
    "                EficienciaTrain.append(np.mean(Ytrain_pred.ravel() == Ytrain.ravel()))\n",
    "                EficienciaVal.append(np.mean(Yest.ravel() == Ytest.ravel()))\n",
    "\n",
    "            resultados.loc[idx,'matriz de covarianza'] = cov_tipo\n",
    "            resultados.loc[idx,'numero de componentes'] = M\n",
    "            resultados.loc[idx,'eficiencia de entrenamiento'] = np.mean(EficienciaTrain)\n",
    "            resultados.loc[idx,'desviacion estandar entrenamiento'] =np.std(EficienciaTrain)\n",
    "            resultados.loc[idx,'eficiencia de prueba'] = np.mean(EficienciaVal)\n",
    "            resultados.loc[idx,'desviacion estandar prueba'] = np.std(EficienciaVal)\n",
    "            idx= idx +1\n",
    "            print(\"termina para\", cov_tipo, M)\n",
    "        \n",
    "    return (resultados)"
   ]
  },
  {
   "cell_type": "code",
   "execution_count": 13,
   "metadata": {
    "colab": {
     "base_uri": "https://localhost:8080/",
     "height": 238
    },
    "id": "shHrHnvykyaw",
    "outputId": "808e70b7-3922-4afd-c6bd-0721f2e422c3"
   },
   "outputs": [
    {
     "name": "stdout",
     "output_type": "stream",
     "text": [
      "termina para full 1\n",
      "termina para full 2\n",
      "termina para full 3\n",
      "termina para tied 1\n",
      "termina para tied 2\n",
      "termina para tied 3\n",
      "termina para diag 1\n",
      "termina para diag 2\n",
      "termina para diag 3\n",
      "termina para spherical 1\n",
      "termina para spherical 2\n",
      "termina para spherical 3\n",
      "TEST EXITOSO!\n"
     ]
    }
   ],
   "source": [
    "## la funcion que prueba tu implementacion\n",
    "# los prints del test los puedes ignorar (se hacen unos checks!)\n",
    "GRADER.run_test(\"ejercicio4\", experimentar)"
   ]
  },
  {
   "cell_type": "markdown",
   "metadata": {
    "id": "JXy56hwbkyax"
   },
   "source": [
    "Ahora vamos a ejecutar nuestros experimentos:"
   ]
  },
  {
   "cell_type": "code",
   "execution_count": 14,
   "metadata": {
    "colab": {
     "base_uri": "https://localhost:8080/",
     "height": 357
    },
    "id": "AhheSKcvkyay",
    "outputId": "8da3e936-7281-4ee9-96a3-359a03c8cfc2"
   },
   "outputs": [
    {
     "name": "stdout",
     "output_type": "stream",
     "text": [
      "termina para full 1\n",
      "termina para full 2\n",
      "termina para full 3\n",
      "termina para full 4\n",
      "termina para full 5\n",
      "termina para tied 1\n",
      "termina para tied 2\n",
      "termina para tied 3\n",
      "termina para tied 4\n",
      "termina para tied 5\n",
      "termina para diag 1\n",
      "termina para diag 2\n",
      "termina para diag 3\n",
      "termina para diag 4\n",
      "termina para diag 5\n",
      "termina para spherical 1\n",
      "termina para spherical 2\n",
      "termina para spherical 3\n",
      "termina para spherical 4\n",
      "termina para spherical 5\n"
     ]
    }
   ],
   "source": [
    "matrices = ['full', 'tied', 'diag', 'spherical']\n",
    "componentes = [1,2,3,4,5]\n",
    "resultados = experimentar(matrices, componentes, x, y)"
   ]
  },
  {
   "cell_type": "code",
   "execution_count": 15,
   "metadata": {
    "colab": {
     "base_uri": "https://localhost:8080/",
     "height": 686
    },
    "id": "5uEfpgfGkyaz",
    "outputId": "3052e27d-ea85-4ed1-c5f6-4c76c228e83c"
   },
   "outputs": [
    {
     "data": {
      "text/html": [
       "<div>\n",
       "<style scoped>\n",
       "    .dataframe tbody tr th:only-of-type {\n",
       "        vertical-align: middle;\n",
       "    }\n",
       "\n",
       "    .dataframe tbody tr th {\n",
       "        vertical-align: top;\n",
       "    }\n",
       "\n",
       "    .dataframe thead th {\n",
       "        text-align: right;\n",
       "    }\n",
       "</style>\n",
       "<table border=\"1\" class=\"dataframe\">\n",
       "  <thead>\n",
       "    <tr style=\"text-align: right;\">\n",
       "      <th></th>\n",
       "      <th>matriz de covarianza</th>\n",
       "      <th>numero de componentes</th>\n",
       "      <th>eficiencia de entrenamiento</th>\n",
       "      <th>desviacion estandar entrenamiento</th>\n",
       "      <th>eficiencia de prueba</th>\n",
       "      <th>desviacion estandar prueba</th>\n",
       "    </tr>\n",
       "  </thead>\n",
       "  <tbody>\n",
       "    <tr>\n",
       "      <th>0</th>\n",
       "      <td>full</td>\n",
       "      <td>1.0</td>\n",
       "      <td>1.000000</td>\n",
       "      <td>0.000000</td>\n",
       "      <td>0.977822</td>\n",
       "      <td>0.011262</td>\n",
       "    </tr>\n",
       "    <tr>\n",
       "      <th>1</th>\n",
       "      <td>full</td>\n",
       "      <td>2.0</td>\n",
       "      <td>1.000000</td>\n",
       "      <td>0.000000</td>\n",
       "      <td>0.960059</td>\n",
       "      <td>0.012107</td>\n",
       "    </tr>\n",
       "    <tr>\n",
       "      <th>2</th>\n",
       "      <td>full</td>\n",
       "      <td>3.0</td>\n",
       "      <td>1.000000</td>\n",
       "      <td>0.000000</td>\n",
       "      <td>0.913432</td>\n",
       "      <td>0.004928</td>\n",
       "    </tr>\n",
       "    <tr>\n",
       "      <th>3</th>\n",
       "      <td>full</td>\n",
       "      <td>4.0</td>\n",
       "      <td>1.000000</td>\n",
       "      <td>0.000000</td>\n",
       "      <td>0.727070</td>\n",
       "      <td>0.109685</td>\n",
       "    </tr>\n",
       "    <tr>\n",
       "      <th>4</th>\n",
       "      <td>full</td>\n",
       "      <td>5.0</td>\n",
       "      <td>1.000000</td>\n",
       "      <td>0.000000</td>\n",
       "      <td>0.578299</td>\n",
       "      <td>0.060281</td>\n",
       "    </tr>\n",
       "    <tr>\n",
       "      <th>5</th>\n",
       "      <td>tied</td>\n",
       "      <td>1.0</td>\n",
       "      <td>1.000000</td>\n",
       "      <td>0.000000</td>\n",
       "      <td>0.977822</td>\n",
       "      <td>0.011262</td>\n",
       "    </tr>\n",
       "    <tr>\n",
       "      <th>6</th>\n",
       "      <td>tied</td>\n",
       "      <td>2.0</td>\n",
       "      <td>1.000000</td>\n",
       "      <td>0.000000</td>\n",
       "      <td>0.977822</td>\n",
       "      <td>0.011262</td>\n",
       "    </tr>\n",
       "    <tr>\n",
       "      <th>7</th>\n",
       "      <td>tied</td>\n",
       "      <td>3.0</td>\n",
       "      <td>1.000000</td>\n",
       "      <td>0.000000</td>\n",
       "      <td>0.976711</td>\n",
       "      <td>0.011429</td>\n",
       "    </tr>\n",
       "    <tr>\n",
       "      <th>8</th>\n",
       "      <td>tied</td>\n",
       "      <td>4.0</td>\n",
       "      <td>1.000000</td>\n",
       "      <td>0.000000</td>\n",
       "      <td>0.978933</td>\n",
       "      <td>0.012652</td>\n",
       "    </tr>\n",
       "    <tr>\n",
       "      <th>9</th>\n",
       "      <td>tied</td>\n",
       "      <td>5.0</td>\n",
       "      <td>1.000000</td>\n",
       "      <td>0.000000</td>\n",
       "      <td>0.977822</td>\n",
       "      <td>0.012897</td>\n",
       "    </tr>\n",
       "    <tr>\n",
       "      <th>10</th>\n",
       "      <td>diag</td>\n",
       "      <td>1.0</td>\n",
       "      <td>0.990752</td>\n",
       "      <td>0.001222</td>\n",
       "      <td>0.967807</td>\n",
       "      <td>0.008554</td>\n",
       "    </tr>\n",
       "    <tr>\n",
       "      <th>11</th>\n",
       "      <td>diag</td>\n",
       "      <td>2.0</td>\n",
       "      <td>0.997040</td>\n",
       "      <td>0.002340</td>\n",
       "      <td>0.964469</td>\n",
       "      <td>0.009971</td>\n",
       "    </tr>\n",
       "    <tr>\n",
       "      <th>12</th>\n",
       "      <td>diag</td>\n",
       "      <td>3.0</td>\n",
       "      <td>0.999260</td>\n",
       "      <td>0.000740</td>\n",
       "      <td>0.957793</td>\n",
       "      <td>0.020021</td>\n",
       "    </tr>\n",
       "    <tr>\n",
       "      <th>13</th>\n",
       "      <td>diag</td>\n",
       "      <td>4.0</td>\n",
       "      <td>0.997781</td>\n",
       "      <td>0.003050</td>\n",
       "      <td>0.945570</td>\n",
       "      <td>0.032886</td>\n",
       "    </tr>\n",
       "    <tr>\n",
       "      <th>14</th>\n",
       "      <td>diag</td>\n",
       "      <td>5.0</td>\n",
       "      <td>0.999630</td>\n",
       "      <td>0.000641</td>\n",
       "      <td>0.967822</td>\n",
       "      <td>0.013809</td>\n",
       "    </tr>\n",
       "    <tr>\n",
       "      <th>15</th>\n",
       "      <td>spherical</td>\n",
       "      <td>1.0</td>\n",
       "      <td>0.970771</td>\n",
       "      <td>0.004116</td>\n",
       "      <td>0.881234</td>\n",
       "      <td>0.013544</td>\n",
       "    </tr>\n",
       "    <tr>\n",
       "      <th>16</th>\n",
       "      <td>spherical</td>\n",
       "      <td>2.0</td>\n",
       "      <td>0.983350</td>\n",
       "      <td>0.004843</td>\n",
       "      <td>0.897856</td>\n",
       "      <td>0.019499</td>\n",
       "    </tr>\n",
       "    <tr>\n",
       "      <th>17</th>\n",
       "      <td>spherical</td>\n",
       "      <td>3.0</td>\n",
       "      <td>0.986682</td>\n",
       "      <td>0.001040</td>\n",
       "      <td>0.871229</td>\n",
       "      <td>0.016491</td>\n",
       "    </tr>\n",
       "    <tr>\n",
       "      <th>18</th>\n",
       "      <td>spherical</td>\n",
       "      <td>4.0</td>\n",
       "      <td>0.989641</td>\n",
       "      <td>0.002768</td>\n",
       "      <td>0.860177</td>\n",
       "      <td>0.011240</td>\n",
       "    </tr>\n",
       "    <tr>\n",
       "      <th>19</th>\n",
       "      <td>spherical</td>\n",
       "      <td>5.0</td>\n",
       "      <td>0.991860</td>\n",
       "      <td>0.002673</td>\n",
       "      <td>0.875728</td>\n",
       "      <td>0.029469</td>\n",
       "    </tr>\n",
       "  </tbody>\n",
       "</table>\n",
       "</div>"
      ],
      "text/plain": [
       "   matriz de covarianza  numero de componentes  eficiencia de entrenamiento  \\\n",
       "0                  full                    1.0                     1.000000   \n",
       "1                  full                    2.0                     1.000000   \n",
       "2                  full                    3.0                     1.000000   \n",
       "3                  full                    4.0                     1.000000   \n",
       "4                  full                    5.0                     1.000000   \n",
       "5                  tied                    1.0                     1.000000   \n",
       "6                  tied                    2.0                     1.000000   \n",
       "7                  tied                    3.0                     1.000000   \n",
       "8                  tied                    4.0                     1.000000   \n",
       "9                  tied                    5.0                     1.000000   \n",
       "10                 diag                    1.0                     0.990752   \n",
       "11                 diag                    2.0                     0.997040   \n",
       "12                 diag                    3.0                     0.999260   \n",
       "13                 diag                    4.0                     0.997781   \n",
       "14                 diag                    5.0                     0.999630   \n",
       "15            spherical                    1.0                     0.970771   \n",
       "16            spherical                    2.0                     0.983350   \n",
       "17            spherical                    3.0                     0.986682   \n",
       "18            spherical                    4.0                     0.989641   \n",
       "19            spherical                    5.0                     0.991860   \n",
       "\n",
       "    desviacion estandar entrenamiento  eficiencia de prueba  \\\n",
       "0                            0.000000              0.977822   \n",
       "1                            0.000000              0.960059   \n",
       "2                            0.000000              0.913432   \n",
       "3                            0.000000              0.727070   \n",
       "4                            0.000000              0.578299   \n",
       "5                            0.000000              0.977822   \n",
       "6                            0.000000              0.977822   \n",
       "7                            0.000000              0.976711   \n",
       "8                            0.000000              0.978933   \n",
       "9                            0.000000              0.977822   \n",
       "10                           0.001222              0.967807   \n",
       "11                           0.002340              0.964469   \n",
       "12                           0.000740              0.957793   \n",
       "13                           0.003050              0.945570   \n",
       "14                           0.000641              0.967822   \n",
       "15                           0.004116              0.881234   \n",
       "16                           0.004843              0.897856   \n",
       "17                           0.001040              0.871229   \n",
       "18                           0.002768              0.860177   \n",
       "19                           0.002673              0.875728   \n",
       "\n",
       "    desviacion estandar prueba  \n",
       "0                     0.011262  \n",
       "1                     0.012107  \n",
       "2                     0.004928  \n",
       "3                     0.109685  \n",
       "4                     0.060281  \n",
       "5                     0.011262  \n",
       "6                     0.011262  \n",
       "7                     0.011429  \n",
       "8                     0.012652  \n",
       "9                     0.012897  \n",
       "10                    0.008554  \n",
       "11                    0.009971  \n",
       "12                    0.020021  \n",
       "13                    0.032886  \n",
       "14                    0.013809  \n",
       "15                    0.013544  \n",
       "16                    0.019499  \n",
       "17                    0.016491  \n",
       "18                    0.011240  \n",
       "19                    0.029469  "
      ]
     },
     "execution_count": 15,
     "metadata": {},
     "output_type": "execute_result"
    }
   ],
   "source": [
    "# para ver la tabla\n",
    "resultados"
   ]
  },
  {
   "cell_type": "code",
   "execution_count": 16,
   "metadata": {
    "cellView": "form",
    "id": "Zv18FE_nkya2"
   },
   "outputs": [],
   "source": [
    "#@title Pregunta Abierta\n",
    "#@markdown La tabla incluye un tipo de matriz de covarianza no vista en clase, Atada(tied), ¿En qué consiste este tipo de matriz según la documentación en scikit-learn?\n",
    "respuesta_2 = \"Segun la documentación scikit-learn, una matriz de covarianza atada es cuando todos los componentes comparten la misma matriz de covarianza.\" #@param {type:\"string\"}"
   ]
  },
  {
   "cell_type": "code",
   "execution_count": 17,
   "metadata": {
    "cellView": "form",
    "id": "9E_LNaFpkya4"
   },
   "outputs": [],
   "source": [
    "#@title Pregunta Abierta\n",
    "#@markdown ¿Qué método se utilizó para la incialización de los parámetros del modelo GMM? ¿Cual es la diferencia entre el usado y la otra opción de la libreria?\n",
    "respuesta_3 = \"Al no especificarse en el constructor, la inicialización de los parámetros se hace con Kmeans y como su nombre lo indica las responsabilidades se inicializan con este algoritmo mientras que la otra opción los inicializa aleatoriamente\" #@param {type:\"string\"}"
   ]
  },
  {
   "cell_type": "markdown",
   "metadata": {
    "id": "-HcG_ejYkya5"
   },
   "source": [
    "## Ejercicio 4 Kmeans y experimentos\n",
    "\n",
    "\n",
    "Consultar todo lo relacionado al llamado del método KMeans de la librería scikit-learn en el siguiente enlace: http://scikit-learn.org/stable/modules/generated/sklearn.cluster.KMeans.html. \n",
    "\n",
    "En el notebook, ya se encuentra cargada la libreria:\n",
    "\n",
    "```python\n",
    "from sklearn.cluster import KMeans\n",
    "```\n",
    "\n",
    "Vamos a resolver el mismo problema anterior pero con el K-means. La libreria nos la suficiente utilidad para ya poder comenzar a realizar experimentos con ella. Por ellos vamos a implementar la función para realizar los experimentos."
   ]
  },
  {
   "cell_type": "code",
   "execution_count": 18,
   "metadata": {
    "id": "SYFhQHutkya7"
   },
   "outputs": [],
   "source": [
    "#ejercicio de código\n",
    "#Validamos el modelo\n",
    "def experimentar_kmeans(numero_clusters,X, Y):\n",
    "    \"\"\"función que realiza experimentos de Kmeans\n",
    "    numero_clusters: list[int] numero cluster para realizar experimentos\n",
    "    X: matriz con las caractersiticas\n",
    "    Y: matriz de numpy con etiquetas\n",
    "    retorna: dataframe con:\n",
    "        - numero_clusters\n",
    "        - el error de entrenamiento\n",
    "        - desviacion de estandar del error entrenamiento\n",
    "        - error de prueba\n",
    "        - desviacion estandar eror de prueba\n",
    "    \"\"\"\n",
    "    folds = 4\n",
    "    skf = StratifiedKFold(n_splits=folds)\n",
    "    resultados = pd.DataFrame()\n",
    "    idx = 0\n",
    "\n",
    "    for n_cluster in numero_clusters:\n",
    "        ## para almacenar los errores intermedios\n",
    "        EficienciaTrain = []\n",
    "        EficienciaVal = []\n",
    "        for train, test in skf.split(X, Y):\n",
    "            Xtrain = X[train,:]\n",
    "            Ytrain = Y[train]\n",
    "            Xtest = X[test,:]\n",
    "            Ytest = Y[test]\n",
    "            #Normalizamos los datos\n",
    "            scaler = StandardScaler()\n",
    "            scaler.fit(Xtrain)\n",
    "            Xtrain= scaler.transform(Xtrain)\n",
    "            Xtest = scaler.transform(Xtest)\n",
    "            #verifica como pasar n_cluster a KMeans\n",
    "            kmeans = KMeans(n_clusters=n_cluster)\n",
    "            #¿que metodo debes llamar para entrenar kmeans?\n",
    "            kmeans.fit(Xtrain,Ytrain)\n",
    "            #predicciones en cada conjunto\n",
    "            # ¿que metodo debes llamar para realizar preddiciones con kmeans?\n",
    "            Ytrain_pred = kmeans.predict(Xtrain)\n",
    "            Yest  = kmeans.predict(Xtest)\n",
    "            #Evaluamos las predicciones del modelo con los datos de test\n",
    "            EficienciaTrain.append(np.mean(Ytrain_pred.ravel() == Ytrain.ravel()))\n",
    "            EficienciaVal.append(np.mean(Yest.ravel() == Ytest.ravel()))\n",
    "\n",
    "        resultados.loc[idx,'numero de clusters'] = n_cluster\n",
    "        resultados.loc[idx,'eficiencia de entrenamiento'] = np.mean(EficienciaTrain)\n",
    "        resultados.loc[idx,'desviacion estandar entrenamiento'] = np.std(EficienciaTrain)\n",
    "        resultados.loc[idx,'eficiencia de prueba'] = np.mean(EficienciaVal)\n",
    "        resultados.loc[idx,'desviacion estandar prueba'] =np.std(EficienciaVal)\n",
    "        idx= idx +1\n",
    "        print(\"termina para\", n_cluster)\n",
    "        \n",
    "    return (resultados)"
   ]
  },
  {
   "cell_type": "code",
   "execution_count": 19,
   "metadata": {
    "cellView": "code",
    "colab": {
     "base_uri": "https://localhost:8080/",
     "height": 85
    },
    "id": "M_ojP0hSkya9",
    "outputId": "4c3cbc74-1a22-4cbf-965a-786ad6be8e2c"
   },
   "outputs": [
    {
     "name": "stdout",
     "output_type": "stream",
     "text": [
      "termina para 1\n",
      "termina para 2\n",
      "termina para 3\n",
      "TEST EXITOSO!\n"
     ]
    }
   ],
   "source": [
    "#@title Default title text\n",
    "## la funcion que prueba tu implementacion\n",
    "#ignora las graficas!!\n",
    "GRADER.run_test(\"ejercicio5\", experimentar_kmeans)"
   ]
  },
  {
   "cell_type": "code",
   "execution_count": 20,
   "metadata": {
    "colab": {
     "base_uri": "https://localhost:8080/",
     "height": 258
    },
    "id": "CC0WGj4Zkya-",
    "outputId": "8e795d39-17ef-4320-e766-4a257a1a6db6"
   },
   "outputs": [
    {
     "name": "stdout",
     "output_type": "stream",
     "text": [
      "termina para 3\n",
      "termina para 5\n",
      "termina para 6\n",
      "termina para 7\n",
      "termina para 8\n",
      "termina para 9\n"
     ]
    },
    {
     "data": {
      "text/html": [
       "<div>\n",
       "<style scoped>\n",
       "    .dataframe tbody tr th:only-of-type {\n",
       "        vertical-align: middle;\n",
       "    }\n",
       "\n",
       "    .dataframe tbody tr th {\n",
       "        vertical-align: top;\n",
       "    }\n",
       "\n",
       "    .dataframe thead th {\n",
       "        text-align: right;\n",
       "    }\n",
       "</style>\n",
       "<table border=\"1\" class=\"dataframe\">\n",
       "  <thead>\n",
       "    <tr style=\"text-align: right;\">\n",
       "      <th></th>\n",
       "      <th>numero de clusters</th>\n",
       "      <th>eficiencia de entrenamiento</th>\n",
       "      <th>desviacion estandar entrenamiento</th>\n",
       "      <th>eficiencia de prueba</th>\n",
       "      <th>desviacion estandar prueba</th>\n",
       "    </tr>\n",
       "  </thead>\n",
       "  <tbody>\n",
       "    <tr>\n",
       "      <th>0</th>\n",
       "      <td>3.0</td>\n",
       "      <td>0.231272</td>\n",
       "      <td>0.111361</td>\n",
       "      <td>0.211898</td>\n",
       "      <td>0.080681</td>\n",
       "    </tr>\n",
       "    <tr>\n",
       "      <th>1</th>\n",
       "      <td>5.0</td>\n",
       "      <td>0.141288</td>\n",
       "      <td>0.072550</td>\n",
       "      <td>0.159897</td>\n",
       "      <td>0.054378</td>\n",
       "    </tr>\n",
       "    <tr>\n",
       "      <th>2</th>\n",
       "      <td>6.0</td>\n",
       "      <td>0.159514</td>\n",
       "      <td>0.129832</td>\n",
       "      <td>0.161878</td>\n",
       "      <td>0.123575</td>\n",
       "    </tr>\n",
       "    <tr>\n",
       "      <th>3</th>\n",
       "      <td>7.0</td>\n",
       "      <td>0.261472</td>\n",
       "      <td>0.174487</td>\n",
       "      <td>0.257734</td>\n",
       "      <td>0.166502</td>\n",
       "    </tr>\n",
       "    <tr>\n",
       "      <th>4</th>\n",
       "      <td>8.0</td>\n",
       "      <td>0.156536</td>\n",
       "      <td>0.150977</td>\n",
       "      <td>0.140860</td>\n",
       "      <td>0.105879</td>\n",
       "    </tr>\n",
       "    <tr>\n",
       "      <th>5</th>\n",
       "      <td>9.0</td>\n",
       "      <td>0.155337</td>\n",
       "      <td>0.076347</td>\n",
       "      <td>0.142207</td>\n",
       "      <td>0.083052</td>\n",
       "    </tr>\n",
       "  </tbody>\n",
       "</table>\n",
       "</div>"
      ],
      "text/plain": [
       "   numero de clusters  eficiencia de entrenamiento  \\\n",
       "0                 3.0                     0.231272   \n",
       "1                 5.0                     0.141288   \n",
       "2                 6.0                     0.159514   \n",
       "3                 7.0                     0.261472   \n",
       "4                 8.0                     0.156536   \n",
       "5                 9.0                     0.155337   \n",
       "\n",
       "   desviacion estandar entrenamiento  eficiencia de prueba  \\\n",
       "0                           0.111361              0.211898   \n",
       "1                           0.072550              0.159897   \n",
       "2                           0.129832              0.161878   \n",
       "3                           0.174487              0.257734   \n",
       "4                           0.150977              0.140860   \n",
       "5                           0.076347              0.142207   \n",
       "\n",
       "   desviacion estandar prueba  \n",
       "0                    0.080681  \n",
       "1                    0.054378  \n",
       "2                    0.123575  \n",
       "3                    0.166502  \n",
       "4                    0.105879  \n",
       "5                    0.083052  "
      ]
     },
     "execution_count": 20,
     "metadata": {},
     "output_type": "execute_result"
    }
   ],
   "source": [
    "# ejecuta los experimentos y ve los resultados\n",
    "resultados_kmeans = experimentar_kmeans([3,5,6,7,8,9],x, y)\n",
    "resultados_kmeans"
   ]
  },
  {
   "cell_type": "code",
   "execution_count": 21,
   "metadata": {
    "cellView": "form",
    "id": "Op_AHOAgkybA"
   },
   "outputs": [],
   "source": [
    "#@title Pregunta Abierta\n",
    "#@markdown  ¿Tiene sentido realizar experimentos con una configuraración de n_clusters!=5? justifique \n",
    "respuesta_4 = \"No tiene sentido porque para este ejercicio contamos con 5 clases, lo cual nos dice que que debemos agrupar en 5 cluster. No tiene sentido utilizar un número diferente de clusters para esta cantidad de clases porque estaríamos forzando un error en el agrupamiento.\" #@param {type:\"string\"}"
   ]
  },
  {
   "cell_type": "markdown",
   "metadata": {
    "id": "zu7LsXk_kybB"
   },
   "source": [
    "tener presente que tipo de entrenamiento realiza el kmeans: ¿supervisado o no supervisado? interpreta la grafica resultante de ejecutar la siguiente linea de código. Algunas observaciones de la grafica:\n",
    "1. Si bien nuestro conjunto datos tiene 40 caracteristicas, vamos representarlo solo con las dos primeras dimensiones.\n",
    "2. Completa el codigo, con el numero de clusters con la cual se obtuvo la mejor eficiencia en los experimentos."
   ]
  },
  {
   "cell_type": "code",
   "execution_count": 22,
   "metadata": {
    "colab": {
     "base_uri": "https://localhost:8080/",
     "height": 400
    },
    "id": "-PxpuVWmkybC",
    "outputId": "0960df0f-ee55-41b8-af03-c3c23d59e272"
   },
   "outputs": [
    {
     "data": {
      "text/plain": [
       "<seaborn.axisgrid.FacetGrid at 0x7f0c8469fca0>"
      ]
     },
     "execution_count": 22,
     "metadata": {},
     "output_type": "execute_result"
    },
    {
     "data": {
      "image/png": "[encoded data removed]",
      "text/plain": [
       "<Figure size 781.875x360 with 2 Axes>"
      ]
     },
     "metadata": {
      "needs_background": "light"
     },
     "output_type": "display_data"
    }
   ],
   "source": [
    "numero_clusters =5 # aca el numero de cluster con la mejor eficiencia\n",
    "predict = KMeans(n_clusters=numero_clusters).fit_predict(StandardScaler().fit_transform(x))\n",
    "real = pd.DataFrame(x[:, 0:2], columns=['PC1', 'PC2'])\n",
    "real['clase'] = y\n",
    "real['tipo de etiqueta'] = 'Real'\n",
    "kmeans = pd.DataFrame(x[:, 0:2], columns=['PC1', 'PC2'])\n",
    "kmeans['clase'] = predict\n",
    "kmeans['tipo de etiqueta'] = 'Asignada por Kmeans'\n",
    "data_to_plot = pd.concat([real, kmeans], ignore_index=True)\n",
    "data_to_plot['clase'] = data_to_plot['clase'].astype('category')\n",
    "sns.relplot(data = data_to_plot, x = 'PC1', y='PC2', hue= 'clase', col='tipo de etiqueta')"
   ]
  },
  {
   "cell_type": "code",
   "execution_count": 23,
   "metadata": {
    "cellView": "form",
    "id": "X_xcA2LTkybE"
   },
   "outputs": [],
   "source": [
    "#@title Pregunta Abierta\n",
    "#@markdown  ¿con base a los resultados que modelo es el más adecuado entre el k-means y el GMM? justifique.\n",
    "respuesta_6 = \"Con base en los resultados GMM es un modelo más adecuado obteniendo 3 veces mejor eficiencia que la que se logró con k-means\" #@param {type:\"string\"}"
   ]
  },
  {
   "cell_type": "code",
   "execution_count": 24,
   "metadata": {
    "id": "jjN45dUAkybF"
   },
   "outputs": [
    {
     "name": "stdout",
     "output_type": "stream",
     "text": [
      "Todo se ve ok. Asegurate de responder las preguntas abiertas y envia e archivo al formulario ¡buen trabajo!\n"
     ]
    }
   ],
   "source": [
    "GRADER.check_tests()"
   ]
  },
  {
   "cell_type": "code",
   "execution_count": 25,
   "metadata": {
    "id": "DrYzIcRJkybH"
   },
   "outputs": [],
   "source": [
    "#@title Integrantes\n",
    "codigo_integrante_1 ='1152219543' #@param {type:\"string\"}\n",
    "codigo_integrante_2 = ''  #@param {type:\"string\"}"
   ]
  },
  {
   "cell_type": "markdown",
   "metadata": {
    "id": "guu6JrtRkybJ"
   },
   "source": [
    "----\n",
    "esta linea de codigo va fallar, es de uso exclusivo de los profesores\n"
   ]
  },
  {
   "cell_type": "code",
   "execution_count": 26,
   "metadata": {
    "id": "KcaIVi5CkybJ"
   },
   "outputs": [
    {
     "name": "stdout",
     "output_type": "stream",
     "text": [
      "uso del docente\n"
     ]
    }
   ],
   "source": [
    "GRADER.grade()"
   ]
  },
  {
   "cell_type": "code",
   "execution_count": null,
   "metadata": {
    "id": "rAr64WaKomFD"
   },
   "outputs": [],
   "source": []
  }
 ],
 "metadata": {
  "colab": {
   "name": "lab3_parte1.ipynb",
   "provenance": []
  },
  "kernelspec": {
   "display_name": "Python 3",
   "language": "python",
   "name": "python3"
  },
  "language_info": {
   "codemirror_mode": {
    "name": "ipython",
    "version": 3
   },
   "file_extension": ".py",
   "mimetype": "text/x-python",
   "name": "python",
   "nbconvert_exporter": "python",
   "pygments_lexer": "ipython3",
   "version": "3.8.3"
  }
 },
 "nbformat": 4,
 "nbformat_minor": 1
}
