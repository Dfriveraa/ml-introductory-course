{
 "cells": [
  {
   "cell_type": "markdown",
   "metadata": {
    "colab_type": "text",
    "id": "DyhyA0EkYySm"
   },
   "source": [
    "<a href=\"https://colab.research.google.com/github/jdariasl/ML_2020/blob/master/Labs/lab1/lab1_parte2.ipynb\" target=\"_parent\"><img src=\"https://colab.research.google.com/assets/colab-badge.svg\" alt=\"Open In Colab\"/></a>\n",
    "\n",
    "**Recuerda que una vez abierto, Da clic en \"Copiar en Drive\", de lo contrario no podras alamancenar tu progreso**\n",
    "\n",
    "Nota: no olvide ir ejecutando las celdas de código de arriba hacia abajo para que no tenga errores de importación de librerías o por falta de definición de variables.\n"
   ]
  },
  {
   "cell_type": "code",
   "execution_count": 1,
   "metadata": {
    "colab": {
     "base_uri": "https://localhost:8080/",
     "height": 309
    },
    "colab_type": "code",
    "executionInfo": {
     "elapsed": 11306,
     "status": "ok",
     "timestamp": 1600430758826,
     "user": {
      "displayName": "DANIEL FELIPE RIVERA ARROYAVE",
      "photoUrl": "https://lh3.googleusercontent.com/a-/AOh14GhKUcXWForDRzN8KQTJax_-Hooo1DeBYp0of1gL_A=s64",
      "userId": "01701263505455054832"
     },
     "user_tz": 300
    },
    "id": "fYhyYxyrYySm",
    "outputId": "afecb0ea-1d29-4961-c2a7-1a3fbbb1f075",
    "tags": []
   },
   "outputs": [
    {
     "name": "stdout",
     "output_type": "stream",
     "text": [
      "--2020-10-19 06:46:40--  https://raw.githubusercontent.com/jdariasl/ML_2020/master/Labs/commons/utils/general.py\n",
      "Resolving raw.githubusercontent.com (raw.githubusercontent.com)... 199.232.48.133\n",
      "Connecting to raw.githubusercontent.com (raw.githubusercontent.com)|199.232.48.133|:443... connected.\n",
      "HTTP request sent, awaiting response... 200 OK\n",
      "Length: 13949 (14K) [text/plain]\n",
      "Saving to: ‘general.py’\n",
      "\n",
      "general.py          100%[===================>]  13.62K  --.-KB/s    in 0.03s   \n",
      "\n",
      "2020-10-19 06:46:41 (523 KB/s) - ‘general.py’ saved [13949/13949]\n",
      "\n",
      "lab configuration started\n",
      "installing libraries\n",
      "downloading files\n",
      "lab configured\n",
      "cargando librerias y variables al ambiente\n"
     ]
    }
   ],
   "source": [
    "#configuración del laboratorio\n",
    "# Ejecuta esta celda!\n",
    "%load_ext autoreload\n",
    "%autoreload 2\n",
    "!wget https://raw.githubusercontent.com/jdariasl/ML_2020/master/Labs/commons/utils/general.py -O general.py\n",
    "from general import configure_lab1_p2\n",
    "configure_lab1_p2()\n",
    "from lab1 import *\n",
    "GRADER, x, y = part_2()"
   ]
  },
  {
   "cell_type": "markdown",
   "metadata": {
    "colab_type": "text",
    "id": "X0kgAjuBYySp"
   },
   "source": [
    "## Laboratorio 1 - Parte 2\n",
    "\n",
    "**Regresión logística**\n",
    "\n"
   ]
  },
  {
   "cell_type": "markdown",
   "metadata": {
    "colab_type": "text",
    "id": "e0gwFeCnYySq"
   },
   "source": [
    "## Ejercicio 1: Contextualización del problema\n",
    "\n",
    "En esta sesión de laboratorio, vamos a resolver un problema de clasificación. Los variables que vamos a usar ya se encuentran cargadas:\n",
    "\n"
   ]
  },
  {
   "cell_type": "code",
   "execution_count": 2,
   "metadata": {
    "colab": {
     "base_uri": "https://localhost:8080/",
     "height": 408
    },
    "colab_type": "code",
    "executionInfo": {
     "elapsed": 11285,
     "status": "ok",
     "timestamp": 1600430758827,
     "user": {
      "displayName": "DANIEL FELIPE RIVERA ARROYAVE",
      "photoUrl": "https://lh3.googleusercontent.com/a-/AOh14GhKUcXWForDRzN8KQTJax_-Hooo1DeBYp0of1gL_A=s64",
      "userId": "01701263505455054832"
     },
     "user_tz": 300
    },
    "id": "A-jBTrc4YySq",
    "outputId": "a468f379-f66d-4130-da19-a67b46ad2965",
    "tags": []
   },
   "outputs": [
    {
     "name": "stdout",
     "output_type": "stream",
     "text": [
      "conjunto de datos, muestra \n",
      " [[ 3.92606402 -6.83699086]\n",
      " [ 7.43382787 -3.7485991 ]\n",
      " [ 6.20553473  4.77182668]\n",
      " [ 6.77983287 -3.07765299]\n",
      " [-5.92614125 -4.87588843]\n",
      " [ 7.49283136  3.9516693 ]\n",
      " [-1.65572633  6.86081477]\n",
      " [-8.14881988 -1.85421149]\n",
      " [ 8.12616581 -1.66701921]\n",
      " [ 9.73411311 -1.63724335]]\n",
      "\n",
      " muestra de etiquetas a predecir \n",
      " [[1]\n",
      " [1]\n",
      " [1]\n",
      " [1]\n",
      " [1]\n",
      " [1]\n",
      " [1]\n",
      " [1]\n",
      " [1]\n",
      " [1]]\n"
     ]
    }
   ],
   "source": [
    "# tienes ya cargadas las siguientes variables:\n",
    "print(\"conjunto de datos, muestra \\n\",x[range(10), :] )\n",
    "print(\"\")\n",
    "print(\" muestra de etiquetas a predecir \\n\", y[range(10)])"
   ]
  },
  {
   "cell_type": "code",
   "execution_count": 3,
   "metadata": {
    "colab": {
     "base_uri": "https://localhost:8080/",
     "height": 34
    },
    "colab_type": "code",
    "executionInfo": {
     "elapsed": 11273,
     "status": "ok",
     "timestamp": 1600430758828,
     "user": {
      "displayName": "DANIEL FELIPE RIVERA ARROYAVE",
      "photoUrl": "https://lh3.googleusercontent.com/a-/AOh14GhKUcXWForDRzN8KQTJax_-Hooo1DeBYp0of1gL_A=s64",
      "userId": "01701263505455054832"
     },
     "user_tz": 300
    },
    "id": "p0VxtV5r1pzZ",
    "outputId": "d8d37363-4811-41cd-e119-0874e479648c"
   },
   "outputs": [
    {
     "name": "stdout",
     "output_type": "stream",
     "text": [
      "[0 1]\n"
     ]
    }
   ],
   "source": [
    "print((np.unique(y)))"
   ]
  },
  {
   "cell_type": "code",
   "execution_count": 4,
   "metadata": {
    "colab": {},
    "colab_type": "code",
    "id": "5lvqd4i0YySs"
   },
   "outputs": [],
   "source": [
    "#Ejercicio de Codigo\n",
    "def clases_muestras_carac(X, Y):\n",
    "    \"\"\"Esta funcion es encargada retornar el numero clases, muestras \n",
    "        y caracteristicas del conjunto de datos X y Y\n",
    "\n",
    "        X: matriz numpy con el conjunto de datos para entrenamiento\n",
    "        Y: matriz numpy con el conjunto de etiquetas\n",
    "        retorna:\n",
    "            numero de clases (int/float)\n",
    "            numero de muestras (int/float)\n",
    "            numero de caracteristicas (int/float)\n",
    "    \"\"\"\n",
    "    ##Pista: es de utilidad el metodo np.unique ?\n",
    "    N,nf =X.shape\n",
    "    clases = len(np.unique(Y))\n",
    "    \n",
    "    return (N,nf,clases)"
   ]
  },
  {
   "cell_type": "code",
   "execution_count": 5,
   "metadata": {
    "colab": {
     "base_uri": "https://localhost:8080/",
     "height": 34
    },
    "colab_type": "code",
    "executionInfo": {
     "elapsed": 11257,
     "status": "ok",
     "timestamp": 1600430758832,
     "user": {
      "displayName": "DANIEL FELIPE RIVERA ARROYAVE",
      "photoUrl": "https://lh3.googleusercontent.com/a-/AOh14GhKUcXWForDRzN8KQTJax_-Hooo1DeBYp0of1gL_A=s64",
      "userId": "01701263505455054832"
     },
     "user_tz": 300
    },
    "id": "jBS6kWmkYySu",
    "outputId": "5f81103c-8843-46c7-e293-d0400eccc03d",
    "tags": []
   },
   "outputs": [
    {
     "name": "stdout",
     "output_type": "stream",
     "text": [
      "TEST EXITOSO!\n"
     ]
    }
   ],
   "source": [
    "## la funcion que prueba tu implementacion\n",
    "GRADER.run_test(\"ejercicio1\", clases_muestras_carac)"
   ]
  },
  {
   "cell_type": "markdown",
   "metadata": {
    "colab_type": "text",
    "id": "I8zabv6IYySw"
   },
   "source": [
    "En los problemas de clasificación, que lo permiten, es de utilidad visualizar los datos. De esta manera uno puede determinar que modelos o algortimos pueden tener mejor rendimiento. En la siguiente función, debera, graficar los datos usando la función [scatter](https://matplotlib.org/gallery/shapes_and_collections/scatter.html) de matplotlib."
   ]
  },
  {
   "cell_type": "code",
   "execution_count": 6,
   "metadata": {
    "colab": {},
    "colab_type": "code",
    "id": "xjiRibSVYySw"
   },
   "outputs": [],
   "source": [
    "#Ejercicio de Codigo\n",
    "def scatter_plot(X, Y):\n",
    "    \"\"\"Esta funcion es encargada de graficar usando un scatter plot\n",
    "       un problema de clasificacion.\n",
    "\n",
    "        X: matriz numpy con el conjunto de datos para entrenamiento.\n",
    "           esta debera ser usada para los ejes del grafico. puede asumir\n",
    "           que solo va tener dos columnas\n",
    "        Y: matriz numpy con el conjunto de etiquetas. Debera se usada\n",
    "           para mostrar en diferentes colores, las etiquetas de cada una\n",
    "           de las muestras\n",
    "        retorna:\n",
    "            grafica matplotlib\n",
    "    \"\"\"\n",
    "    ## puedes accerder con plt al funcion adecuacada\n",
    "    ## Pista: recuerda como indexar matrices\n",
    "    ## Pista: recuerda el uso de np.ravel\n",
    "    \n",
    "\n",
    "    plt.scatter(X[:,0],X[:,1], c=Y[:], alpha = 0.5)\n",
    "    figure = plt.gcf()\n",
    "    plt.show()   \n",
    "    return (figure)"
   ]
  },
  {
   "cell_type": "code",
   "execution_count": 7,
   "metadata": {
    "colab": {
     "base_uri": "https://localhost:8080/",
     "height": 282
    },
    "colab_type": "code",
    "executionInfo": {
     "elapsed": 10527,
     "status": "ok",
     "timestamp": 1600430759489,
     "user": {
      "displayName": "DANIEL FELIPE RIVERA ARROYAVE",
      "photoUrl": "https://lh3.googleusercontent.com/a-/AOh14GhKUcXWForDRzN8KQTJax_-Hooo1DeBYp0of1gL_A=s64",
      "userId": "01701263505455054832"
     },
     "user_tz": 300
    },
    "id": "5fdDHIH0YyS0",
    "outputId": "b038f5c5-9f32-42e1-90ae-8d46b71c4009",
    "tags": []
   },
   "outputs": [
    {
     "data": {
      "image/png": "[encoded data removed]",
      "text/plain": [
       "<Figure size 432x288 with 1 Axes>"
      ]
     },
     "metadata": {
      "needs_background": "light"
     },
     "output_type": "display_data"
    },
    {
     "name": "stdout",
     "output_type": "stream",
     "text": [
      "TEST EXITOSO!\n"
     ]
    }
   ],
   "source": [
    "## la funcion que prueba tu implementacion\n",
    "# ignora los graficos que se muestran \n",
    "GRADER.run_test(\"ejercicio2\", scatter_plot)"
   ]
  },
  {
   "cell_type": "code",
   "execution_count": 8,
   "metadata": {
    "colab": {
     "base_uri": "https://localhost:8080/",
     "height": 513
    },
    "colab_type": "code",
    "executionInfo": {
     "elapsed": 8751,
     "status": "ok",
     "timestamp": 1600430759990,
     "user": {
      "displayName": "DANIEL FELIPE RIVERA ARROYAVE",
      "photoUrl": "https://lh3.googleusercontent.com/a-/AOh14GhKUcXWForDRzN8KQTJax_-Hooo1DeBYp0of1gL_A=s64",
      "userId": "01701263505455054832"
     },
     "user_tz": 300
    },
    "id": "L6CJF0qIKHiX",
    "outputId": "5d24ae1b-5cc6-44d8-f3c4-7f766c7d915a"
   },
   "outputs": [
    {
     "data": {
      "image/png": "[encoded data removed]",
      "text/plain": [
       "<Figure size 432x288 with 1 Axes>"
      ]
     },
     "metadata": {
      "needs_background": "light"
     },
     "output_type": "display_data"
    },
    {
     "data": {
      "image/png": "[encoded data removed]",
      "text/plain": [
       "<Figure size 432x288 with 1 Axes>"
      ]
     },
     "execution_count": 8,
     "metadata": {},
     "output_type": "execute_result"
    }
   ],
   "source": [
    "scatter_plot(x, y)"
   ]
  },
  {
   "cell_type": "code",
   "execution_count": 9,
   "metadata": {
    "cellView": "form",
    "colab": {},
    "colab_type": "code",
    "id": "sq2e7UwwYyS2"
   },
   "outputs": [],
   "source": [
    "#@title Pregunta Abierta\n",
    "#@markdown  ¿El problema es linealmente separable? justifique su respuesta \n",
    "respuesta_1 = \"\\\"El problema no es linealmente separable porque una de las dos clases esta tan dispersa que esta encerrando a la otra, sin embargo  las muestras no se combinan por lo que da la impresion de que si es posible separarlos pero no linealmente.\\\"\" #@param {type:\"string\"}"
   ]
  },
  {
   "cell_type": "markdown",
   "metadata": {
    "colab_type": "text",
    "id": "UYCpYnI0YyS4"
   },
   "source": [
    "## Ejercicio 2: entrenamiento\n",
    "\n",
    "En este laboratorio se va a realizar un procedimiento análogo al laboratorio anterior, pero con el modelo de *regresión logística* que sirve para resolver problemas de clasificación (en principio biclase).\n",
    "\n",
    "Analice los siguientes métodos a la luz de la teoría vista para el modelo de regresión logística: \n",
    "\n",
    "1. función de activación (<font color='blue'>sigmoidal</font>),\n",
    "2.  modelo de regresión logística (<font color='blue'>logistic_regression</font>), \n",
    "3. potencia del polinomio \n",
    "4.  el cálculo del error en clasificación (<font color='blue'>error_logistic</font>)\n",
    "5. el gradiente descendente. \n",
    "\n",
    "Luego de recordar estos conceptos. Complete la función sigmoidal:"
   ]
  },
  {
   "cell_type": "code",
   "execution_count": 10,
   "metadata": {
    "colab": {},
    "colab_type": "code",
    "id": "WAQAglStYyS4"
   },
   "outputs": [],
   "source": [
    "#Ejercicio de Código\n",
    "def sigmoidal(z):\n",
    "    \"\"\"Función de activación Sigmoidal\n",
    "\n",
    "    z: es la varible a la que se le va aplicar el sigmoide.\n",
    "       es un array numpy de uan sola dimension\n",
    "    retorna: el valor del sigmiode\n",
    "\n",
    "    \"\"\"\n",
    "    #Complete la siguiente línea con el código para calcular la salida de la función sigmoidal\n",
    "    s =1/(1+np.exp(-(z))) \n",
    "    \n",
    "    return s"
   ]
  },
  {
   "cell_type": "code",
   "execution_count": 11,
   "metadata": {
    "colab": {
     "base_uri": "https://localhost:8080/",
     "height": 34
    },
    "colab_type": "code",
    "executionInfo": {
     "elapsed": 1538,
     "status": "ok",
     "timestamp": 1600430759992,
     "user": {
      "displayName": "DANIEL FELIPE RIVERA ARROYAVE",
      "photoUrl": "https://lh3.googleusercontent.com/a-/AOh14GhKUcXWForDRzN8KQTJax_-Hooo1DeBYp0of1gL_A=s64",
      "userId": "01701263505455054832"
     },
     "user_tz": 300
    },
    "id": "hiui_rfgYyS6",
    "outputId": "13c4c6ec-fe5d-4ee8-eb98-0dea6a65b5c7",
    "tags": []
   },
   "outputs": [
    {
     "name": "stdout",
     "output_type": "stream",
     "text": [
      "TEST EXITOSO!\n"
     ]
    }
   ],
   "source": [
    "## la funcion que prueba tu implementacion\n",
    "GRADER.run_test(\"ejercicio3\", sigmoidal)"
   ]
  },
  {
   "cell_type": "markdown",
   "metadata": {
    "colab_type": "text",
    "id": "6t8dJoLfYyS7"
   },
   "source": [
    "El la siguiente celda se sugiere la implementación, de los siguientes conceptos:\n",
    "\n",
    "1. modelo de regresión logística (<font color='blue'>logistic_regression</font>), \n",
    "2. potencia del polinomio \n",
    "3.  el cálculo del error en clasificación (<font color='blue'>error_logistic</font>)\n",
    "\n",
    "comprenda que hacen estas funciones y ejecute la celda para cargar las funciones, para porder usarlas"
   ]
  },
  {
   "cell_type": "code",
   "execution_count": 12,
   "metadata": {
    "colab": {},
    "colab_type": "code",
    "id": "u-yCVeVQYyS8"
   },
   "outputs": [],
   "source": [
    "def logistic_regression(X, W):\n",
    "    \"\"\"calcula la regresión logistica\n",
    "    X: los valores que corresponden a las caractersiticas\n",
    "    W: son los pesos usadados para realizar la regresión\n",
    "    retorna: valor estimado por la regresion\n",
    "    \"\"\"\n",
    "    #Con np.dot se realiza el producto matricial. Aquí X (extendida) tiene dim [Nxd] y W es dim [dx1]\n",
    "    Yest = np.dot(X,W)\n",
    "    Y_lest = sigmoidal(Yest)\n",
    "    #Se asignan los valores a 1 o 0 según el modelo de regresión logística definido\n",
    "    pos = 0\n",
    "    for tag in Y_lest:\n",
    "        \n",
    "        if tag > 0.5:\n",
    "            Y_lest[pos] = 1\n",
    "        elif tag < 0.5:\n",
    "            Y_lest[pos] = 0\n",
    "        \n",
    "        pos += 1\n",
    "    \n",
    "    return Y_lest    #Y estimado: Esta variable contiene ya tiene la salida de sigm(f(X,W))\n",
    "\n",
    "def potenciaPolinomio(X,grado):\n",
    "    \"\"\"calcula la potencia del polinomio\n",
    "    X: los valores que corresponden a las caractersiticas\n",
    "    grado: esl grado para realizar la potencia al polinomio\n",
    "    retorna: el valor de X despues elevarlo al grado del polinimoo indicado\n",
    "    \"\"\"\n",
    "    X2 = X.copy()\n",
    "    \n",
    "    if grado != 1:\n",
    "        for i in range(2,grado+1):\n",
    "            Xadd = X**i\n",
    "            X2 = np.concatenate((X2, Xadd), axis=1)\n",
    "    \n",
    "    return X2\n",
    "\n",
    "def error_logistic(Y_lest, Y):\n",
    "    \"\"\"calculo del error logistico\n",
    "       Si es diferente el Y_estimado con el Y_real cuenta como un error\n",
    "       Y_lest: numpy array con los valores de etiquetas estimadas\n",
    "       Y:  numpy array  valor con los valores reales de las etiquetas\n",
    "       retorna: error de clasificación -- numpy array\n",
    "    \"\"\"\n",
    "    error = 0\n",
    "    for ye, y in zip(Y_lest, Y):\n",
    "        if ye != y:\n",
    "            error += 1\n",
    "    \n",
    "    error = error/np.size(Y)\n",
    "\n",
    "    return error"
   ]
  },
  {
   "cell_type": "markdown",
   "metadata": {
    "colab_type": "text",
    "id": "nuFVmGRoYyS-"
   },
   "source": [
    "De igual manera, debemos extender nuestro conjunto de datos. Comprende que hace  la siguiente celda de código y ejecutala. **Muy importante ejecutar SOLA UNA vez.**"
   ]
  },
  {
   "cell_type": "code",
   "execution_count": 13,
   "metadata": {
    "colab": {},
    "colab_type": "code",
    "id": "qGIrWUZoYyS-"
   },
   "outputs": [],
   "source": [
    "#Aca llamamos la funcion creada anteriormente\n",
    "# para obtener el numero muestras y caractersiticas\n",
    "muestras,caracterisitcas,num_clases = clases_muestras_carac(x, y)\n",
    "#Extendemos la matriz de X para el parámetro independiente\n",
    "unos = np.array([np.ones(muestras)])\n",
    "x = np.concatenate((unos.T, x), axis=1)\n",
    "x = x.reshape(muestras, caracterisitcas+1)\n",
    "y = y.reshape(np.size(y), 1)"
   ]
  },
  {
   "cell_type": "markdown",
   "metadata": {
    "colab_type": "text",
    "id": "P6rbFHQxYyS_"
   },
   "source": [
    "recordando lo aprendido anteriormente, dividimos nuestro cojunto de datos y normalizamos."
   ]
  },
  {
   "cell_type": "code",
   "execution_count": 14,
   "metadata": {
    "colab": {
     "base_uri": "https://localhost:8080/",
     "height": 105
    },
    "colab_type": "code",
    "executionInfo": {
     "elapsed": 332,
     "status": "ok",
     "timestamp": 1600430776036,
     "user": {
      "displayName": "DANIEL FELIPE RIVERA ARROYAVE",
      "photoUrl": "https://lh3.googleusercontent.com/a-/AOh14GhKUcXWForDRzN8KQTJax_-Hooo1DeBYp0of1gL_A=s64",
      "userId": "01701263505455054832"
     },
     "user_tz": 300
    },
    "id": "8F2NBNVwYyTA",
    "outputId": "4ea4619d-c8b1-4848-c212-e13e09855f3a"
   },
   "outputs": [
    {
     "name": "stderr",
     "output_type": "stream",
     "text": [
      "/home/daniel/anaconda3/lib/python3.8/site-packages/scipy/stats/stats.py:2500: RuntimeWarning: invalid value encountered in true_divide\n",
      "  return (a - mns) / sstd\n",
      "/home/daniel/Documents/Labs_simulaci-n/Lab1/part2/lab1.py:330: RuntimeWarning: invalid value encountered in true_divide\n",
      "  Xtest_n = (Xtest - media )/desvia\n"
     ]
    }
   ],
   "source": [
    "#Dejamos algunas muestras para el proceso de entrenamiento y otras para evaluar qué tan bueno fue el aprendizaje del modelo\n",
    "random.seed(1)\n",
    "N = muestras\n",
    "ind=np.random.permutation(N)\n",
    "Xtrain = x[ind[0:int(math.ceil(0.7*N))],:]\n",
    "Xtest = x[ind[int(math.ceil(0.7*N)):N],:]\n",
    "Ytrain = y[ind[0:int(math.ceil(0.7*N))]]\n",
    "Ytest = y[ind[int(math.ceil(0.7*N)):N]]\n",
    "# normalizamos\n",
    "Xtrain, Xtest = normalizar(Xtrain, Xtest)"
   ]
  },
  {
   "cell_type": "markdown",
   "metadata": {
    "colab_type": "text",
    "id": "NX9X-ocwYyTC"
   },
   "source": [
    "Ahora vamos a completar el código de la regla de actualización de los parámetros del algoritmo de <font color='blue'>gradiente_descedente</font>: \n",
    "\n",
    "\n",
    "$$w_j(iter) = w_j(iter-1) - \\eta \\frac{\\partial E(w)}{\\partial w_j}$$ \n",
    "\n",
    "recordar que \n",
    "\n",
    "$$ \\frac{\\partial E(w)}{\\partial w_j} = \\frac{\\partial E({\\bf{w}})}{\\partial w_j} = \\frac{1}{N}\\sum_{i=1}^{N}\\left( f({\\bf{x}}_i,{\\bf{w}}) - y_i\\right) \\frac{\\partial }{\\partial w_j} f({\\bf{x}}_i, {\\bf{w}})$$\n",
    "\n",
    "Recuerda que debe usar las funciones ya implementadas y no usar **ninguna otra libreria**, adicional a las librerias ya pre-cargadas como numpy.\n",
    "\n",
    "Adicionalmente, dentro de nuestra función, **vamos incluir una transformación polinómica**.\n",
    "\n",
    "\n",
    "Nota: Para el problema de clasificación tenga presente que si ya implementó la regla de actualización de parámetros para el modelo de regresión polinomial múltiple, este punto es trivial, puesto que sólo tiene que incluir la función sigmoidal tal como lo vimos en la teoría."
   ]
  },
  {
   "cell_type": "code",
   "execution_count": 15,
   "metadata": {
    "colab": {},
    "colab_type": "code",
    "id": "zLtR3kdKYyTC"
   },
   "outputs": [],
   "source": [
    "#ejercicio de codigo\n",
    "def gradiente_descendente_logistic_poly(X,Y,grado,eta, iteraciones):\n",
    "    \"\"\"Gradiente descendente para regresión lineal múltiple\n",
    "    X: Matriz de datos extendida\n",
    "    Y: vector con los valores a predecir\n",
    "    W: Vector de parámetros del modelo\n",
    "    eta: Taza de aprendizaje\n",
    "    grado: grado para usar en la transformacion polinomica\n",
    "    iteraciones: numero de iteraciones maxima\n",
    "\n",
    "    retorna: W el valor de de los parametros de regresión polinomica\n",
    "    \"\"\"\n",
    "    X2 = potenciaPolinomio(X,grado)\n",
    "    #Tomamos el número de variables del problema leugo de la transformacion\n",
    "    d = np.size(X2,1)\n",
    "    #Tomamos el número de muestras de la base de datos\n",
    "    N = np.size(X2,0)   \n",
    "    #Inicializamos el vector de parámetros\n",
    "    W = np.zeros(d)\n",
    "    W = W.reshape(np.size(W),1)   \n",
    "    for iter in range(iteraciones):\n",
    "       \n",
    "        #Aquí debe completar el código con la regla de actualización de los parámetros W para regresión\n",
    "        #logística. Tenga en cuenta los nombres de las variables ya creadas: W, X, Y\n",
    "        # Y_estimado = logistic_regression(X2,W)\n",
    "        # A = (logistic_regression(X2,W)-Y.reshape(N,1))X2\n",
    "        # suma= np.dot(W.T,X2.T).T\n",
    "        # suma=(suma-Y.reshape(N,1))*X2\n",
    "        # suma = np.sum(suma,axis=0,keepdims=True)/N\n",
    "        # W = W-(eta*suma.T)\n",
    "        # a=(logistic_regression(X2,W)-Y.reshape(N,1))*X2\n",
    "        # sum= np.sum(a,axis=0,keepdims=True)/N\n",
    "        # W=W-(eta*sum.T)    \n",
    "        # a=(logistic_regression(X2,W)-Y.reshape(N,1))*X2\n",
    "        # sum= np.sum(a,axis=0,keepdims=True)/N\n",
    "        # W=W-(eta*sum.T)\n",
    "        # Y_estimado = logistic_regression(X2,W)\n",
    "        # a=(Y_estimado-Y)*X2\n",
    "        # derivada = np.dot(X2.T,Y_estimado-Y)/N\n",
    "        # print('derivada',derivada)\n",
    "        # Wsig = W - eta*derivada\n",
    "        # W = Wsig\n",
    "        a=(logistic_regression(X2,W)-Y.reshape(N,1))*X2\n",
    "        sum= np.sum(a,axis=0,keepdims=True)\n",
    "        W=W-(eta*sum.T)/N\n",
    "    #Error en clasificación  \n",
    "    Y_estimado = logistic_regression(X2,W)\n",
    "    error_clasificacion = error_logistic(Y_estimado,Y)\n",
    "    print(\"error despues de finalizar la iteraciones\", error_clasificacion)\n",
    "\n",
    "    return W"
   ]
  },
  {
   "cell_type": "code",
   "execution_count": 16,
   "metadata": {
    "colab": {
     "base_uri": "https://localhost:8080/",
     "height": 68
    },
    "colab_type": "code",
    "executionInfo": {
     "elapsed": 612,
     "status": "ok",
     "timestamp": 1600430781935,
     "user": {
      "displayName": "DANIEL FELIPE RIVERA ARROYAVE",
      "photoUrl": "https://lh3.googleusercontent.com/a-/AOh14GhKUcXWForDRzN8KQTJax_-Hooo1DeBYp0of1gL_A=s64",
      "userId": "01701263505455054832"
     },
     "user_tz": 300
    },
    "id": "lhrk1KyYYyTE",
    "outputId": "6d2e3477-8551-40e2-9359-8c266f58b789",
    "tags": []
   },
   "outputs": [
    {
     "name": "stdout",
     "output_type": "stream",
     "text": [
      "error despues de finalizar la iteraciones 0.52\n",
      "error despues de finalizar la iteraciones 0.51\n",
      "TEST EXITOSO!\n"
     ]
    }
   ],
   "source": [
    "## la funcion que prueba tu implementacion\n",
    "GRADER.run_test(\"ejercicio4\", gradiente_descendente_logistic_poly)"
   ]
  },
  {
   "cell_type": "markdown",
   "metadata": {
    "colab_type": "text",
    "id": "pjpTN71aYyTF"
   },
   "source": [
    "Finalmente se sugiere la siguiente funcion para evaluar el error del modelo. Entienda su funcionamiento."
   ]
  },
  {
   "cell_type": "code",
   "execution_count": 17,
   "metadata": {
    "colab": {},
    "colab_type": "code",
    "id": "DhbCT0H0YyTG"
   },
   "outputs": [],
   "source": [
    "def evaluar_modelo (W, X_to_test, Y_True, grado):\n",
    "    \"\"\" funcion que evalua un modelo de regresión usando el error cuadratico medio\n",
    "\n",
    "    W: es un matriz con los parametros del modelo entrenados\n",
    "    X_to_test: conjunto de datos para usar en el evaluamiento del modelo\n",
    "    Y_True: valores reales para usar en el evaluamiento del modelo\n",
    "    grado: valor del polinomio a usar\n",
    "\n",
    "    retorna: el de clasificación.\n",
    "    \"\"\"\n",
    "    X2 = potenciaPolinomio(X_to_test,grado)\n",
    "    Y_estimado = logistic_regression(X2,W)\n",
    "    error_clasificacion = error_logistic(Y_estimado,Y_True)\n",
    "    return(error_clasificacion)\n"
   ]
  },
  {
   "cell_type": "markdown",
   "metadata": {
    "colab_type": "text",
    "id": "EhaV3W7IYyTH"
   },
   "source": [
    "## Ejercicio 3: Experimentar\n",
    "\n",
    "Con la función implementada vamos a entrenar un modelo y calcular su error de entrenamiento"
   ]
  },
  {
   "cell_type": "code",
   "execution_count": 18,
   "metadata": {
    "colab": {
     "base_uri": "https://localhost:8080/",
     "height": 51
    },
    "colab_type": "code",
    "executionInfo": {
     "elapsed": 1314,
     "status": "ok",
     "timestamp": 1600430789431,
     "user": {
      "displayName": "DANIEL FELIPE RIVERA ARROYAVE",
      "photoUrl": "https://lh3.googleusercontent.com/a-/AOh14GhKUcXWForDRzN8KQTJax_-Hooo1DeBYp0of1gL_A=s64",
      "userId": "01701263505455054832"
     },
     "user_tz": 300
    },
    "id": "7wwIVbTDYyTI",
    "outputId": "22fe939f-a809-48d9-d894-e5bc9eb952d0",
    "tags": []
   },
   "outputs": [
    {
     "name": "stdout",
     "output_type": "stream",
     "text": [
      "error despues de finalizar la iteraciones 0.5142857142857142\n",
      "error en el conjunto de pruebas 0.44\n"
     ]
    }
   ],
   "source": [
    "w = gradiente_descendente_logistic_poly(Xtrain,Ytrain,1,0.0001, 1000)\n",
    "error_test = evaluar_modelo(w, Xtest, Ytest, grado = 1)\n",
    "print(\"error en el conjunto de pruebas\", error_test)"
   ]
  },
  {
   "cell_type": "markdown",
   "metadata": {
    "colab_type": "text",
    "id": "bH00WKqYYyTJ"
   },
   "source": [
    "En nuestro primer experimento vamos a evaluar el rendimiento del modelo usando varias tasas de aprendizaje y grados de polinimios. Vamos a dejar por ahora un numero de iteraciones fijas = 50. Para ello completa la siguiente función."
   ]
  },
  {
   "cell_type": "code",
   "execution_count": 19,
   "metadata": {
    "colab": {},
    "colab_type": "code",
    "id": "2L4aHWL4YyTK"
   },
   "outputs": [],
   "source": [
    "## ejercicio de codigo\n",
    "def experimentar (Xtrain, Xtest, Ytrain, Ytest, tasas, grados):\n",
    "    \"\"\" funcion para realizar experimentos.\n",
    "    Xtrain: conjunto de datos\n",
    "    Xtest:\n",
    "    Ytrain:\n",
    "    Ytest:\n",
    "    tasas: Es una lista con los valores númericos de tasas de aprendizaje \n",
    "        para realizar los experimentos\n",
    "    grados: Es una lista con los valores númericos de grados \n",
    "        para realizar los experimentos\n",
    "    retorna: un dataframe con el resultados de los experimentos\n",
    "    \"\"\"\n",
    "    numero_iter = 50\n",
    "\n",
    "    resultados = pd.DataFrame()\n",
    "    idx = 0 # indice\n",
    "    for eta in tasas:\n",
    "        for grado in grados:\n",
    "            W = gradiente_descendente_logistic_poly(Xtrain,Ytrain,grado,eta,numero_iter)\n",
    "            error_entrenamiento = evaluar_modelo(W, Xtrain, Ytrain, grado)\n",
    "            error_prueba = evaluar_modelo(W, Xtest,Ytest, grado)\n",
    "            resultados.loc[idx,'grado'] = grado\n",
    "            resultados.loc[idx,'tasa de aprendizaje'] = eta\n",
    "            resultados.loc[idx,'error_entreamiento'] = error_entrenamiento\n",
    "            resultados.loc[idx,'error_prueba'] = error_prueba\n",
    "            idx = idx+1\n",
    "\n",
    "    return (resultados)"
   ]
  },
  {
   "cell_type": "code",
   "execution_count": 20,
   "metadata": {
    "colab": {
     "base_uri": "https://localhost:8080/",
     "height": 136
    },
    "colab_type": "code",
    "executionInfo": {
     "elapsed": 467,
     "status": "ok",
     "timestamp": 1600430797434,
     "user": {
      "displayName": "DANIEL FELIPE RIVERA ARROYAVE",
      "photoUrl": "https://lh3.googleusercontent.com/a-/AOh14GhKUcXWForDRzN8KQTJax_-Hooo1DeBYp0of1gL_A=s64",
      "userId": "01701263505455054832"
     },
     "user_tz": 300
    },
    "id": "n4Y2qwvnYyTL",
    "outputId": "23db6458-a1d0-4f79-f521-713b3c38ad44",
    "tags": []
   },
   "outputs": [
    {
     "name": "stdout",
     "output_type": "stream",
     "text": [
      "error despues de finalizar la iteraciones 0.475\n",
      "error despues de finalizar la iteraciones 0.0\n",
      "error despues de finalizar la iteraciones 0.0\n",
      "error despues de finalizar la iteraciones 0.475\n",
      "error despues de finalizar la iteraciones 0.0\n",
      "error despues de finalizar la iteraciones 0.0\n",
      "TEST EXITOSO!\n"
     ]
    }
   ],
   "source": [
    "## la funcion que prueba tu implementacion\n",
    "GRADER.run_test(\"ejercicio5\", experimentar)"
   ]
  },
  {
   "cell_type": "code",
   "execution_count": 21,
   "metadata": {
    "colab": {
     "base_uri": "https://localhost:8080/",
     "height": 272
    },
    "colab_type": "code",
    "executionInfo": {
     "elapsed": 952,
     "status": "ok",
     "timestamp": 1600430799064,
     "user": {
      "displayName": "DANIEL FELIPE RIVERA ARROYAVE",
      "photoUrl": "https://lh3.googleusercontent.com/a-/AOh14GhKUcXWForDRzN8KQTJax_-Hooo1DeBYp0of1gL_A=s64",
      "userId": "01701263505455054832"
     },
     "user_tz": 300
    },
    "id": "PNZ702IVYyTN",
    "outputId": "e269ee4b-6ed0-49cf-9059-ffe71ed4afab",
    "tags": []
   },
   "outputs": [
    {
     "name": "stdout",
     "output_type": "stream",
     "text": [
      "error despues de finalizar la iteraciones 0.4942857142857143\n",
      "error despues de finalizar la iteraciones 0.3057142857142857\n",
      "error despues de finalizar la iteraciones 0.47714285714285715\n",
      "error despues de finalizar la iteraciones 0.005714285714285714\n",
      "error despues de finalizar la iteraciones 0.017142857142857144\n",
      "error despues de finalizar la iteraciones 0.4942857142857143\n",
      "error despues de finalizar la iteraciones 0.3057142857142857\n",
      "error despues de finalizar la iteraciones 0.47714285714285715\n",
      "error despues de finalizar la iteraciones 0.005714285714285714\n",
      "error despues de finalizar la iteraciones 0.017142857142857144\n",
      "error despues de finalizar la iteraciones 0.4942857142857143\n",
      "error despues de finalizar la iteraciones 0.3057142857142857\n",
      "error despues de finalizar la iteraciones 0.47714285714285715\n",
      "error despues de finalizar la iteraciones 0.005714285714285714\n",
      "error despues de finalizar la iteraciones 0.017142857142857144\n"
     ]
    }
   ],
   "source": [
    "tasas = [1,0.1,0.001]\n",
    "grados = [1,2,3,4,5]\n",
    "resultados = experimentar (Xtrain, Xtest, Ytrain, Ytest, tasas, grados)"
   ]
  },
  {
   "cell_type": "code",
   "execution_count": 22,
   "metadata": {
    "colab": {
     "base_uri": "https://localhost:8080/",
     "height": 514
    },
    "colab_type": "code",
    "executionInfo": {
     "elapsed": 451,
     "status": "ok",
     "timestamp": 1600430801945,
     "user": {
      "displayName": "DANIEL FELIPE RIVERA ARROYAVE",
      "photoUrl": "https://lh3.googleusercontent.com/a-/AOh14GhKUcXWForDRzN8KQTJax_-Hooo1DeBYp0of1gL_A=s64",
      "userId": "01701263505455054832"
     },
     "user_tz": 300
    },
    "id": "i0S18dT2YyTO",
    "outputId": "941c03f8-45a5-4afa-abc5-7db8c74e0a9b"
   },
   "outputs": [
    {
     "data": {
      "text/html": [
       "<div>\n",
       "<style scoped>\n",
       "    .dataframe tbody tr th:only-of-type {\n",
       "        vertical-align: middle;\n",
       "    }\n",
       "\n",
       "    .dataframe tbody tr th {\n",
       "        vertical-align: top;\n",
       "    }\n",
       "\n",
       "    .dataframe thead th {\n",
       "        text-align: right;\n",
       "    }\n",
       "</style>\n",
       "<table border=\"1\" class=\"dataframe\">\n",
       "  <thead>\n",
       "    <tr style=\"text-align: right;\">\n",
       "      <th></th>\n",
       "      <th>grado</th>\n",
       "      <th>tasa de aprendizaje</th>\n",
       "      <th>error_entreamiento</th>\n",
       "      <th>error_prueba</th>\n",
       "    </tr>\n",
       "  </thead>\n",
       "  <tbody>\n",
       "    <tr>\n",
       "      <th>0</th>\n",
       "      <td>1.0</td>\n",
       "      <td>1.000</td>\n",
       "      <td>0.494286</td>\n",
       "      <td>0.520000</td>\n",
       "    </tr>\n",
       "    <tr>\n",
       "      <th>1</th>\n",
       "      <td>2.0</td>\n",
       "      <td>1.000</td>\n",
       "      <td>0.305714</td>\n",
       "      <td>0.313333</td>\n",
       "    </tr>\n",
       "    <tr>\n",
       "      <th>2</th>\n",
       "      <td>3.0</td>\n",
       "      <td>1.000</td>\n",
       "      <td>0.477143</td>\n",
       "      <td>0.506667</td>\n",
       "    </tr>\n",
       "    <tr>\n",
       "      <th>3</th>\n",
       "      <td>4.0</td>\n",
       "      <td>1.000</td>\n",
       "      <td>0.005714</td>\n",
       "      <td>0.020000</td>\n",
       "    </tr>\n",
       "    <tr>\n",
       "      <th>4</th>\n",
       "      <td>5.0</td>\n",
       "      <td>1.000</td>\n",
       "      <td>0.017143</td>\n",
       "      <td>0.020000</td>\n",
       "    </tr>\n",
       "    <tr>\n",
       "      <th>5</th>\n",
       "      <td>1.0</td>\n",
       "      <td>0.100</td>\n",
       "      <td>0.494286</td>\n",
       "      <td>0.520000</td>\n",
       "    </tr>\n",
       "    <tr>\n",
       "      <th>6</th>\n",
       "      <td>2.0</td>\n",
       "      <td>0.100</td>\n",
       "      <td>0.305714</td>\n",
       "      <td>0.313333</td>\n",
       "    </tr>\n",
       "    <tr>\n",
       "      <th>7</th>\n",
       "      <td>3.0</td>\n",
       "      <td>0.100</td>\n",
       "      <td>0.477143</td>\n",
       "      <td>0.506667</td>\n",
       "    </tr>\n",
       "    <tr>\n",
       "      <th>8</th>\n",
       "      <td>4.0</td>\n",
       "      <td>0.100</td>\n",
       "      <td>0.005714</td>\n",
       "      <td>0.020000</td>\n",
       "    </tr>\n",
       "    <tr>\n",
       "      <th>9</th>\n",
       "      <td>5.0</td>\n",
       "      <td>0.100</td>\n",
       "      <td>0.017143</td>\n",
       "      <td>0.020000</td>\n",
       "    </tr>\n",
       "    <tr>\n",
       "      <th>10</th>\n",
       "      <td>1.0</td>\n",
       "      <td>0.001</td>\n",
       "      <td>0.494286</td>\n",
       "      <td>0.520000</td>\n",
       "    </tr>\n",
       "    <tr>\n",
       "      <th>11</th>\n",
       "      <td>2.0</td>\n",
       "      <td>0.001</td>\n",
       "      <td>0.305714</td>\n",
       "      <td>0.313333</td>\n",
       "    </tr>\n",
       "    <tr>\n",
       "      <th>12</th>\n",
       "      <td>3.0</td>\n",
       "      <td>0.001</td>\n",
       "      <td>0.477143</td>\n",
       "      <td>0.506667</td>\n",
       "    </tr>\n",
       "    <tr>\n",
       "      <th>13</th>\n",
       "      <td>4.0</td>\n",
       "      <td>0.001</td>\n",
       "      <td>0.005714</td>\n",
       "      <td>0.020000</td>\n",
       "    </tr>\n",
       "    <tr>\n",
       "      <th>14</th>\n",
       "      <td>5.0</td>\n",
       "      <td>0.001</td>\n",
       "      <td>0.017143</td>\n",
       "      <td>0.020000</td>\n",
       "    </tr>\n",
       "  </tbody>\n",
       "</table>\n",
       "</div>"
      ],
      "text/plain": [
       "    grado  tasa de aprendizaje  error_entreamiento  error_prueba\n",
       "0     1.0                1.000            0.494286      0.520000\n",
       "1     2.0                1.000            0.305714      0.313333\n",
       "2     3.0                1.000            0.477143      0.506667\n",
       "3     4.0                1.000            0.005714      0.020000\n",
       "4     5.0                1.000            0.017143      0.020000\n",
       "5     1.0                0.100            0.494286      0.520000\n",
       "6     2.0                0.100            0.305714      0.313333\n",
       "7     3.0                0.100            0.477143      0.506667\n",
       "8     4.0                0.100            0.005714      0.020000\n",
       "9     5.0                0.100            0.017143      0.020000\n",
       "10    1.0                0.001            0.494286      0.520000\n",
       "11    2.0                0.001            0.305714      0.313333\n",
       "12    3.0                0.001            0.477143      0.506667\n",
       "13    4.0                0.001            0.005714      0.020000\n",
       "14    5.0                0.001            0.017143      0.020000"
      ]
     },
     "execution_count": 22,
     "metadata": {},
     "output_type": "execute_result"
    }
   ],
   "source": [
    "# para ver los resultados\n",
    "resultados"
   ]
  },
  {
   "cell_type": "code",
   "execution_count": 23,
   "metadata": {
    "cellView": "form",
    "colab": {},
    "colab_type": "code",
    "id": "2o0zE_e7YyTS"
   },
   "outputs": [],
   "source": [
    "#@title Pregunta Abierta\n",
    "#@markdown  ¿con base a los resultados anteriores, qué efecto tiene el grado en los errores de entrenamiento y de prueba? justifique\n",
    "respuesta_2 = \"\\\"Es importante establecer que no es posible determinar este efecto sin relacionarlo tambien con la tase de aprendizaje, pero en los experimentos con cada una de las 3 distintas tasas, el error de entrenamiento y prueban varia muy poco con los grados 1,2,3 pero con 4 y 5 se reduce considerablemente respecto a los anteriores, arrojando unos mejores resultados siendo aproximadamente 10 veces mejor..\\\"\" #@param {type:\"string\"}"
   ]
  },
  {
   "cell_type": "code",
   "execution_count": 24,
   "metadata": {
    "cellView": "form",
    "colab": {},
    "colab_type": "code",
    "id": "Z8waNHm0YyTT"
   },
   "outputs": [],
   "source": [
    "#@title Pregunta Abierta\n",
    "#@markdown  ¿es normal que los errores de entrenamiento y prueba sean diferentes? justifique\n",
    "respuesta_3 = \"\\\"Si, porque el modelo ha sido creado partiendo del conjunto de datos de entrnamiento y los datos con los que se calcula el error de prueba son desconocidos para nuestro modelo y su resultado depende de qu\\\\\\\\xE9 tan similares sean estos datos de prueba respecto a los de entrenamiento.\\\\\\\"\\\"\" #@param {type:\"string\"}"
   ]
  },
  {
   "cell_type": "markdown",
   "metadata": {
    "colab_type": "text",
    "id": "sq9B0kEIYyTV"
   },
   "source": [
    "En los problemas de clasificación, es muy importante entender el numero de muestras que el modelo clasifico mal. Esto es necesario observarlo tanto en entrenamiento como en pruebas. Vamos crear una función para esto."
   ]
  },
  {
   "cell_type": "code",
   "execution_count": 25,
   "metadata": {
    "colab": {},
    "colab_type": "code",
    "id": "mnhcuVcTYyTV"
   },
   "outputs": [],
   "source": [
    "#ejercicio de codigo\n",
    "def numero_de_errores (W, X, Y, grado):\n",
    "    \"\"\"función que cuenta los errores de un modelo de regresión logistica\n",
    "    W: vector con los parametros de un modelo de regresión logistica\n",
    "       previamente entrenado\n",
    "    X: conjunto de datos a usar (numpy matrix)\n",
    "    Y: conjunto con las etiquetas verdaderas. (numpy array)\n",
    "    grado: grado usado en el modelo de regresión logistica\n",
    "    retorna: numero de errores (int/float) \n",
    "            (es decir el numero de veces que la etiqueta predicha es diferente a la etiqueta real)\n",
    "    \"\"\"\n",
    "    X2 = potenciaPolinomio(X,grado)\n",
    "    Y_estimado = logistic_regression(X2,W)\n",
    "    numero_errores = np.sum(Y_estimado!=Y)\n",
    "\n",
    "    return numero_errores\n"
   ]
  },
  {
   "cell_type": "code",
   "execution_count": 26,
   "metadata": {
    "colab": {
     "base_uri": "https://localhost:8080/",
     "height": 34
    },
    "colab_type": "code",
    "executionInfo": {
     "elapsed": 503,
     "status": "ok",
     "timestamp": 1600430828980,
     "user": {
      "displayName": "DANIEL FELIPE RIVERA ARROYAVE",
      "photoUrl": "https://lh3.googleusercontent.com/a-/AOh14GhKUcXWForDRzN8KQTJax_-Hooo1DeBYp0of1gL_A=s64",
      "userId": "01701263505455054832"
     },
     "user_tz": 300
    },
    "id": "iYkbflSmYyTX",
    "outputId": "a63eecb0-ffdb-42ad-bcff-570d62eac312",
    "tags": []
   },
   "outputs": [
    {
     "name": "stdout",
     "output_type": "stream",
     "text": [
      "TEST EXITOSO!\n"
     ]
    }
   ],
   "source": [
    "## la funcion que prueba tu implementacion\n",
    "GRADER.run_test(\"ejercicio6\", numero_de_errores)"
   ]
  },
  {
   "cell_type": "markdown",
   "metadata": {
    "colab_type": "text",
    "id": "T-bRi6p6YyTY"
   },
   "source": [
    "Ahora, use la función. Entrene nuevamente un modelo con los mejores parametros obtenidos y calcule cuantas muestras quedaron mal clasificadas. Tanto en el conjunto de entrenamiento y de prueba. \n",
    "\n",
    "Si hay parametros empatados, el modelo que tenga menos parametros deberia ser el mejor.\n",
    "\n"
   ]
  },
  {
   "cell_type": "code",
   "execution_count": 27,
   "metadata": {
    "colab": {
     "base_uri": "https://localhost:8080/",
     "height": 142
    },
    "colab_type": "code",
    "executionInfo": {
     "elapsed": 488,
     "status": "ok",
     "timestamp": 1600430832024,
     "user": {
      "displayName": "DANIEL FELIPE RIVERA ARROYAVE",
      "photoUrl": "https://lh3.googleusercontent.com/a-/AOh14GhKUcXWForDRzN8KQTJax_-Hooo1DeBYp0of1gL_A=s64",
      "userId": "01701263505455054832"
     },
     "user_tz": 300
    },
    "id": "v-LG4-DhYyTY",
    "outputId": "8f2a43b3-3174-4739-da04-7916f95c03bc"
   },
   "outputs": [
    {
     "data": {
      "text/html": [
       "<div>\n",
       "<style scoped>\n",
       "    .dataframe tbody tr th:only-of-type {\n",
       "        vertical-align: middle;\n",
       "    }\n",
       "\n",
       "    .dataframe tbody tr th {\n",
       "        vertical-align: top;\n",
       "    }\n",
       "\n",
       "    .dataframe thead th {\n",
       "        text-align: right;\n",
       "    }\n",
       "</style>\n",
       "<table border=\"1\" class=\"dataframe\">\n",
       "  <thead>\n",
       "    <tr style=\"text-align: right;\">\n",
       "      <th></th>\n",
       "      <th>grado</th>\n",
       "      <th>tasa de aprendizaje</th>\n",
       "      <th>error_entreamiento</th>\n",
       "      <th>error_prueba</th>\n",
       "    </tr>\n",
       "  </thead>\n",
       "  <tbody>\n",
       "    <tr>\n",
       "      <th>3</th>\n",
       "      <td>4.0</td>\n",
       "      <td>1.000</td>\n",
       "      <td>0.005714</td>\n",
       "      <td>0.02</td>\n",
       "    </tr>\n",
       "    <tr>\n",
       "      <th>8</th>\n",
       "      <td>4.0</td>\n",
       "      <td>0.100</td>\n",
       "      <td>0.005714</td>\n",
       "      <td>0.02</td>\n",
       "    </tr>\n",
       "    <tr>\n",
       "      <th>13</th>\n",
       "      <td>4.0</td>\n",
       "      <td>0.001</td>\n",
       "      <td>0.005714</td>\n",
       "      <td>0.02</td>\n",
       "    </tr>\n",
       "  </tbody>\n",
       "</table>\n",
       "</div>"
      ],
      "text/plain": [
       "    grado  tasa de aprendizaje  error_entreamiento  error_prueba\n",
       "3     4.0                1.000            0.005714          0.02\n",
       "8     4.0                0.100            0.005714          0.02\n",
       "13    4.0                0.001            0.005714          0.02"
      ]
     },
     "execution_count": 27,
     "metadata": {},
     "output_type": "execute_result"
    }
   ],
   "source": [
    "# puedes usar el siguiente código para ordenar los resultados y ver los 3 primeros\n",
    "# resultados, usa esta salida, para ver cuales fueron los mejores parámetros\n",
    "resultados.sort_values(by = ['error_prueba', 'grado'], ascending = True).head(3)"
   ]
  },
  {
   "cell_type": "code",
   "execution_count": 28,
   "metadata": {
    "colab": {
     "base_uri": "https://localhost:8080/",
     "height": 255
    },
    "colab_type": "code",
    "executionInfo": {
     "elapsed": 643,
     "status": "ok",
     "timestamp": 1600430902788,
     "user": {
      "displayName": "DANIEL FELIPE RIVERA ARROYAVE",
      "photoUrl": "https://lh3.googleusercontent.com/a-/AOh14GhKUcXWForDRzN8KQTJax_-Hooo1DeBYp0of1gL_A=s64",
      "userId": "01701263505455054832"
     },
     "user_tz": 300
    },
    "id": "q81OIPYJYyTa",
    "outputId": "fa349dcd-b9d7-4e84-ead3-8081f79fd923",
    "tags": []
   },
   "outputs": [
    {
     "name": "stdout",
     "output_type": "stream",
     "text": [
      "error despues de finalizar la iteraciones 0.005714285714285714\n",
      "estos son los pesos para el modelo entrenando \n",
      " [[ 0.        ]\n",
      " [ 0.03884945]\n",
      " [ 0.02131943]\n",
      " [ 0.        ]\n",
      " [-0.55023553]\n",
      " [-0.56834972]\n",
      " [ 0.        ]\n",
      " [-0.02027252]\n",
      " [ 0.00605001]\n",
      " [ 0.        ]\n",
      " [ 0.51914528]\n",
      " [ 0.61115497]]\n"
     ]
    }
   ],
   "source": [
    " W = gradiente_descendente_logistic_poly(Xtrain,Ytrain,grado = 4 ,eta =1.000 , iteraciones = 50)\n",
    " print(\"estos son los pesos para el modelo entrenando \\n\", W)"
   ]
  },
  {
   "cell_type": "code",
   "execution_count": 29,
   "metadata": {
    "colab": {
     "base_uri": "https://localhost:8080/",
     "height": 51
    },
    "colab_type": "code",
    "executionInfo": {
     "elapsed": 613,
     "status": "ok",
     "timestamp": 1600430918398,
     "user": {
      "displayName": "DANIEL FELIPE RIVERA ARROYAVE",
      "photoUrl": "https://lh3.googleusercontent.com/a-/AOh14GhKUcXWForDRzN8KQTJax_-Hooo1DeBYp0of1gL_A=s64",
      "userId": "01701263505455054832"
     },
     "user_tz": 300
    },
    "id": "8VpRyLulYyTb",
    "outputId": "a8b60de4-db39-4b0c-ea46-278f835897ba",
    "tags": []
   },
   "outputs": [
    {
     "name": "stdout",
     "output_type": "stream",
     "text": [
      "muestras mal clasificadas en entrenamiento 2\n",
      "muestras mal clasificadas en pruebas 3\n"
     ]
    }
   ],
   "source": [
    "num_errores_entrenamiento =  numero_de_errores (W, Xtrain, Ytrain, grado = 4)\n",
    "num_errores_prueba =  numero_de_errores (W, Xtest, Ytest, grado = 4)\n",
    "print(\"muestras mal clasificadas en entrenamiento\", num_errores_entrenamiento)\n",
    "print(\"muestras mal clasificadas en pruebas\", num_errores_prueba)"
   ]
  },
  {
   "cell_type": "code",
   "execution_count": 30,
   "metadata": {
    "cellView": "form",
    "colab": {},
    "colab_type": "code",
    "executionInfo": {
     "elapsed": 783,
     "status": "ok",
     "timestamp": 1600430923795,
     "user": {
      "displayName": "DANIEL FELIPE RIVERA ARROYAVE",
      "photoUrl": "https://lh3.googleusercontent.com/a-/AOh14GhKUcXWForDRzN8KQTJax_-Hooo1DeBYp0of1gL_A=s64",
      "userId": "01701263505455054832"
     },
     "user_tz": 300
    },
    "id": "ZnGyv4JtYyTd"
   },
   "outputs": [],
   "source": [
    "#@title Pregunta Abierta\n",
    "#@markdown ¿por qué se uso el error de prueba para ordenar la tabla de resultados en lugar del error de entrenamiento?\n",
    "respuesta_4 = \"Porque ese es el conjunto originalmente separado para las pruebas y sobre el que se toma el veredicto final respecto al modelo, siendo datos que eran desconocidos para el modelo.\" #@param {type:\"string\"}"
   ]
  },
  {
   "cell_type": "code",
   "execution_count": 31,
   "metadata": {
    "cellView": "form",
    "colab": {},
    "colab_type": "code",
    "id": "ANlQQocoYyTf"
   },
   "outputs": [],
   "source": [
    "#@title Pregunta Abierta\n",
    "#@markdown Escribe aqui el numero de muestras que quedaron mal clasificadas en el conjunto de entrenamiento y de pruebas. ¿como calificarias el modelo entrenado?\n",
    "respuesta_5 = \"\\\"El numero de muestras mal clasificadas de entrenamiento y prueba son 3 y 2 respectivamente,  en nuestra opinion el modelo es bueno considerando la distribucion original de los datos en la grafica y la cantidad de errores (6) del conjunto total de prueba(150)\\\"\" #@param {type:\"string\"}"
   ]
  },
  {
   "cell_type": "code",
   "execution_count": 32,
   "metadata": {
    "cellView": "form",
    "colab": {},
    "colab_type": "code",
    "id": "2FZeWG54YyTg"
   },
   "outputs": [],
   "source": [
    "#@title Pregunta Abierta\n",
    "#@markdown Escriba el modelo completo con sus variables y coeficientes de f(**x**,**w**) con la mejor frontera de decisión que encontró. usa los valores del último W entrenado. Recuerda tener presente el grado del polinomio\n",
    "respuesta_6 = \" 0 -0.01777311X1  + 0.03548312X2  + 0 -0.57727818X1**2 -0.57157639X2**2 + 0+ 0.03068772X1**3+0.01685671X2**3+ 0+ 0.50210166X1**4 + 0.59768266X2**4\" #@param {type:\"string\"}"
   ]
  },
  {
   "cell_type": "code",
   "execution_count": 33,
   "metadata": {
    "colab": {},
    "colab_type": "code",
    "id": "qdlLAktOYyTh",
    "tags": []
   },
   "outputs": [
    {
     "name": "stdout",
     "output_type": "stream",
     "text": [
      "Todo se ve ok. Asegurate de responder las preguntas abiertas y envia e archivo al formulario ¡buen trabajo!\n"
     ]
    }
   ],
   "source": [
    "GRADER.check_tests()"
   ]
  },
  {
   "cell_type": "code",
   "execution_count": 34,
   "metadata": {
    "cellView": "form",
    "colab": {},
    "colab_type": "code",
    "id": "U0DWcBDcYyTj"
   },
   "outputs": [],
   "source": [
    "#@title Integrantes\n",
    "codigo_integrante_1 ='1152219543' #@param {type:\"string\"}\n",
    "codigo_integrante_2 = '1035439685'  #@param {type:\"string\"}"
   ]
  },
  {
   "cell_type": "markdown",
   "metadata": {
    "colab_type": "text",
    "id": "19FgbUXzYyTl"
   },
   "source": [
    "----\n",
    "esta linea de codigo va fallar, es de uso exclusivo del los profesores\n"
   ]
  },
  {
   "cell_type": "code",
   "execution_count": 35,
   "metadata": {
    "colab": {},
    "colab_type": "code",
    "id": "KepG_JTvYyTl"
   },
   "outputs": [
    {
     "name": "stdout",
     "output_type": "stream",
     "text": [
      "uso del docente\n"
     ]
    }
   ],
   "source": [
    "GRADER.grade()"
   ]
  }
 ],
 "metadata": {
  "colab": {
   "name": "Simulacion lab1_parte2.ipynb",
   "provenance": [
    {
     "file_id": "https://github.com/jdariasl/ML_2020/blob/master/Labs/lab1/lab1_parte2.ipynb",
     "timestamp": 1600106726113
    }
   ]
  },
  "kernelspec": {
   "display_name": "Python 3",
   "language": "python",
   "name": "python3"
  },
  "language_info": {
   "codemirror_mode": {
    "name": "ipython",
    "version": 3
   },
   "file_extension": ".py",
   "mimetype": "text/x-python",
   "name": "python",
   "nbconvert_exporter": "python",
   "pygments_lexer": "ipython3",
   "version": "3.8.3"
  }
 },
 "nbformat": 4,
 "nbformat_minor": 1
}
