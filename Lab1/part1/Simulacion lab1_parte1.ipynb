{
 "cells": [
  {
   "cell_type": "markdown",
   "metadata": {
    "colab_type": "text",
    "id": "zE8l20T-t-DR"
   },
   "source": [
    "<a href=\"https://colab.research.google.com/github/jdariasl/ML_2020/blob/master/Labs/lab1/lab1_parte1.ipynb\"><img src=\"https://colab.research.google.com/assets/colab-badge.svg\" alt=\"Open In Colab\"/></a>\n",
    "\n",
    "**Recuerda que una vez abierto, Da clic en \"Copiar en Drive\", de lo contrario no podras alamancenar tu progreso**\n",
    "\n",
    "Nota: no olvide ir ejecutando las celdas de código de arriba hacia abajo para que no tenga errores de importación de librerías o por falta de definición de variables.\n"
   ]
  },
  {
   "cell_type": "code",
   "execution_count": 1,
   "metadata": {
    "colab": {
     "base_uri": "https://localhost:8080/",
     "height": 289
    },
    "colab_type": "code",
    "executionInfo": {
     "elapsed": 13163,
     "status": "ok",
     "timestamp": 1599825325131,
     "user": {
      "displayName": "DANIEL FELIPE RIVERA ARROYAVE",
      "photoUrl": "https://lh3.googleusercontent.com/a-/AOh14GhKUcXWForDRzN8KQTJax_-Hooo1DeBYp0of1gL_A=s64",
      "userId": "01701263505455054832"
     },
     "user_tz": 300
    },
    "id": "19BFks1nt-DR",
    "outputId": "22052c0e-ce30-4d4f-c596-b6bb7eb2b52d",
    "tags": []
   },
   "outputs": [
    {
     "name": "stdout",
     "output_type": "stream",
     "text": [
      "--2020-10-19 06:41:10--  https://raw.githubusercontent.com/jdariasl/ML_2020/master/Labs/commons/utils/general.py\n",
      "Resolving raw.githubusercontent.com (raw.githubusercontent.com)... 199.232.48.133\n",
      "Connecting to raw.githubusercontent.com (raw.githubusercontent.com)|199.232.48.133|:443... connected.\n",
      "HTTP request sent, awaiting response... 200 OK\n",
      "Length: 13949 (14K) [text/plain]\n",
      "Saving to: ‘general.py’\n",
      "\n",
      "general.py          100%[===================>]  13.62K  --.-KB/s    in 0.02s   \n",
      "\n",
      "2020-10-19 06:41:10 (552 KB/s) - ‘general.py’ saved [13949/13949]\n",
      "\n",
      "lab configuration started\n",
      "installing libraries\n",
      "downloading files\n",
      "lab configured\n",
      "cargando librerias y variables al ambiente\n"
     ]
    }
   ],
   "source": [
    "#configuración del laboratorio\n",
    "# Ejecuta esta celda!\n",
    "%load_ext autoreload\n",
    "%autoreload 2\n",
    "!wget https://raw.githubusercontent.com/jdariasl/ML_2020/master/Labs/commons/utils/general.py -O general.py\n",
    "from general import configure_lab1_p1\n",
    "configure_lab1_p1()\n",
    "from lab1 import *\n",
    "GRADER_LAB_1_P1, db, x, y = part_1()\n"
   ]
  },
  {
   "cell_type": "markdown",
   "metadata": {
    "colab_type": "text",
    "id": "1DGtR6cMt-DU"
   },
   "source": [
    "# Laboratorio 1 - Parte 1\n",
    "\n",
    "**Regresión polinomial múltiple**\n"
   ]
  },
  {
   "cell_type": "markdown",
   "metadata": {
    "colab_type": "text",
    "id": "0MJDEwjht-DV"
   },
   "source": [
    "## Ejercicio 1: Contextualización del problema\n",
    "\n",
    "El problema de regresión que abordaremos consiste en predecir el valor de la humedad absoluta en el aire, a partir de varias variables sensadas en el aire (Para más información sobre la base de datos y la contextualización del problema, consulte: http://archive.ics.uci.edu/ml/datasets/air+quality)."
   ]
  },
  {
   "cell_type": "code",
   "execution_count": 2,
   "metadata": {
    "colab": {
     "base_uri": "https://localhost:8080/",
     "height": 170
    },
    "colab_type": "code",
    "executionInfo": {
     "elapsed": 1066,
     "status": "ok",
     "timestamp": 1599825359764,
     "user": {
      "displayName": "DANIEL FELIPE RIVERA ARROYAVE",
      "photoUrl": "https://lh3.googleusercontent.com/a-/AOh14GhKUcXWForDRzN8KQTJax_-Hooo1DeBYp0of1gL_A=s64",
      "userId": "01701263505455054832"
     },
     "user_tz": 300
    },
    "id": "HeVKE-aot-DV",
    "outputId": "c5837308-ac21-4c77-e0ca-b9c060bf5acb",
    "tags": []
   },
   "outputs": [
    {
     "name": "stdout",
     "output_type": "stream",
     "text": [
      "conjunto de datos [[   2.6 1360.   150.  ... 1268.    13.6   48.9]\n",
      " [   2.  1292.   112.  ...  972.    13.3   47.7]\n",
      " [   2.2 1402.    88.  ... 1074.    11.9   54. ]\n",
      " ...\n",
      " [   2.4 1142.  -200.  ... 1092.    26.9   18.3]\n",
      " [   2.1 1003.  -200.  ...  770.    28.3   13.5]\n",
      " [   2.2 1071.  -200.  ...  816.    28.5   13.1]]\n",
      "\n",
      "Variable a predecir [0.7578 0.7255 0.7502 ... 0.6406 0.5139 0.5028]\n"
     ]
    }
   ],
   "source": [
    "# tienes ya cargadas las siguientes variables:\n",
    "print(\"conjunto de datos\", x)\n",
    "print(\"\")\n",
    "print(\"Variable a predecir\", y)\n"
   ]
  },
  {
   "cell_type": "code",
   "execution_count": 3,
   "metadata": {
    "colab": {},
    "colab_type": "code",
    "id": "-sSUDTQOt-DZ",
    "tags": []
   },
   "outputs": [],
   "source": [
    "#Ejercicio de Codigo\n",
    "def num_muestras_carac(X):\n",
    "    \"\"\"Esta funcion es encargada retornar el numero de muestras\n",
    "        y caracteristicas del conjunto de datos X\n",
    "\n",
    "        X: matriz numpy\n",
    "        retorna:\n",
    "            numero de muestras (int/float)\n",
    "            numero de caracteristicas (int/float)\n",
    "    \"\"\"\n",
    "    dimensions=X.shape\n",
    "    return (dimensions)"
   ]
  },
  {
   "cell_type": "code",
   "execution_count": 4,
   "metadata": {
    "colab": {
     "base_uri": "https://localhost:8080/",
     "height": 34
    },
    "colab_type": "code",
    "executionInfo": {
     "elapsed": 1467,
     "status": "ok",
     "timestamp": 1599825363574,
     "user": {
      "displayName": "DANIEL FELIPE RIVERA ARROYAVE",
      "photoUrl": "https://lh3.googleusercontent.com/a-/AOh14GhKUcXWForDRzN8KQTJax_-Hooo1DeBYp0of1gL_A=s64",
      "userId": "01701263505455054832"
     },
     "user_tz": 300
    },
    "id": "E3p3FE_Jt-Da",
    "outputId": "0f4c8a61-b0ec-4e8d-aeac-df4e213dd513",
    "tags": []
   },
   "outputs": [
    {
     "name": "stdout",
     "output_type": "stream",
     "text": [
      "TEST EXITOSO!\n"
     ]
    }
   ],
   "source": [
    "## la funcion que prueba tu implementacion\n",
    "GRADER_LAB_1_P1.run_test(\"ejercicio1\", num_muestras_carac)"
   ]
  },
  {
   "cell_type": "code",
   "execution_count": 5,
   "metadata": {
    "cellView": "form",
    "colab": {},
    "colab_type": "code",
    "id": "WjDP5hKtt-Dc"
   },
   "outputs": [],
   "source": [
    "#@title Pregunta Abierta\n",
    "#@markdown  ¿que tipo de problema vamos a resolver? justifique su respuesta \n",
    "respuesta_1 = \"Basandonos en el conjunto de datos a predecir, el tipo de problema a resolver es de regresion(en el ambito del aprendizaje supervisado) porque los valores de ''y'' son continuos y no pueden interpretarse como discretos o categoricos.\" #@param {type:\"string\"}"
   ]
  },
  {
   "cell_type": "markdown",
   "metadata": {
    "colab_type": "text",
    "id": "IsCCj-RFt-De"
   },
   "source": [
    "## Ejercicio 2\n",
    "\n",
    "Analice los siguientes métodos de la teoría  de modelos de  *regresión polinomial múltiple*:\n",
    "\n",
    "1. error cuadrático medio (<font color='blue'>ECM</font>), \n",
    "2. modelo de regresión múltiple (<font color='blue'>regression</font>)\n",
    "3. potencia del polinomio (<font color='blue'>potenciaPolinomio</font>)\n",
    "4. gradiente descendente.\n",
    "\n",
    "Para los tres primeros métodos, su implementación en código es dentro del notebook. Por ejemplo la siguiente celda contiene la implementación del ECM y de la regression. Comprenda su funcionamiento y ejecute la celda para definir las funciones y poder usarlas.\n"
   ]
  },
  {
   "cell_type": "code",
   "execution_count": 6,
   "metadata": {
    "colab": {},
    "colab_type": "code",
    "id": "uautFfy5t-De"
   },
   "outputs": [],
   "source": [
    "def ECM(Y_est,Y):\n",
    "    \"\"\"funcion para calcular el error cuadratico medio\n",
    "    Y_est: debe contener los valores predichos por el modelo evaluar\n",
    "    Y: debe contener los valores reales\n",
    "    retorna: error cuadratico medio\n",
    "    \"\"\"\n",
    "    N = np.size(Y)\n",
    "    ecm = np.sum((Y_est.reshape(N,1) - Y.reshape(N,1))**2)/(N)\n",
    "    return ecm \n",
    "\n",
    "def regression(X, W):\n",
    "    \"\"\"calcula la regresión multiple\n",
    "    X: los valores que corresponden a las caractersiticas\n",
    "    W: son los pesos usadados para realizar la regresión\n",
    "    retorna: valor estimado\n",
    "    \"\"\"    \n",
    "    Yest = np.dot(X,W)    #con np.dot se realiza el producto matricial. Aquí X es dim [Nxd] y W es dim [dx1] \n",
    "    return Yest           #Esta variable contiene la salida de f(X,W) \n"
   ]
  },
  {
   "cell_type": "code",
   "execution_count": 7,
   "metadata": {
    "colab": {},
    "colab_type": "code",
    "id": "gjfzrizxVlcX"
   },
   "outputs": [],
   "source": [
    "a=np.array([[2,2,2],[2,2,2]]) #Prueba\n",
    "b=np.array([3,3,3])           \n"
   ]
  },
  {
   "cell_type": "code",
   "execution_count": 8,
   "metadata": {
    "colab": {
     "base_uri": "https://localhost:8080/",
     "height": 34
    },
    "colab_type": "code",
    "executionInfo": {
     "elapsed": 1275,
     "status": "ok",
     "timestamp": 1599825371714,
     "user": {
      "displayName": "DANIEL FELIPE RIVERA ARROYAVE",
      "photoUrl": "https://lh3.googleusercontent.com/a-/AOh14GhKUcXWForDRzN8KQTJax_-Hooo1DeBYp0of1gL_A=s64",
      "userId": "01701263505455054832"
     },
     "user_tz": 300
    },
    "id": "N6YN6iCuXoOk",
    "outputId": "6abe56ba-f96e-4d89-9aaa-22e01bd1a30d"
   },
   "outputs": [
    {
     "data": {
      "text/plain": [
       "array([18, 18])"
      ]
     },
     "execution_count": 8,
     "metadata": {},
     "output_type": "execute_result"
    }
   ],
   "source": [
    "regression(a,b) #Prueba regression"
   ]
  },
  {
   "cell_type": "markdown",
   "metadata": {
    "colab_type": "text",
    "id": "oWEgqHRyt-Dg"
   },
   "source": [
    "De igual manera, debemos extender nuestro conjunto de datos. Comprende que hace  la siguiente celda de código y ejecutala. **Muy importante ejecutar SOLA UNA vez.**"
   ]
  },
  {
   "cell_type": "code",
   "execution_count": 9,
   "metadata": {
    "colab": {},
    "colab_type": "code",
    "id": "YzAgbcZyt-Dh"
   },
   "outputs": [],
   "source": [
    "#Aca llamamos la funcion creada anteriormente\n",
    "# par obtener el numero muestras y caractersiticas\n",
    "muestras,caracterisitcas = num_muestras_carac(x)\n",
    "#Extendemos la matriz de X para el parámetro independiente\n",
    "unos = np.array([np.ones(muestras)])\n",
    "x = np.concatenate((unos.T, x), axis=1)\n",
    "x = x.reshape(muestras, caracterisitcas+1)\n",
    "y = y.reshape(np.size(y), 1)"
   ]
  },
  {
   "cell_type": "code",
   "execution_count": 10,
   "metadata": {
    "cellView": "form",
    "colab": {},
    "colab_type": "code",
    "id": "xz6ZrNhWt-Di"
   },
   "outputs": [],
   "source": [
    "#@title Pregunta Abierta\n",
    "#@markdown  ¿por es necesario realizar la anterior extensión a nuestro conjunto de datos?\n",
    "respuesta_2 = \"Debemos crear una matriz extendida(con una columna adicional de unos) a partir de la matriz de muestras para que a la hora de realizar el producto matricial con los pesos podamos multiplicar por dicha columna de unos lo que corresponde al termino independiente\" #@param {type:\"string\"}"
   ]
  },
  {
   "cell_type": "markdown",
   "metadata": {
    "colab_type": "text",
    "id": "792kf6-pt-Dk"
   },
   "source": [
    "Ahora vamos a completar el código de la regla de actualización de los parámetros del algoritmo de <font color='blue'>gradiente_descedente</font>: \n",
    "\n",
    "$$w_j(iter) = w_j(iter-1) - \\eta \\frac{\\partial E(w)}{\\partial w_j}$$ \n",
    "\n",
    "recordar que \n",
    "\n",
    "$$ \\frac{\\partial E(w)}{\\partial w_j} = \\frac{\\partial E({\\bf{w}})}{\\partial w_j} = \\frac{1}{N}\\sum_{i=1}^{N}\\left( f({\\bf{x}}_i,{\\bf{w}}) - y_i\\right) \\frac{\\partial }{\\partial w_j} f({\\bf{x}}_i, {\\bf{w}})$$\n",
    "\n",
    "recuerda que debe usar las funciones ya implementadas y no usar **ninguna otra libreria**, adicional a las librerias ya pre-cargadas como numpy (la puedes llamar con np.)"
   ]
  },
  {
   "cell_type": "code",
   "execution_count": 11,
   "metadata": {
    "colab": {},
    "colab_type": "code",
    "executionInfo": {
     "elapsed": 595,
     "status": "ok",
     "timestamp": 1600118612491,
     "user": {
      "displayName": "DANIEL FELIPE RIVERA ARROYAVE",
      "photoUrl": "https://lh3.googleusercontent.com/a-/AOh14GhKUcXWForDRzN8KQTJax_-Hooo1DeBYp0of1gL_A=s64",
      "userId": "01701263505455054832"
     },
     "user_tz": 300
    },
    "id": "LTh-Fn3Ft-Dl"
   },
   "outputs": [],
   "source": [
    "## Ejercicio de codigo\n",
    "def gradiente_descendente(X, Y, eta, iteraciones):\n",
    "    \"\"\"Gradiente descendente para regresión lineal múltiple\n",
    "    X: Matriz de datos extendida\n",
    "    Y: vector con los valores a predecir\n",
    "    W: Vector de parámetros del modelo\n",
    "    eta: Taza de aprendizaje\n",
    "\n",
    "    retorna: W el valor de de los parametros de regresión polinomica\n",
    "    \"\"\"\n",
    "      \n",
    "    # #Inicializamos el vector de parámetros con ceros y sumamos la función\n",
    "    # # para saber el numero de muestras y caractersiticas\n",
    "    N, caracterisitcas = num_muestras_carac(X)\n",
    "    W = np.zeros((1,caracterisitcas))\n",
    "    W = W.reshape(np.size(W), 1)    \n",
    "\n",
    "    for iter in range(iteraciones):\n",
    "        ## Aca debes completar la funcion! recuerda que solo debes usar numpy (np.funcion_a_usar)\n",
    "        ## para actualizar los pesos W.\n",
    "        ## Pista: consulta que efecto tienen los parametros keepdims y axis en np.sum()\n",
    "        a=(regression(X,W)-Y.reshape(N,1))*X\n",
    "        sum= np.sum(a,axis=0,keepdims=True)\n",
    "        W=W-(eta*sum.T)/N\n",
    "    return W\n",
    "\n"
   ]
  },
  {
   "cell_type": "code",
   "execution_count": 12,
   "metadata": {
    "colab": {
     "base_uri": "https://localhost:8080/",
     "height": 34
    },
    "colab_type": "code",
    "executionInfo": {
     "elapsed": 689,
     "status": "ok",
     "timestamp": 1599848310643,
     "user": {
      "displayName": "DANIEL FELIPE RIVERA ARROYAVE",
      "photoUrl": "https://lh3.googleusercontent.com/a-/AOh14GhKUcXWForDRzN8KQTJax_-Hooo1DeBYp0of1gL_A=s64",
      "userId": "01701263505455054832"
     },
     "user_tz": 300
    },
    "id": "_b8wbxvDXkt9",
    "outputId": "528f2a04-1be3-469b-b587-affa18b3b695"
   },
   "outputs": [
    {
     "data": {
      "text/plain": [
       "True"
      ]
     },
     "execution_count": 12,
     "metadata": {},
     "output_type": "execute_result"
    }
   ],
   "source": [
    "a=0.0\n",
    "a!=(1.0 or 0)\n"
   ]
  },
  {
   "cell_type": "code",
   "execution_count": 13,
   "metadata": {
    "colab": {
     "base_uri": "https://localhost:8080/",
     "height": 34
    },
    "colab_type": "code",
    "executionInfo": {
     "elapsed": 697,
     "status": "ok",
     "timestamp": 1599825655798,
     "user": {
      "displayName": "DANIEL FELIPE RIVERA ARROYAVE",
      "photoUrl": "https://lh3.googleusercontent.com/a-/AOh14GhKUcXWForDRzN8KQTJax_-Hooo1DeBYp0of1gL_A=s64",
      "userId": "01701263505455054832"
     },
     "user_tz": 300
    },
    "id": "JhwNveWct-Dm",
    "outputId": "dd3fdeeb-5e0b-4c9b-c336-fa0ad3a9c200",
    "tags": []
   },
   "outputs": [
    {
     "name": "stdout",
     "output_type": "stream",
     "text": [
      "TEST EXITOSO!\n"
     ]
    }
   ],
   "source": [
    "## la funcion que prueba tu implementacion\n",
    "GRADER_LAB_1_P1.run_test(\"ejercicio2\", gradiente_descendente)"
   ]
  },
  {
   "cell_type": "markdown",
   "metadata": {
    "colab_type": "text",
    "id": "SKjx_cyit-Do"
   },
   "source": [
    "## Ejercicio 3: Entrenamiento\n",
    "\n",
    "Con la función implementada vamos a entrenar un modelo y calcular su error de entrenamiento. Antes de realizar esto, debemos separar nuestro conjunto de datos.\n",
    "\n"
   ]
  },
  {
   "cell_type": "code",
   "execution_count": 14,
   "metadata": {
    "colab": {},
    "colab_type": "code",
    "id": "sS9hJDVFt-Do"
   },
   "outputs": [],
   "source": [
    "# esto para lograr reproductibilidad\n",
    "# de nuestro modelo\n",
    "random.seed(1)\n",
    "# usamos nuestra funcion para obtener el numero de muestras\n",
    "N, _ = num_muestras_carac(x)\n",
    "ind=np.random.permutation(N)\n",
    "Xtrain = x[ind[0:int(math.ceil(0.7*N))],:]\n",
    "Xtest = x[ind[int(math.ceil(0.7*N)):N],:]\n",
    "Ytrain = y[ind[0:int(math.ceil(0.7*N))]]\n",
    "Ytest = y[ind[int(math.ceil(0.7*N)):N]]"
   ]
  },
  {
   "cell_type": "markdown",
   "metadata": {
    "colab_type": "text",
    "id": "WirOVVB3t-Dq"
   },
   "source": [
    "Ahora entrena ejecutando la siguiente linea de codigo"
   ]
  },
  {
   "cell_type": "code",
   "execution_count": 15,
   "metadata": {
    "colab": {},
    "colab_type": "code",
    "id": "0yZA7wcCt-Dr",
    "tags": []
   },
   "outputs": [],
   "source": [
    "W = gradiente_descendente(Xtrain, Ytrain, eta = 0.0001, iteraciones=5)"
   ]
  },
  {
   "cell_type": "code",
   "execution_count": 16,
   "metadata": {
    "cellView": "form",
    "colab": {},
    "colab_type": "code",
    "id": "wjSZoGRat-Ds"
   },
   "outputs": [],
   "source": [
    "#@title Pregunta Abierta\n",
    "#@markdown  ¿por qué fue necesario dividir nuestro conjunto de datos? justifique su respuesta \n",
    "respuesta_3 = \"\\\"Es importante dividir el conjunto de datos porque es necesario realizar pruebas y validaciones al modelo, estas se realizan con muestras diferentes que no hayan estado presentes en su proceso de entrenamiento porque no seria coherente obtener los pesos que corresponden a un conjunto de datos y validarlo con estos mismos pues no tendriamos certeza del funcionamiento del modelo con datos distintos a los de entrenamiento.\\\"\" #@param {type:\"string\"}"
   ]
  },
  {
   "cell_type": "markdown",
   "metadata": {
    "colab_type": "text",
    "id": "vzdmfgTXt-Du"
   },
   "source": [
    "Vamos a evaluar nuestro modelo calculando el error cuadrático medio. Para ello vamos crear a una función. Recuerda usar las funciones definidas anteriormente."
   ]
  },
  {
   "cell_type": "code",
   "execution_count": 17,
   "metadata": {
    "colab": {},
    "colab_type": "code",
    "id": "oi2YMyITt-Du"
   },
   "outputs": [],
   "source": [
    "## Ejercicio de Código\n",
    "def evaluar_modelo (W, X_to_test, Y_True):\n",
    "    \"\"\" funcion que evalua un modelo de regresión usando el error cuadratico medio\n",
    "\n",
    "    W: es un matriz con los parametros del modelo entrenados\n",
    "    X_to_test: conjunto de datos para usar en el evaluamiento del modelo\n",
    "    Y_True: valores reales para usar en el evaluamiento del modelo\n",
    "  \n",
    "    retorna: el error cuadratico medio\n",
    "    \"\"\"\n",
    "    ## Comienza a completar tu codigo. recuerda usar la funciones ya definidas\n",
    "    y_out=regression(X_to_test,W)\n",
    "    error=ECM(Y_True,y_out)\n",
    "    return(error)\n",
    "\n"
   ]
  },
  {
   "cell_type": "code",
   "execution_count": 18,
   "metadata": {
    "colab": {
     "base_uri": "https://localhost:8080/",
     "height": 34
    },
    "colab_type": "code",
    "executionInfo": {
     "elapsed": 785,
     "status": "ok",
     "timestamp": 1599825721665,
     "user": {
      "displayName": "DANIEL FELIPE RIVERA ARROYAVE",
      "photoUrl": "https://lh3.googleusercontent.com/a-/AOh14GhKUcXWForDRzN8KQTJax_-Hooo1DeBYp0of1gL_A=s64",
      "userId": "01701263505455054832"
     },
     "user_tz": 300
    },
    "id": "5J2Y2CR0t-Dw",
    "outputId": "54ec6855-60b5-4244-de59-b58a363c9b97",
    "tags": []
   },
   "outputs": [
    {
     "name": "stdout",
     "output_type": "stream",
     "text": [
      "TEST EXITOSO!\n"
     ]
    }
   ],
   "source": [
    "## la funcion que prueba tu implementacion\n",
    "GRADER_LAB_1_P1.run_test(\"ejercicio3\", evaluar_modelo)"
   ]
  },
  {
   "cell_type": "code",
   "execution_count": 19,
   "metadata": {
    "colab": {
     "base_uri": "https://localhost:8080/",
     "height": 51
    },
    "colab_type": "code",
    "executionInfo": {
     "elapsed": 1214,
     "status": "ok",
     "timestamp": 1599825731017,
     "user": {
      "displayName": "DANIEL FELIPE RIVERA ARROYAVE",
      "photoUrl": "https://lh3.googleusercontent.com/a-/AOh14GhKUcXWForDRzN8KQTJax_-Hooo1DeBYp0of1gL_A=s64",
      "userId": "01701263505455054832"
     },
     "user_tz": 300
    },
    "id": "SkVgkc_5t-Dy",
    "outputId": "dc0a923f-04e3-4ce4-95b7-f637ced47850",
    "tags": []
   },
   "outputs": [
    {
     "name": "stdout",
     "output_type": "stream",
     "text": [
      "error en entrenamiento del modelo 3.3506372430474634e+28\n",
      "error en la evaluación del modelo 3.2668771079123387e+28\n"
     ]
    }
   ],
   "source": [
    "# y ahora usala para calcular el error, para evaluar el modelo\n",
    "error_train = evaluar_modelo(W, X_to_test = Xtrain,  Y_True = Ytrain)\n",
    "print(\"error en entrenamiento del modelo\", error_train)\n",
    "error_test = evaluar_modelo(W, X_to_test = Xtest,  Y_True = Ytest)\n",
    "print(\"error en la evaluación del modelo\", error_test)"
   ]
  },
  {
   "cell_type": "code",
   "execution_count": 20,
   "metadata": {
    "cellView": "form",
    "colab": {},
    "colab_type": "code",
    "id": "Dy9Ft9cJt-D0"
   },
   "outputs": [],
   "source": [
    "#@title Pregunta Abierta\n",
    "#@markdown ¿que conjunto de datos se uso para evaluar el modelo (cual fue el conjunto de datos asignado a X_to_test para el error test)? justifica tu respuesta\n",
    "respuesta_4 = \"El conjunto de datos diferente a los datos de entrenamiento que fue separado anteriormente del conjunto inicial(Xtest y Ytest)\" #@param {type:\"string\"}"
   ]
  },
  {
   "cell_type": "code",
   "execution_count": 21,
   "metadata": {
    "cellView": "form",
    "colab": {},
    "colab_type": "code",
    "id": "50C2ZAubt-D2"
   },
   "outputs": [],
   "source": [
    "#@title Pregunta Abierta\n",
    "#@markdown  escribe aqui tu error al evaluar el modelo con tres cifras decimales. ¿Que tan bueno es tu modelo? Justifica tu respuesta.\n",
    "respuesta_5 = \"3.20e+40, muy malo por la magnitud del error que representa la diferencia que hay entre el valor obtenido y el valor real.\" #@param {type:\"string\"}\n"
   ]
  },
  {
   "cell_type": "markdown",
   "metadata": {
    "colab_type": "text",
    "id": "pq729RWGt-D3"
   },
   "source": [
    "Hasta ahora lo que hemos realizado es un regresión lineal no polinómica. Nuestro siguiente objetivo es tomar esta regresión y transformarla en polinómica. Comprenda el funcionamiento de la función propuesta"
   ]
  },
  {
   "cell_type": "code",
   "execution_count": 22,
   "metadata": {
    "colab": {},
    "colab_type": "code",
    "id": "3OU0ZVLut-D3"
   },
   "outputs": [],
   "source": [
    "#Potencia de polinomio\n",
    "def potenciaPolinomio(X,grado):\n",
    "    \"\"\"calcula la potencia del polinomio\n",
    "    X: los valores que corresponden a las caractersiticas\n",
    "    grado: esl grado para realizar la potencia al polinomio\n",
    "    retorna: el valor de X despues elevarlo al grado del polinimoo indicado\n",
    "    \"\"\"\n",
    "    X2 = X.copy()\n",
    "    \n",
    "    if grado != 1:\n",
    "        for i in range(2,grado+1):\n",
    "            Xadd = X**i\n",
    "            X2 = np.concatenate((X2, Xadd), axis=1)\n",
    "    \n",
    "    return X2"
   ]
  },
  {
   "cell_type": "markdown",
   "metadata": {
    "colab_type": "text",
    "id": "N37UeA5mt-D5"
   },
   "source": [
    "Ahora debemos usar esta función para completar la siguiente, recuerda que puedes reusar funciones desarrolladas anteriomente"
   ]
  },
  {
   "cell_type": "code",
   "execution_count": 23,
   "metadata": {
    "colab": {},
    "colab_type": "code",
    "id": "lJd2w7ezt-D5"
   },
   "outputs": [],
   "source": [
    "## Ejercicio de codigo\n",
    "def gradiente_descendente_poly (X, Y, eta, iteraciones, grado):\n",
    "    \"\"\"Gradiente descendente para regresión lineal múltiple\n",
    "    X: Matriz de datos extendida\n",
    "    Y: vector con los valores a predecir\n",
    "    W: Vector de parámetros del modelo\n",
    "    eta: Taza de aprendizaje\n",
    "    iteraciones: numero de iteraciones maximo para el gradiente\n",
    "    grado: el valor del polinomio a usar\n",
    "    retorna: W el valor de de los parametros de regresión polinomica\n",
    "    \"\"\"\n",
    "    X2 = potenciaPolinomio(X,grado)\n",
    "    ## completa el codigo\n",
    "    N, caracterisitcas = num_muestras_carac(X2)\n",
    "    W = np.zeros((1,caracterisitcas))\n",
    "    W = W.reshape(np.size(W), 1)    \n",
    "\n",
    "    for iter in range(iteraciones):\n",
    "        ## Aca debes completar la funcion! recuerda que solo debes usar numpy (np.funcion_a_usar)\n",
    "        ## para actualizar los pesos W.\n",
    "        ## Pista: consulta que efecto tienen los parametros keepdims y axis en np.sum()\n",
    "        a=(regression(X2,W)-Y.reshape(N,1))*X2\n",
    "        sum= np.sum(a,axis=0,keepdims=True)/N\n",
    "        W=W-(eta*sum.T)\n",
    "\n",
    "    return (W)"
   ]
  },
  {
   "cell_type": "code",
   "execution_count": 24,
   "metadata": {
    "colab": {
     "base_uri": "https://localhost:8080/",
     "height": 34
    },
    "colab_type": "code",
    "executionInfo": {
     "elapsed": 721,
     "status": "ok",
     "timestamp": 1599826004160,
     "user": {
      "displayName": "DANIEL FELIPE RIVERA ARROYAVE",
      "photoUrl": "https://lh3.googleusercontent.com/a-/AOh14GhKUcXWForDRzN8KQTJax_-Hooo1DeBYp0of1gL_A=s64",
      "userId": "01701263505455054832"
     },
     "user_tz": 300
    },
    "id": "ji7q97o1t-D7",
    "outputId": "86ac0b00-0987-4118-952c-e7f2fb4ffd5a",
    "tags": []
   },
   "outputs": [
    {
     "name": "stdout",
     "output_type": "stream",
     "text": [
      "TEST EXITOSO!\n"
     ]
    }
   ],
   "source": [
    "## la funcion que prueba tu implementacion\n",
    "GRADER_LAB_1_P1.run_test(\"ejercicio4\", gradiente_descendente_poly)"
   ]
  },
  {
   "cell_type": "code",
   "execution_count": 25,
   "metadata": {
    "colab": {},
    "colab_type": "code",
    "id": "Q5GzV4HGWU3N"
   },
   "outputs": [],
   "source": [
    "def evaluar_modelo_poly (W, X_to_test, Y_True, grado):\n",
    "    \"\"\" funcion que evalua un modelo de regresión usando el error cuadratico medio\n",
    "\n",
    "    W: es un matriz con los parametros del modelo entrenados\n",
    "    X_to_test: conjunto de datos para usar en el evaluamiento del modelo\n",
    "    Y_True: valores reales para usar en el evaluamiento del modelo\n",
    "    grado: grado del polinimio a usar\n",
    "\n",
    "    retorna: el error cuadratico medio\n",
    "    \"\"\"\n",
    "    ## Comienza a completar tu codigo. recuerda usar la funciones ya definidas\n",
    "    X2 = potenciaPolinomio(X_to_test,grado)\n",
    "    y_out=regression(X2,W)\n",
    "    error=ECM(Y_True,y_out)\n",
    "    return(error)"
   ]
  },
  {
   "cell_type": "code",
   "execution_count": 26,
   "metadata": {
    "colab": {
     "base_uri": "https://localhost:8080/",
     "height": 34
    },
    "colab_type": "code",
    "executionInfo": {
     "elapsed": 821,
     "status": "ok",
     "timestamp": 1599826018606,
     "user": {
      "displayName": "DANIEL FELIPE RIVERA ARROYAVE",
      "photoUrl": "https://lh3.googleusercontent.com/a-/AOh14GhKUcXWForDRzN8KQTJax_-Hooo1DeBYp0of1gL_A=s64",
      "userId": "01701263505455054832"
     },
     "user_tz": 300
    },
    "id": "erqyuZmjUkJN",
    "outputId": "4b5761f4-7ad3-4a8b-fef1-d4181ab0d364"
   },
   "outputs": [
    {
     "name": "stdout",
     "output_type": "stream",
     "text": [
      "TEST EXITOSO!\n"
     ]
    }
   ],
   "source": [
    "GRADER_LAB_1_P1.run_test(\"ejercicio5\", evaluar_modelo_poly)"
   ]
  },
  {
   "cell_type": "code",
   "execution_count": 27,
   "metadata": {
    "colab": {},
    "colab_type": "code",
    "id": "FYhz7MRIt-D8",
    "tags": []
   },
   "outputs": [],
   "source": [
    "# entrenamos\n",
    "W = gradiente_descendente_poly(Xtrain, Ytrain, eta = 0.0001, iteraciones=2, grado = 2)"
   ]
  },
  {
   "cell_type": "code",
   "execution_count": 28,
   "metadata": {
    "colab": {
     "base_uri": "https://localhost:8080/",
     "height": 34
    },
    "colab_type": "code",
    "executionInfo": {
     "elapsed": 710,
     "status": "ok",
     "timestamp": 1599826023531,
     "user": {
      "displayName": "DANIEL FELIPE RIVERA ARROYAVE",
      "photoUrl": "https://lh3.googleusercontent.com/a-/AOh14GhKUcXWForDRzN8KQTJax_-Hooo1DeBYp0of1gL_A=s64",
      "userId": "01701263505455054832"
     },
     "user_tz": 300
    },
    "id": "CYMnh6n7t-EA",
    "outputId": "d7cac68c-aaea-4702-cef7-7092f2c38dc0",
    "tags": []
   },
   "outputs": [
    {
     "name": "stdout",
     "output_type": "stream",
     "text": [
      "error en la evaluación del modelo 8.402399336244123e+35\n"
     ]
    }
   ],
   "source": [
    "# completa los parametros para evaluar el modelo\n",
    "error_test = evaluar_modelo_poly(W, X_to_test = Xtest,  Y_True = Ytest, grado = 2)\n",
    "print(\"error en la evaluación del modelo\", error_test)"
   ]
  },
  {
   "cell_type": "markdown",
   "metadata": {
    "colab_type": "text",
    "id": "5pBn_Tt6t-EC"
   },
   "source": [
    "## Ejercicio 4: Experimentar\n",
    "\n",
    "En nuestro primer experimento vamos a evaluar el rendimiento del modelo usando varias tasas de aprendizaje y grados de polinimios. Vamos a dejar por ahora un numero de iteraciones fijas = 5. Para ello completa la siguiente función.\n",
    "\n"
   ]
  },
  {
   "cell_type": "code",
   "execution_count": 29,
   "metadata": {
    "colab": {},
    "colab_type": "code",
    "id": "ALxnYTFTt-EC"
   },
   "outputs": [],
   "source": [
    "## ejercicio de codigo\n",
    "def experimentar (Xtrain, Xtest, Ytrain, Ytest, tasas, grados):\n",
    "    \"\"\" funcion para realizar experimentos.\n",
    "    Xtrain: conjunto de datos\n",
    "    Xtest:\n",
    "    Ytrain:\n",
    "    Ytest:\n",
    "    tasas: Es una lista con los valores númericos de tasas de aprendizaje \n",
    "        para realizar los experimentos\n",
    "    grados: Es una lista con los valores númericos de grados \n",
    "        para realizar los experimentos\n",
    "    retorna: un dataframe con el resultados de los experimentos\n",
    "    \"\"\"\n",
    "    numero_iter = 5\n",
    "\n",
    "    resultados = pd.DataFrame()\n",
    "    idx = 0 # indice\n",
    "    for eta in tasas:\n",
    "        for grado in grados:\n",
    "\n",
    "            W =gradiente_descendente_poly(Xtrain,Ytrain,eta,numero_iter,grado)\n",
    "            error =evaluar_modelo_poly(W,Xtest,Ytest,grado)\n",
    "        \n",
    "            resultados.loc[idx,'grado'] = grado\n",
    "            resultados.loc[idx,'tasa de aprendizaje'] = eta\n",
    "            resultados.loc[idx,'ecm'] = error\n",
    "            idx = idx+1\n",
    "\n",
    "    return (resultados)"
   ]
  },
  {
   "cell_type": "code",
   "execution_count": 30,
   "metadata": {
    "colab": {
     "base_uri": "https://localhost:8080/",
     "height": 34
    },
    "colab_type": "code",
    "executionInfo": {
     "elapsed": 661,
     "status": "ok",
     "timestamp": 1599826043790,
     "user": {
      "displayName": "DANIEL FELIPE RIVERA ARROYAVE",
      "photoUrl": "https://lh3.googleusercontent.com/a-/AOh14GhKUcXWForDRzN8KQTJax_-Hooo1DeBYp0of1gL_A=s64",
      "userId": "01701263505455054832"
     },
     "user_tz": 300
    },
    "id": "dKC_CnY1t-EE",
    "outputId": "d8222dae-ec4a-463c-97f3-bdd5722a31c6",
    "tags": []
   },
   "outputs": [
    {
     "name": "stdout",
     "output_type": "stream",
     "text": [
      "TEST EXITOSO!\n"
     ]
    }
   ],
   "source": [
    "## la funcion que prueba tu implementacion\n",
    "GRADER_LAB_1_P1.run_test(\"ejercicio6\", experimentar)"
   ]
  },
  {
   "cell_type": "code",
   "execution_count": 31,
   "metadata": {
    "colab": {},
    "colab_type": "code",
    "id": "8oxa-XkKt-EF",
    "tags": []
   },
   "outputs": [],
   "source": [
    "## Ahora usa para verlos los resultados\n",
    "tasas_aprendizaje = [1e-6, 1e-5, 1e-3, 1e-2]\n",
    "grados_polinomio = [1,2,3]\n",
    "resultados_ex1 = experimentar(Xtrain, Xtest, Ytrain, Ytest, tasas_aprendizaje, grados_polinomio)"
   ]
  },
  {
   "cell_type": "code",
   "execution_count": 32,
   "metadata": {
    "colab": {
     "base_uri": "https://localhost:8080/",
     "height": 421
    },
    "colab_type": "code",
    "executionInfo": {
     "elapsed": 772,
     "status": "ok",
     "timestamp": 1599826050049,
     "user": {
      "displayName": "DANIEL FELIPE RIVERA ARROYAVE",
      "photoUrl": "https://lh3.googleusercontent.com/a-/AOh14GhKUcXWForDRzN8KQTJax_-Hooo1DeBYp0of1gL_A=s64",
      "userId": "01701263505455054832"
     },
     "user_tz": 300
    },
    "id": "zAOcZfoRt-EG",
    "outputId": "d915cfe7-44d0-4173-8df6-e44f8fdc6858",
    "tags": []
   },
   "outputs": [
    {
     "data": {
      "text/html": [
       "<div>\n",
       "<style scoped>\n",
       "    .dataframe tbody tr th:only-of-type {\n",
       "        vertical-align: middle;\n",
       "    }\n",
       "\n",
       "    .dataframe tbody tr th {\n",
       "        vertical-align: top;\n",
       "    }\n",
       "\n",
       "    .dataframe thead th {\n",
       "        text-align: right;\n",
       "    }\n",
       "</style>\n",
       "<table border=\"1\" class=\"dataframe\">\n",
       "  <thead>\n",
       "    <tr style=\"text-align: right;\">\n",
       "      <th></th>\n",
       "      <th>grado</th>\n",
       "      <th>tasa de aprendizaje</th>\n",
       "      <th>ecm</th>\n",
       "    </tr>\n",
       "  </thead>\n",
       "  <tbody>\n",
       "    <tr>\n",
       "      <th>0</th>\n",
       "      <td>1.0</td>\n",
       "      <td>0.000001</td>\n",
       "      <td>5.435907e+07</td>\n",
       "    </tr>\n",
       "    <tr>\n",
       "      <th>1</th>\n",
       "      <td>2.0</td>\n",
       "      <td>0.000001</td>\n",
       "      <td>1.492277e+70</td>\n",
       "    </tr>\n",
       "    <tr>\n",
       "      <th>2</th>\n",
       "      <td>3.0</td>\n",
       "      <td>0.000001</td>\n",
       "      <td>2.522424e+134</td>\n",
       "    </tr>\n",
       "    <tr>\n",
       "      <th>3</th>\n",
       "      <td>1.0</td>\n",
       "      <td>0.000010</td>\n",
       "      <td>2.810757e+18</td>\n",
       "    </tr>\n",
       "    <tr>\n",
       "      <th>4</th>\n",
       "      <td>2.0</td>\n",
       "      <td>0.000010</td>\n",
       "      <td>1.492278e+80</td>\n",
       "    </tr>\n",
       "    <tr>\n",
       "      <th>5</th>\n",
       "      <td>3.0</td>\n",
       "      <td>0.000010</td>\n",
       "      <td>2.522424e+144</td>\n",
       "    </tr>\n",
       "    <tr>\n",
       "      <th>6</th>\n",
       "      <td>1.0</td>\n",
       "      <td>0.001000</td>\n",
       "      <td>3.315966e+38</td>\n",
       "    </tr>\n",
       "    <tr>\n",
       "      <th>7</th>\n",
       "      <td>2.0</td>\n",
       "      <td>0.001000</td>\n",
       "      <td>1.492278e+100</td>\n",
       "    </tr>\n",
       "    <tr>\n",
       "      <th>8</th>\n",
       "      <td>3.0</td>\n",
       "      <td>0.001000</td>\n",
       "      <td>2.522424e+164</td>\n",
       "    </tr>\n",
       "    <tr>\n",
       "      <th>9</th>\n",
       "      <td>1.0</td>\n",
       "      <td>0.010000</td>\n",
       "      <td>3.320911e+48</td>\n",
       "    </tr>\n",
       "    <tr>\n",
       "      <th>10</th>\n",
       "      <td>2.0</td>\n",
       "      <td>0.010000</td>\n",
       "      <td>1.492278e+110</td>\n",
       "    </tr>\n",
       "    <tr>\n",
       "      <th>11</th>\n",
       "      <td>3.0</td>\n",
       "      <td>0.010000</td>\n",
       "      <td>2.522424e+174</td>\n",
       "    </tr>\n",
       "  </tbody>\n",
       "</table>\n",
       "</div>"
      ],
      "text/plain": [
       "    grado  tasa de aprendizaje            ecm\n",
       "0     1.0             0.000001   5.435907e+07\n",
       "1     2.0             0.000001   1.492277e+70\n",
       "2     3.0             0.000001  2.522424e+134\n",
       "3     1.0             0.000010   2.810757e+18\n",
       "4     2.0             0.000010   1.492278e+80\n",
       "5     3.0             0.000010  2.522424e+144\n",
       "6     1.0             0.001000   3.315966e+38\n",
       "7     2.0             0.001000  1.492278e+100\n",
       "8     3.0             0.001000  2.522424e+164\n",
       "9     1.0             0.010000   3.320911e+48\n",
       "10    2.0             0.010000  1.492278e+110\n",
       "11    3.0             0.010000  2.522424e+174"
      ]
     },
     "execution_count": 32,
     "metadata": {},
     "output_type": "execute_result"
    }
   ],
   "source": [
    "#para ver los resultados\n",
    "resultados_ex1"
   ]
  },
  {
   "cell_type": "markdown",
   "metadata": {
    "colab_type": "text",
    "id": "yoDS2e-gt-EI"
   },
   "source": [
    "Si has implementado todo correctamente, parecieria que nuestros entrenamientos no esta logrando buenos resultados (hasta parece haber errores infinitos! o no determinados!). Ahora Entiende la siguiente función. \n"
   ]
  },
  {
   "cell_type": "code",
   "execution_count": 33,
   "metadata": {
    "colab": {},
    "colab_type": "code",
    "id": "IhHXjgOmt-EI"
   },
   "outputs": [],
   "source": [
    "#Normalizamos los datos\n",
    "def normalizar(Xtrain, Xtest):\n",
    "    \"\"\" función que se usa para normalizar los datos con\n",
    "    un metodo especifico\n",
    "    Xtrain: matriz de datos entrenamiento a normalizar\n",
    "    Xtest: matriz de datos evaluación a normalizar\n",
    "    retorna: matrices normalizadas\n",
    "    \"\"\"\n",
    "    \n",
    "    media = np.mean(Xtrain, axis = 0)\n",
    "    desvia = np.std(Xtrain, axis = 0)\n",
    "    Xtrain_n = stats.stats.zscore(Xtrain)\n",
    "    Xtest_n = (Xtest - media )/desvia\n",
    "    # si hay una desviacion por cero, reemplazamos los nan\n",
    "    Xtrain_n = np.nan_to_num(Xtrain_n)\n",
    "    Xtest_n = np.nan_to_num(Xtest_n)\n",
    "    return (Xtrain_n, Xtest_n)"
   ]
  },
  {
   "cell_type": "markdown",
   "metadata": {
    "colab_type": "text",
    "id": "PzsHpPk1t-EK"
   },
   "source": [
    "Ahora vuelve a realizar los mismos experimentos pero esta vez usa los valores de salida de la función anterior."
   ]
  },
  {
   "cell_type": "code",
   "execution_count": 34,
   "metadata": {
    "colab": {
     "base_uri": "https://localhost:8080/",
     "height": 85
    },
    "colab_type": "code",
    "executionInfo": {
     "elapsed": 718,
     "status": "ok",
     "timestamp": 1599826058253,
     "user": {
      "displayName": "DANIEL FELIPE RIVERA ARROYAVE",
      "photoUrl": "https://lh3.googleusercontent.com/a-/AOh14GhKUcXWForDRzN8KQTJax_-Hooo1DeBYp0of1gL_A=s64",
      "userId": "01701263505455054832"
     },
     "user_tz": 300
    },
    "id": "ZZedE9Qdt-EK",
    "outputId": "e3aef6fe-5c0d-4b69-b9ba-148353c2724c",
    "tags": []
   },
   "outputs": [
    {
     "name": "stderr",
     "output_type": "stream",
     "text": [
      "/home/daniel/anaconda3/lib/python3.8/site-packages/scipy/stats/stats.py:2500: RuntimeWarning: invalid value encountered in true_divide\n",
      "  return (a - mns) / sstd\n",
      "<ipython-input-33-ad4ae61758cf>:13: RuntimeWarning: invalid value encountered in true_divide\n",
      "  Xtest_n = (Xtest - media )/desvia\n"
     ]
    }
   ],
   "source": [
    "Xtrain_n, Xtest_n = normalizar(Xtrain, Xtest)"
   ]
  },
  {
   "cell_type": "code",
   "execution_count": 35,
   "metadata": {
    "colab": {
     "base_uri": "https://localhost:8080/",
     "height": 421
    },
    "colab_type": "code",
    "executionInfo": {
     "elapsed": 785,
     "status": "ok",
     "timestamp": 1599826061460,
     "user": {
      "displayName": "DANIEL FELIPE RIVERA ARROYAVE",
      "photoUrl": "https://lh3.googleusercontent.com/a-/AOh14GhKUcXWForDRzN8KQTJax_-Hooo1DeBYp0of1gL_A=s64",
      "userId": "01701263505455054832"
     },
     "user_tz": 300
    },
    "id": "j2a8O7c7t-EM",
    "outputId": "5d1fa9a9-424f-4e99-fef9-63aae2a69ec1",
    "tags": []
   },
   "outputs": [
    {
     "data": {
      "text/html": [
       "<div>\n",
       "<style scoped>\n",
       "    .dataframe tbody tr th:only-of-type {\n",
       "        vertical-align: middle;\n",
       "    }\n",
       "\n",
       "    .dataframe tbody tr th {\n",
       "        vertical-align: top;\n",
       "    }\n",
       "\n",
       "    .dataframe thead th {\n",
       "        text-align: right;\n",
       "    }\n",
       "</style>\n",
       "<table border=\"1\" class=\"dataframe\">\n",
       "  <thead>\n",
       "    <tr style=\"text-align: right;\">\n",
       "      <th></th>\n",
       "      <th>grado</th>\n",
       "      <th>tasa de aprendizaje</th>\n",
       "      <th>ecm</th>\n",
       "    </tr>\n",
       "  </thead>\n",
       "  <tbody>\n",
       "    <tr>\n",
       "      <th>0</th>\n",
       "      <td>1.0</td>\n",
       "      <td>0.000001</td>\n",
       "      <td>1.625587e+03</td>\n",
       "    </tr>\n",
       "    <tr>\n",
       "      <th>1</th>\n",
       "      <td>2.0</td>\n",
       "      <td>0.000001</td>\n",
       "      <td>1.624190e+03</td>\n",
       "    </tr>\n",
       "    <tr>\n",
       "      <th>2</th>\n",
       "      <td>3.0</td>\n",
       "      <td>0.000001</td>\n",
       "      <td>1.595828e+03</td>\n",
       "    </tr>\n",
       "    <tr>\n",
       "      <th>3</th>\n",
       "      <td>1.0</td>\n",
       "      <td>0.000010</td>\n",
       "      <td>1.624884e+03</td>\n",
       "    </tr>\n",
       "    <tr>\n",
       "      <th>4</th>\n",
       "      <td>2.0</td>\n",
       "      <td>0.000010</td>\n",
       "      <td>1.610975e+03</td>\n",
       "    </tr>\n",
       "    <tr>\n",
       "      <th>5</th>\n",
       "      <td>3.0</td>\n",
       "      <td>0.000010</td>\n",
       "      <td>1.348683e+03</td>\n",
       "    </tr>\n",
       "    <tr>\n",
       "      <th>6</th>\n",
       "      <td>1.0</td>\n",
       "      <td>0.001000</td>\n",
       "      <td>1.549493e+03</td>\n",
       "    </tr>\n",
       "    <tr>\n",
       "      <th>7</th>\n",
       "      <td>2.0</td>\n",
       "      <td>0.001000</td>\n",
       "      <td>6.338172e+02</td>\n",
       "    </tr>\n",
       "    <tr>\n",
       "      <th>8</th>\n",
       "      <td>3.0</td>\n",
       "      <td>0.001000</td>\n",
       "      <td>3.303403e+02</td>\n",
       "    </tr>\n",
       "    <tr>\n",
       "      <th>9</th>\n",
       "      <td>1.0</td>\n",
       "      <td>0.010000</td>\n",
       "      <td>1.009825e+03</td>\n",
       "    </tr>\n",
       "    <tr>\n",
       "      <th>10</th>\n",
       "      <td>2.0</td>\n",
       "      <td>0.010000</td>\n",
       "      <td>1.431517e+01</td>\n",
       "    </tr>\n",
       "    <tr>\n",
       "      <th>11</th>\n",
       "      <td>3.0</td>\n",
       "      <td>0.010000</td>\n",
       "      <td>4.435256e+15</td>\n",
       "    </tr>\n",
       "  </tbody>\n",
       "</table>\n",
       "</div>"
      ],
      "text/plain": [
       "    grado  tasa de aprendizaje           ecm\n",
       "0     1.0             0.000001  1.625587e+03\n",
       "1     2.0             0.000001  1.624190e+03\n",
       "2     3.0             0.000001  1.595828e+03\n",
       "3     1.0             0.000010  1.624884e+03\n",
       "4     2.0             0.000010  1.610975e+03\n",
       "5     3.0             0.000010  1.348683e+03\n",
       "6     1.0             0.001000  1.549493e+03\n",
       "7     2.0             0.001000  6.338172e+02\n",
       "8     3.0             0.001000  3.303403e+02\n",
       "9     1.0             0.010000  1.009825e+03\n",
       "10    2.0             0.010000  1.431517e+01\n",
       "11    3.0             0.010000  4.435256e+15"
      ]
     },
     "execution_count": 35,
     "metadata": {},
     "output_type": "execute_result"
    }
   ],
   "source": [
    "resultados_ex2 = experimentar(Xtrain_n, Xtest_n, Ytrain, Ytest, tasas_aprendizaje, grados_polinomio)\n",
    "#para ver los resultados\n",
    "resultados_ex2"
   ]
  },
  {
   "cell_type": "code",
   "execution_count": 36,
   "metadata": {
    "colab": {
     "base_uri": "https://localhost:8080/",
     "height": 412
    },
    "colab_type": "code",
    "executionInfo": {
     "elapsed": 1490,
     "status": "ok",
     "timestamp": 1599826127452,
     "user": {
      "displayName": "DANIEL FELIPE RIVERA ARROYAVE",
      "photoUrl": "https://lh3.googleusercontent.com/a-/AOh14GhKUcXWForDRzN8KQTJax_-Hooo1DeBYp0of1gL_A=s64",
      "userId": "01701263505455054832"
     },
     "user_tz": 300
    },
    "id": "CANS0MVut-EO",
    "outputId": "24bea0e5-ee9d-47af-f572-3e7a3e1d63ea"
   },
   "outputs": [
    {
     "data": {
      "text/plain": [
       "<seaborn.axisgrid.FacetGrid at 0x7ff9ca482b20>"
      ]
     },
     "execution_count": 36,
     "metadata": {},
     "output_type": "execute_result"
    },
    {
     "data": {
      "image/png": "[encoded data removed]",
      "text/plain": [
       "<Figure size 412x360 with 1 Axes>"
      ]
     },
     "metadata": {
      "needs_background": "light"
     },
     "output_type": "display_data"
    }
   ],
   "source": [
    "# ejecuta esta linea de codigo para ver graficamos tus resultados\n",
    "# aca usamos una libreria llamada seaborn\n",
    "import seaborn as sns\n",
    "s=sns.catplot(data = resultados_ex2, x = 'tasa de aprendizaje',\n",
    "            y = 'ecm',hue ='grado', kind = 'bar')\n",
    "s.set(yscale='log')"
   ]
  },
  {
   "cell_type": "markdown",
   "metadata": {
    "colab_type": "text",
    "id": "LLvDR6k5t-EQ"
   },
   "source": [
    "Ten en cuenta el resutaldo de los  dos experimentos y  responde la  siguiente pregunta abierta"
   ]
  },
  {
   "cell_type": "code",
   "execution_count": 37,
   "metadata": {
    "cellView": "form",
    "colab": {},
    "colab_type": "code",
    "id": "aVFbsu0wt-EQ"
   },
   "outputs": [],
   "source": [
    "#@title Pregunta Abierta\n",
    "#@markdown  ¿Qué proceso hace la normalización sobre los datos? Consulte por qué es necesaria la normalización en el modelo de regresión y cuáles son los tipos de normalización más comunes. ¿Cuál de ellos se aplicó en el laboratorio?\n",
    "respuesta_5 = \"\\\"La normalizacion se encarga de estandarizar los datos a una escala comun que nos permite hacer comparaciones y procesos con mayor facilidad.  Normalizar los datos en un modelo de regresion es muy util, debido a que ayuda a optimizarlo. Las normalizaciones mas comunes son:  - Puntuaci\\\\xF3n tipificada o est\\\\xE1ndar - T Student - Coeficiente de variacion - Momento estandarizado En este laboratorio se aplica la puntuaci\\\\xF3n tipificada o est\\\\xE1ndar, ya que se hace uso de la muestra, la media y la desviaci\\\\xF3n para normalizar los datos.\\\"\" #@param {type:\"string\"}"
   ]
  },
  {
   "cell_type": "markdown",
   "metadata": {
    "colab_type": "text",
    "id": "1Z3nka5at-ES"
   },
   "source": [
    "Finalmente, en nuestro tercer experimento, vamos ver el efecto de las iteraciones sobre el error. completa la siguiente función. Esta vez la tasa de aprendizaje es constante"
   ]
  },
  {
   "cell_type": "code",
   "execution_count": 38,
   "metadata": {
    "colab": {},
    "colab_type": "code",
    "id": "i2eHfZC9t-ES",
    "tags": []
   },
   "outputs": [],
   "source": [
    "## ejercicio de codigo\n",
    "def experimentar_2 (Xtrain, Xtest, Ytrain, Ytest, iteraciones, grados):\n",
    "    \"\"\" funcion para realizar experimentos.\n",
    "    Xtrain: conjunto de datos\n",
    "    Xtest:\n",
    "    Ytrain:\n",
    "    Ytest:\n",
    "    tasas: Es una lista con los valores númericos de tasas de aprendizaje \n",
    "        para realizar los experimentos\n",
    "    rangos: Es una lista con los valores númericos de grados \n",
    "        para realizar los experimentos\n",
    "    retorna: un dataframe con el resultados de los experimentos\n",
    "    \"\"\"\n",
    "    eta = 1e-2\n",
    "    resultados = pd.DataFrame()\n",
    "    idx = 0 # indice\n",
    "    for iter in iteraciones:\n",
    "        for grado in grados:\n",
    "            W =gradiente_descendente_poly(Xtrain,Ytrain,eta,iter,grado)\n",
    "            error =evaluar_modelo_poly(W,Xtest,Ytest,grado)\n",
    "\n",
    "            resultados.loc[idx,'iteraciones'] = iter\n",
    "            resultados.loc[idx,'grado'] = grado\n",
    "            resultados.loc[idx,'ecm'] = error\n",
    "            idx = idx+1\n",
    "    return (resultados)"
   ]
  },
  {
   "cell_type": "code",
   "execution_count": 39,
   "metadata": {
    "colab": {
     "base_uri": "https://localhost:8080/",
     "height": 34
    },
    "colab_type": "code",
    "executionInfo": {
     "elapsed": 829,
     "status": "ok",
     "timestamp": 1599826261062,
     "user": {
      "displayName": "DANIEL FELIPE RIVERA ARROYAVE",
      "photoUrl": "https://lh3.googleusercontent.com/a-/AOh14GhKUcXWForDRzN8KQTJax_-Hooo1DeBYp0of1gL_A=s64",
      "userId": "01701263505455054832"
     },
     "user_tz": 300
    },
    "id": "1Q3TALf8t-ET",
    "outputId": "bc17db43-80cf-4287-c08c-ad61a44fbd20",
    "tags": []
   },
   "outputs": [
    {
     "name": "stdout",
     "output_type": "stream",
     "text": [
      "TEST EXITOSO!\n"
     ]
    }
   ],
   "source": [
    "## la funcion que prueba tu implementacion\n",
    "GRADER_LAB_1_P1.run_test(\"ejercicio7\", experimentar_2)"
   ]
  },
  {
   "cell_type": "code",
   "execution_count": 40,
   "metadata": {
    "colab": {},
    "colab_type": "code",
    "id": "GZIKf7PIt-EV",
    "tags": []
   },
   "outputs": [],
   "source": [
    "num_iters = [1,5,10,20,50, 100,200]\n",
    "grados_polinomio = [1,2]\n",
    "# usamos la funcion para evaliar los resultados\n",
    "resultados_ex3 = experimentar_2(Xtrain_n, Xtest_n, Ytrain, Ytest, num_iters, grados_polinomio )"
   ]
  },
  {
   "cell_type": "code",
   "execution_count": 41,
   "metadata": {
    "colab": {
     "base_uri": "https://localhost:8080/",
     "height": 386
    },
    "colab_type": "code",
    "executionInfo": {
     "elapsed": 1392,
     "status": "ok",
     "timestamp": 1599826263157,
     "user": {
      "displayName": "DANIEL FELIPE RIVERA ARROYAVE",
      "photoUrl": "https://lh3.googleusercontent.com/a-/AOh14GhKUcXWForDRzN8KQTJax_-Hooo1DeBYp0of1gL_A=s64",
      "userId": "01701263505455054832"
     },
     "user_tz": 300
    },
    "id": "E5ekonH6t-EW",
    "outputId": "9c89b4e0-1ea9-42f1-f539-8ff5189602b3"
   },
   "outputs": [
    {
     "data": {
      "text/plain": [
       "<seaborn.axisgrid.FacetGrid at 0x7ff9ca796580>"
      ]
     },
     "execution_count": 41,
     "metadata": {},
     "output_type": "execute_result"
    },
    {
     "data": {
      "image/png": "[encoded data removed]",
      "text/plain": [
       "<Figure size 720x360 with 2 Axes>"
      ]
     },
     "metadata": {
      "needs_background": "light"
     },
     "output_type": "display_data"
    }
   ],
   "source": [
    "# ejecuta esta linea de codigo para ver raficamente tus resultados\n",
    "# aca usamos una libreria llamada seaborn\n",
    "import seaborn as sns\n",
    "sns.relplot(data = resultados_ex3, x = 'iteraciones',\n",
    "            y = 'ecm',col ='grado', kind = 'line')"
   ]
  },
  {
   "cell_type": "code",
   "execution_count": 42,
   "metadata": {
    "cellView": "form",
    "colab": {},
    "colab_type": "code",
    "id": "Y0-BAqdgt-EY"
   },
   "outputs": [],
   "source": [
    "#@title Pregunta Abierta\n",
    "#@markdown  ¿con base a los resultados anteriores, qué efecto tiene el numero de iteraciones en el error?\n",
    "respuesta_6 = \"En este caso podemos ver una relaci\\xF3n inversamente proporcional entre el numero de iteraciones y el error cuadr\\xE1tico medio. A medida que aumenta n\\xFAmero de interacciones disminuye el ECM hasta llegar a un punto donde ya se estabiliza. Por ejemplo en la gr\\xE1fica para polinomio grado uno se puede ver un comportamiento asint\\xF3tico.  \" #@param {type:\"string\"}"
   ]
  },
  {
   "cell_type": "code",
   "execution_count": 43,
   "metadata": {
    "cellView": "form",
    "colab": {},
    "colab_type": "code",
    "id": "NDfO1dvJt-Eb"
   },
   "outputs": [],
   "source": [
    "#@title Pregunta Abierta\n",
    "#@markdown  ¿que efecto tiene el grado del polinomio en el ECM?\n",
    "respuesta_7 = \"En el polinomio grado dos es necesario un menor numero de iteraciones antes de estabilizar el ECM , adem\\xE1s para cualquier numero de iteraciones el ECM en el polinomio grado 2 es significativamente menor. \" #@param {type:\"string\"}"
   ]
  },
  {
   "cell_type": "code",
   "execution_count": 44,
   "metadata": {
    "colab": {
     "base_uri": "https://localhost:8080/",
     "height": 34
    },
    "colab_type": "code",
    "executionInfo": {
     "elapsed": 540,
     "status": "ok",
     "timestamp": 1599826265696,
     "user": {
      "displayName": "DANIEL FELIPE RIVERA ARROYAVE",
      "photoUrl": "https://lh3.googleusercontent.com/a-/AOh14GhKUcXWForDRzN8KQTJax_-Hooo1DeBYp0of1gL_A=s64",
      "userId": "01701263505455054832"
     },
     "user_tz": 300
    },
    "id": "gkLeD-pMuk_g",
    "outputId": "45c5c379-2665-458f-804c-b7a4c33a5707"
   },
   "outputs": [
    {
     "name": "stdout",
     "output_type": "stream",
     "text": [
      "Todo se ve ok. Asegurate de responder las preguntas abiertas y envia e archivo al formulario ¡buen trabajo!\n"
     ]
    }
   ],
   "source": [
    "  GRADER_LAB_1_P1.check_tests()"
   ]
  },
  {
   "cell_type": "code",
   "execution_count": 45,
   "metadata": {
    "cellView": "form",
    "colab": {},
    "colab_type": "code",
    "id": "Xz0gLt5At-Ec"
   },
   "outputs": [],
   "source": [
    "#@title Integrantes\n",
    "codigo_integrante_1 ='1152219543' #@param {type:\"string\"}\n",
    "codigo_integrante_2 = '1035439685'  #@param {type:\"string\"}"
   ]
  },
  {
   "cell_type": "markdown",
   "metadata": {
    "colab_type": "text",
    "id": "C_jp0Yjot-Ee"
   },
   "source": [
    "----\n",
    "esta linea de codigo va fallar, es de uso exclusivo del los profesores\n"
   ]
  },
  {
   "cell_type": "code",
   "execution_count": 46,
   "metadata": {
    "colab": {},
    "colab_type": "code",
    "id": "OxiTM5g7t-Ef"
   },
   "outputs": [
    {
     "name": "stdout",
     "output_type": "stream",
     "text": [
      "uso del docente\n"
     ]
    }
   ],
   "source": [
    "GRADER_LAB_1_P1.grade()"
   ]
  }
 ],
 "metadata": {
  "colab": {
   "collapsed_sections": [],
   "name": "Simulacion lab1_parte1.ipynb",
   "provenance": [
    {
     "file_id": "https://github.com/jdariasl/ML_2020/blob/master/Labs/lab1/lab1_parte1.ipynb",
     "timestamp": 1599660577687
    }
   ]
  },
  "kernelspec": {
   "display_name": "Python 3",
   "language": "python",
   "name": "python3"
  },
  "language_info": {
   "codemirror_mode": {
    "name": "ipython",
    "version": 3
   },
   "file_extension": ".py",
   "mimetype": "text/x-python",
   "name": "python",
   "nbconvert_exporter": "python",
   "pygments_lexer": "ipython3",
   "version": "3.8.3"
  }
 },
 "nbformat": 4,
 "nbformat_minor": 1
}
