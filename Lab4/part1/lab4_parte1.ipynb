{
  "nbformat": 4,
  "nbformat_minor": 0,
  "metadata": {
    "colab": {
      "name": "lab4_parte1.ipynb",
      "provenance": [],
      "collapsed_sections": []
    },
    "kernelspec": {
      "display_name": "Python 3",
      "language": "python",
      "name": "python3"
    },
    "language_info": {
      "codemirror_mode": {
        "name": "ipython",
        "version": 3
      },
      "file_extension": ".py",
      "mimetype": "text/x-python",
      "name": "python",
      "nbconvert_exporter": "python",
      "pygments_lexer": "ipython3",
      "version": "3.8.3"
    }
  },
  "cells": [
    {
      "cell_type": "markdown",
      "metadata": {
        "id": "P1tb9xQfodtj"
      },
      "source": [
        "<a href=\"https://colab.research.google.com/github/jdariasl/ML_2020/blob/master/Labs/lab4/lab4_parte1.ipynb\">\n",
        "    <img src=\"https://colab.research.google.com/assets/colab-badge.svg\" alt=\"Open In Colab\"/></a>\n",
        "\n",
        "**Recuerda que una vez abierto, Da clic en \"Copiar en Drive\", de lo contrario no podras almacenar tu progreso**\n",
        "\n",
        "Nota: no olvide ir ejecutando las celdas de código de arriba hacia abajo para que no tenga errores de importación de librerías o por falta de definición de variables."
      ]
    },
    {
      "cell_type": "code",
      "metadata": {
        "id": "zZt2JG85odtj",
        "outputId": "194ef563-9da3-4889-fd82-3e372d27d525",
        "colab": {
          "base_uri": "https://localhost:8080/"
        }
      },
      "source": [
        "#configuración del laboratorio\n",
        "# Ejecuta esta celda!\n",
        "%load_ext autoreload\n",
        "%autoreload 2\n",
        "#for local \n",
        "#import sys ; sys.path.append('../commons/utils/')\n",
        "!wget https://raw.githubusercontent.com/jdariasl/ML_2020/master/Labs/commons/utils/general.py -O general.py --no-cache\n",
        "from general import configure_lab4\n",
        "configure_lab4()\n",
        "from lab4 import *\n",
        "GRADER = part_1()"
      ],
      "execution_count": null,
      "outputs": [
        {
          "output_type": "stream",
          "text": [
            "--2020-11-05 21:38:44--  https://raw.githubusercontent.com/jdariasl/ML_2020/master/Labs/commons/utils/general.py\n",
            "Resolving raw.githubusercontent.com (raw.githubusercontent.com)... 151.101.0.133, 151.101.64.133, 151.101.128.133, ...\n",
            "Connecting to raw.githubusercontent.com (raw.githubusercontent.com)|151.101.0.133|:443... connected.\n",
            "HTTP request sent, awaiting response... 200 OK\n",
            "Length: 14117 (14K) [text/plain]\n",
            "Saving to: ‘general.py’\n",
            "\n",
            "\rgeneral.py            0%[                    ]       0  --.-KB/s               \rgeneral.py          100%[===================>]  13.79K  --.-KB/s    in 0.01s   \n",
            "\n",
            "2020-11-05 21:38:44 (1.14 MB/s) - ‘general.py’ saved [14117/14117]\n",
            "\n",
            "lab configuration started\n",
            "installing libraries\n",
            "downloading files\n",
            "lab configured\n"
          ],
          "name": "stdout"
        }
      ]
    },
    {
      "cell_type": "markdown",
      "metadata": {
        "id": "bEFZ1bNsodtm"
      },
      "source": [
        "# Laboratorio 4 - Parte 1"
      ]
    },
    {
      "cell_type": "markdown",
      "metadata": {
        "id": "SIyPCtR3odtm"
      },
      "source": [
        "Este ejercicio tiene como objetivo implementar una red neuronal artificial de tipo perceptrón multicapa (MLP) para resolver un problema de regresión. Usaremos la librería sklearn. Consulte todo lo relacionado con la definición de hiperparámetros, los métodos para el entrenamiento y la predicción de nuevas muestras en el siguiente enlace: http://scikit-learn.org/stable/modules/generated/sklearn.neural_network.MLPRegressor.html#sklearn.neural_network.MLPRegressor"
      ]
    },
    {
      "cell_type": "markdown",
      "metadata": {
        "id": "dAVPFqINodtn"
      },
      "source": [
        "Para este ejercicio usaremos la base de datos sobre calidad del aire, que ha sido usada en laboratorios previos, pero en este caso trataremos de predecir dos variables en lugar de una, es decir, abordaremos **un problema de múltiples salidas**."
      ]
    },
    {
      "cell_type": "code",
      "metadata": {
        "id": "S1ILV7RModtn"
      },
      "source": [
        "#cargamos la bd que está en un archivo .data y ahora la podemos manejar de forma matricial\n",
        "db = np.loadtxt('AirQuality.data',delimiter='\\t')  # Assuming tab-delimiter\n",
        "\n",
        "#Esta es la base de datos AirQuality del UCI Machine Learning Repository. En la siguiente URL se encuentra toda\n",
        "#la descripción de la base de datos y la contextualización del problema.\n",
        "#https://archive.ics.uci.edu/ml/datasets/Air+Quality#\n",
        "\n",
        "x = db[:,0:11]\n",
        "y = db[:,11:13]"
      ],
      "execution_count": null,
      "outputs": []
    },
    {
      "cell_type": "markdown",
      "metadata": {
        "id": "qKlFuQyRodtp"
      },
      "source": [
        "Para calcular los errores, vamos a explorar y usar la el [modulo de metricas den sklearn](https://scikit-learn.org/stable/modules/classes.html#module-sklearn.metrics). Podemos observar que el modulo tiene metricas para regresión y clasificación."
      ]
    },
    {
      "cell_type": "markdown",
      "metadata": {
        "id": "EFIUq69Modtp"
      },
      "source": [
        "## Ejercicio 1 - Experimentar con MLP paa regresión\n",
        "\n",
        "Para porder implementar nuestra función, lo primero que debemos entender es la estrucutra de la red. Como mencionamos, vamos a solucionar un problema de multiples salidas. Estas salidas con valores continuos. Por lo tanto debemos garantizar que la capa de salida del nuestra red tenga la capacidad de modelar. este tipo de datos.\n"
      ]
    },
    {
      "cell_type": "code",
      "metadata": {
        "cellView": "form",
        "id": "xjF6liTmodtp"
      },
      "source": [
        "#@title Pregunta Abierta\n",
        "#@markdown ¿De acuerdo al problema planteado, que función de activación debe usar el MLP para un problema de regresión?\n",
        "respuesta_1 = \"identidad o 'Identity', el cual se usa cuando se tiene una salida en funci\\xF3n lineal.\" #@param {type:\"string\"}"
      ],
      "execution_count": null,
      "outputs": []
    },
    {
      "cell_type": "markdown",
      "metadata": {
        "id": "-G_bSsYcodtr"
      },
      "source": [
        "Una caracteristica de los modelos de sklearn, es que ciertos tipos de atributos, solo pueden ser accedidos cuanto se entrena el modelo. Vamos a realizar un pequeña función para comprobar cual es la capa de activación de los modelos MLP para regresión de sklearn."
      ]
    },
    {
      "cell_type": "code",
      "metadata": {
        "id": "M0Rd2sBnodts"
      },
      "source": [
        "# ejercicio de código\n",
        "def output_activation():\n",
        "    \"\"\"funcion que entrena un modelo\n",
        "    con data aleatoria para confirmar la funcion\n",
        "    de activacion de la ultima capa\n",
        "    \"\"\"\n",
        "    mlp = MLPRegressor()\n",
        "    # fit with some random data\n",
        "    xrandom = np.random.rand(10,2)\n",
        "    yrandom = np.zeros(10)\n",
        "    # llamar el metodo adecuado para entrenar\n",
        "    # el mlp con los x y 'y' random\n",
        "    mlp.fit(xrandom,yrandom )\n",
        "    # retornar el atributo de mlp adecuado\n",
        "    return (mlp.out_activation_)"
      ],
      "execution_count": null,
      "outputs": []
    },
    {
      "cell_type": "code",
      "metadata": {
        "id": "mzJDEC1Bodtt",
        "outputId": "1ea3c406-bae8-448c-ca72-dc2951651062",
        "colab": {
          "base_uri": "https://localhost:8080/"
        }
      },
      "source": [
        "## la funcion que prueba tu implementacion\n",
        "#ignora las graficas!!\n",
        "GRADER.run_test(\"ejercicio1\", output_activation)"
      ],
      "execution_count": null,
      "outputs": [
        {
          "output_type": "stream",
          "text": [
            "TEST EXITOSO!\n"
          ],
          "name": "stdout"
        }
      ]
    },
    {
      "cell_type": "code",
      "metadata": {
        "id": "p0ybj-1vodtv",
        "outputId": "582a8802-4364-4df4-cd7d-24547e48659e",
        "colab": {
          "base_uri": "https://localhost:8080/"
        }
      },
      "source": [
        "print(\"la función de activación para un problema de regresion es:\", output_activation())"
      ],
      "execution_count": null,
      "outputs": [
        {
          "output_type": "stream",
          "text": [
            "la función de activación para un problema de regresion es: identity\n"
          ],
          "name": "stdout"
        }
      ]
    },
    {
      "cell_type": "markdown",
      "metadata": {
        "id": "udcddNBiodtz"
      },
      "source": [
        "Una vez comprobado que sklearn usa la función de activación correcta, vamos crear la función para realizar los experimentos.\n",
        "\n",
        "Vamos completar la función con el código necesario para usar una red neuronal tipo MLP para solucionar el problema de regresión propuesto.\n",
        "1. Como función de activación en las capas ocultas use la función 'tanh'. \n",
        "2. Ajuste el número máximo de épocas a 400.\n",
        "3. Dejamos como variables el número de capas ocultas y el número de neuronas por capa\n",
        "5. Selecciones la función adecuada del [modulo de sklearn para calcular el error absoluto medio](https://scikit-learn.org/stable/modules/classes.html?highlight=metrics#module-sklearn.metrics). Tener en cuenta que parametros usar.\n",
        "6. Debemos usar los nombres explicitos, por ejemplo si para el MLP es necesario usar el parametro `activation`, debe ser llamado: `MLPRegressor(activation=...)`\n",
        "7. Explorar que hace la siguiente linea de codigo `tuple(2*[100])`"
      ]
    },
    {
      "cell_type": "code",
      "metadata": {
        "id": "y-SdZ9H_odt0"
      },
      "source": [
        "# ejercicio de código\n",
        "\n",
        "def experimetar_mlp(X,Y, num_hidden_layers, num_neurons):\n",
        "    \"\"\" función para realizar experimentos con el MLP\n",
        "    x: matriz de numpy con caracteristicas\n",
        "    y: vector numpy con las variables a predecir\n",
        "    num_hidden_layers: list de enteros con el numero de capdas\n",
        "        ocultas a usar\n",
        "    num_neurons: list de enteros con el numero de neuronas a usar\n",
        "    \n",
        "    Retorna: dataframe con 6 columnas:\n",
        "        - numero de capas, numero de neuronas\n",
        "        - promedio de error prueba variable 1 y desviación estandar\n",
        "        - promedio de error prueba variable 2 y desviación estandar\n",
        "        \n",
        "    \"\"\"\n",
        "    #Validamos el modelo\n",
        "    Folds = 4\n",
        "    ss = ShuffleSplit(n_splits=Folds, test_size=0.2)\n",
        "    resultados = pd.DataFrame()\n",
        "    idx = 0\n",
        "    for hidden_layers in num_hidden_layers:\n",
        "        for neurons in num_neurons:\n",
        "            for j, (train, test) in enumerate(ss.split(X)):\n",
        "                # para almacenar errores intermedios\n",
        "                ErrorY1 = np.zeros(Folds)\n",
        "                ErrorY2 = np.zeros(Folds)\n",
        "                Xtrain = X[train,:]\n",
        "                Ytrain = Y[train,:]\n",
        "                Xtest = X[test,:]\n",
        "                Ytest = Y[test,:]\n",
        "                #Normalizamos los datos\n",
        "                scaler = StandardScaler().fit(X= Xtrain)       \n",
        "                Xtrain = scaler.transform(Xtrain)\n",
        "                Xtest = scaler.transform(Xtest)\n",
        "                #Haga el llamado a la función para crear y entrenar el modelo usando los datos de entrenamiento\n",
        "                # prestar atención a los parametros, correctos.\n",
        "                hidden_layer_sizes = tuple(hidden_layers*[neurons])\n",
        "                mlp = MLPRegressor(hidden_layer_sizes = hidden_layer_sizes, activation = 'tanh', max_iter=400)\n",
        "                # entrena el MLP\n",
        "                mlp.fit(X=Xtrain,y=Ytrain)\n",
        "                #Use para el modelo para hacer predicciones sobre el conjunto Xtest\n",
        "                Yest = mlp.predict(Xtest)\n",
        "                #Mida el error absoluto medio para cada una de las dos salidas\n",
        "                #Observe bien la documentación. recordar que esta resolviendo\n",
        "                # un problema de multiples salidas\n",
        "                errors = (Ytest, Yest, ...)\n",
        "                ErrorY1[j] = mean_absolute_error(Ytest[:,0], Yest[:,0], multioutput='uniform_average')\n",
        "                ErrorY2[j] = mean_absolute_error(Ytest[:,1], Yest[:,1], multioutput='uniform_average')\n",
        "                print(mlp.out_activation_)\n",
        "\n",
        "            print('error para salida 1 = ' + str(np.mean(ErrorY1)) + '+-' + str(np.std(ErrorY1)))\n",
        "            print('error para salida 2 = ' + str(np.mean(ErrorY2)) + '+-' + str(np.std(ErrorY2)))\n",
        "        \n",
        "            resultados.loc[idx,'capas ocultas'] = hidden_layers\n",
        "            resultados.loc[idx,'neuronas en capas ocultas'] = neurons \n",
        "            resultados.loc[idx,'error de prueba y1(media)'] = np.mean(ErrorY1)\n",
        "            resultados.loc[idx,'intervalo de confianza y1'] = np.std(ErrorY1)\n",
        "            resultados.loc[idx,'error de prueba y2(media)'] = np.mean(ErrorY2)\n",
        "            resultados.loc[idx,'intervalo de confianza y2'] = np.std(ErrorY2)\n",
        "            idx+=1\n",
        "    return (resultados)"
      ],
      "execution_count": null,
      "outputs": []
    },
    {
      "cell_type": "code",
      "metadata": {
        "id": "TBVxxl25odt1",
        "outputId": "215c6812-aa9d-40df-c6cd-77b25c9e84ed",
        "colab": {
          "base_uri": "https://localhost:8080/"
        }
      },
      "source": [
        "## la funcion que prueba tu implementacion\n",
        "# ignorar los prints\n",
        "GRADER.run_test(\"ejercicio2\", experimetar_mlp)"
      ],
      "execution_count": null,
      "outputs": [
        {
          "output_type": "stream",
          "text": [
            "identity\n",
            "identity\n",
            "identity\n",
            "identity\n",
            "error para salida 1 = 0.11845287203113264+-0.20516639266037617\n",
            "error para salida 2 = 0.11022518778681008+-0.19091562552057553\n",
            "identity\n",
            "identity\n",
            "identity\n",
            "identity\n",
            "error para salida 1 = 0.10749262799611614+-0.18618269312837388\n",
            "error para salida 2 = 0.16686705439293725+-0.28902221631792674\n",
            "identity\n",
            "identity\n",
            "identity\n",
            "identity\n",
            "error para salida 1 = 0.15866591953931486+-0.2748174340717288\n",
            "error para salida 2 = 0.18738277362893194+-0.32455648438848766\n",
            "identity\n",
            "identity\n",
            "identity\n",
            "identity\n",
            "error para salida 1 = 0.21644895574144937+-0.3749005885894176\n",
            "error para salida 2 = 0.13473726352299986+-0.23337178609463252\n",
            "TEST EXITOSO!\n"
          ],
          "name": "stdout"
        }
      ]
    },
    {
      "cell_type": "code",
      "metadata": {
        "id": "hV-ka-ukodt3",
        "outputId": "dd8ee316-1fb4-4108-dacf-bbe1c2a34018",
        "colab": {
          "base_uri": "https://localhost:8080/"
        }
      },
      "source": [
        "# tarda unos minutos!!\n",
        "resultados_mlpr = experimetar_mlp(x,y, [1,2], [8,12,16,20,25])"
      ],
      "execution_count": null,
      "outputs": [
        {
          "output_type": "stream",
          "text": [
            "identity\n",
            "identity\n",
            "identity\n",
            "identity\n",
            "error para salida 1 = 2.5939260432493056+-4.492811697983902\n",
            "error para salida 2 = 2.7981747136609307+-4.846580772515227\n",
            "identity\n",
            "identity\n",
            "identity\n",
            "identity\n",
            "error para salida 1 = 1.6849846217232276+-2.9184789747968556\n",
            "error para salida 2 = 1.3727510363451467+-2.3776745410926248\n",
            "identity\n",
            "identity\n",
            "identity\n",
            "identity\n",
            "error para salida 1 = 1.1811880571092201+-2.045877728206738\n",
            "error para salida 2 = 0.9952097170437837+-1.7237537941060794\n",
            "identity\n",
            "identity\n",
            "identity\n",
            "identity\n",
            "error para salida 1 = 1.0192855766517765+-1.7654544061830184\n",
            "error para salida 2 = 0.6740342917366473+-1.1674616393315762\n",
            "identity\n",
            "identity\n",
            "identity\n",
            "identity\n",
            "error para salida 1 = 0.9869743455128044+-1.709489712195217\n",
            "error para salida 2 = 0.44436802831344047+-0.7696680022980843\n",
            "identity\n",
            "identity\n",
            "identity\n",
            "identity\n",
            "error para salida 1 = 1.9711247455442908+-3.414088207338987\n",
            "error para salida 2 = 1.7459616805730034+-3.0240943388207846\n",
            "identity\n",
            "identity\n",
            "identity\n",
            "identity\n",
            "error para salida 1 = 1.577954733546128+-2.7330977705457036\n",
            "error para salida 2 = 0.935733470978634+-1.6207379140777718\n",
            "identity\n",
            "identity\n",
            "identity\n",
            "identity\n",
            "error para salida 1 = 1.0348643073415273+-1.7924375592550994\n",
            "error para salida 2 = 0.6571810131036397+-1.1382709044650923\n",
            "identity\n",
            "identity\n",
            "identity\n",
            "identity\n",
            "error para salida 1 = 0.8450347862400823+-1.463643183930928\n",
            "error para salida 2 = 0.468891646773952+-0.8121441554571244\n",
            "identity\n",
            "identity\n",
            "identity\n",
            "identity\n",
            "error para salida 1 = 0.789611330826733+-1.3676469432239788\n",
            "error para salida 2 = 0.236755343157503+-0.4100722833121997\n"
          ],
          "name": "stdout"
        }
      ]
    },
    {
      "cell_type": "code",
      "metadata": {
        "id": "7insQmbOodt5",
        "outputId": "03f43550-120d-4c3d-a250-0d17d7227592",
        "colab": {
          "base_uri": "https://localhost:8080/",
          "height": 766
        }
      },
      "source": [
        "# ver los resultados\n",
        "import seaborn as sns\n",
        "sns.relplot(data = resultados_mlpr,  x='neuronas en capas ocultas', y = 'intervalo de confianza y1', style= 'capas ocultas', kind = 'line')\n",
        "sns.relplot(data = resultados_mlpr,  x='neuronas en capas ocultas', y = 'intervalo de confianza y2', style= 'capas ocultas', kind = 'line')"
      ],
      "execution_count": null,
      "outputs": [
        {
          "output_type": "execute_result",
          "data": {
            "text/plain": [
              "<seaborn.axisgrid.FacetGrid at 0x7fe27136a278>"
            ]
          },
          "metadata": {
            "tags": []
          },
          "execution_count": 48
        },
        {
          "output_type": "display_data",
          "data": {
            "image/png": "[encoded data removed]",
            "text/plain": [
              "<Figure size 436.375x360 with 1 Axes>"
            ]
          },
          "metadata": {
            "tags": [],
            "needs_background": "light"
          }
        },
        {
          "output_type": "display_data",
          "data": {
            "image/png": "[encoded data removed]",
            "text/plain": [
              "<Figure size 436.375x360 with 1 Axes>"
            ]
          },
          "metadata": {
            "tags": [],
            "needs_background": "light"
          }
        }
      ]
    },
    {
      "cell_type": "code",
      "metadata": {
        "cellView": "form",
        "id": "CpSvl_I4odt7"
      },
      "source": [
        "#@title Pregunta Abierta\n",
        "#@markdown  ¿como influencian los parametros de numero de capas y el numero de neuronas? explique de acuerdo a los resultados, recuerde concentrarse en los patrones no en valores especificos\n",
        "respuesta_2 = \"Para ambas variables respuesta , despu\\xE9s de 10 neuronas por capa se obtienen mejores resultados con dos capas y se mantiene constante, la relaci\\xF3n se puede modelar como funciones decrecientes con dos puntos de quiebre en 12 y 16 neuronas por capa respectivamente\" #@param {type:\"string\"}"
      ],
      "execution_count": null,
      "outputs": []
    },
    {
      "cell_type": "markdown",
      "metadata": {
        "id": "hY2yg06Nodt8"
      },
      "source": [
        "## Ejercicio 2 Experimentar con MLP para clasificación\n",
        "\n",
        "A continuación se leen los datos de un problema de clasificación. El problema corresponde a la clasifiación de dígitos escritos a mano. Usaremos únicamente 4 de las 10 clases disponibles. Los datos fueron preprocesados para reducir el número de características. La técnica usada será analizada más adelante en el curso."
      ]
    },
    {
      "cell_type": "code",
      "metadata": {
        "id": "rQQrTIcZodt9"
      },
      "source": [
        "digits = load_digits(n_class=4)\n",
        "#--------- preprocesamiento--------------------\n",
        "pca = PCA(0.99, whiten=True)\n",
        "data = pca.fit_transform(digits.data)\n",
        "#---------- Datos a usar ----------------------\n",
        "Xd = data\n",
        "Yd = digits.target"
      ],
      "execution_count": null,
      "outputs": []
    },
    {
      "cell_type": "code",
      "metadata": {
        "cellView": "form",
        "id": "AAZkhxDjodt_"
      },
      "source": [
        "#@title Pregunta Abierta\n",
        "#@markdown  ¿Qué tipo de función de activación usa el modelo en la capa de salida para un problema de clasificación? \n",
        "respuesta_3 = \"Como es un problema de clasificacion con mas de dos clases, se utiliza la funcion de activacion softmax.\" #@param {type:\"string\"}"
      ],
      "execution_count": null,
      "outputs": []
    },
    {
      "cell_type": "markdown",
      "metadata": {
        "id": "q6VwPK9RoduA"
      },
      "source": [
        "como lo hicmos antes, vamos a comprobar con la libreria la función de activación"
      ]
    },
    {
      "cell_type": "code",
      "metadata": {
        "id": "10TRJf1SoduB"
      },
      "source": [
        "# ejercicio de código\n",
        "def output_activation_MPC():\n",
        "    \"\"\"funcion que entrena un modelo\n",
        "    con data aleatoria para confirmar la funcion\n",
        "    de activacion de la ultima capa\n",
        "    \"\"\"\n",
        "    mlp = MLPClassifier()\n",
        "    # fit with some random data\n",
        "    xrandom = np.random.rand(10,2)\n",
        "    yrandom = np.zeros(10)\n",
        "    \n",
        "    # llamar el metodo adecuado para entrenar\n",
        "    # el mlp con los x y 'y' random\n",
        "    mlp.fit(xrandom, yrandom)\n",
        "    # retornar el atributo de mlp adecuado\n",
        "    return (mlp.out_activation_)"
      ],
      "execution_count": null,
      "outputs": []
    },
    {
      "cell_type": "code",
      "metadata": {
        "id": "l-JlGyNsoduC",
        "outputId": "e40843c9-7d6c-4160-dc71-ae168f8ace0a",
        "colab": {
          "base_uri": "https://localhost:8080/"
        }
      },
      "source": [
        "## la funcion que prueba tu implementacion\n",
        "GRADER.run_test(\"ejercicio3\", output_activation_MPC)"
      ],
      "execution_count": null,
      "outputs": [
        {
          "output_type": "stream",
          "text": [
            "TEST EXITOSO!\n"
          ],
          "name": "stdout"
        }
      ]
    },
    {
      "cell_type": "code",
      "metadata": {
        "id": "LR1AWh6doduE",
        "outputId": "dcd226f4-d3e2-4dc1-998f-4075db961ea1",
        "colab": {
          "base_uri": "https://localhost:8080/"
        }
      },
      "source": [
        "print(\"la función de activación para un problema de clasificación es:\", output_activation_MPC())"
      ],
      "execution_count": null,
      "outputs": [
        {
          "output_type": "stream",
          "text": [
            "la función de activación para un problema de clasificación es: logistic\n"
          ],
          "name": "stdout"
        }
      ]
    },
    {
      "cell_type": "markdown",
      "metadata": {
        "id": "nUrb8sX1oduG"
      },
      "source": [
        "Ahora en nuestro siguiente ejercicio vamos a implementar una red neuronal artificial de tipo perceptrón multicapa (MLP) para resolver un problema de clasificación. Usaremos la librería sklearn. Consulte todo lo relacionado con la definición de hiperparámetros, los métodos para el entrenamiento y la predicción de nuevas muestras en el siguiente enlace: http://scikit-learn.org/stable/modules/generated/sklearn.neural_network.MLPClassifier.html#sklearn.neural_network.MLPClassifier"
      ]
    },
    {
      "cell_type": "markdown",
      "metadata": {
        "id": "RPXRYrtnoduG"
      },
      "source": [
        "\n",
        "Vamos completar la función con el código necesario para usar una red neuronal tipo MLP para solucionar el problema de regresión propuesto.\n",
        "1. Como función de activación en las capas ocultas use la función 'tanh'. \n",
        "2. Ajuste el número máximo de épocas a 400.\n",
        "3. Dejamos como variables el número de capas ocultas y el número de neuronas por capa\n",
        "5. Selecciones la función adecuada del [modulo de sklearn para calcular la exactitud del clasificador](https://scikit-learn.org/stable/modules/classes.html?highlight=metrics#module-sklearn.metrics). Tener en cuenta que parametros usar.\n",
        "6. Debemos usar los nombres explicitos, por ejemplo si para el MLP es necesario usar el parametro `activation`, debe ser llamado: `MLPClassifier(activation=...)`"
      ]
    },
    {
      "cell_type": "code",
      "metadata": {
        "id": "pO3RLo4JoduG"
      },
      "source": [
        "# ejercicio de código\n",
        "def experimetar_mlpc(X,Y, num_hidden_layers, num_neurons):\n",
        "    \"\"\" función para realizar experimentos con el MLP\n",
        "    x: matriz de numpy con caracteristicas\n",
        "    y: vector numpy con las variables a predecir\n",
        "    num_hidden_layers: list de enteros con el numero de capdas\n",
        "        ocultas a usar\n",
        "    num_neurons: list de enteros con el numero de neuronas a usar\n",
        "    \n",
        "    Retorna: dataframe con 4 columnas:\n",
        "        - numero de capas, numero de neuronas\n",
        "        - promedio de error prueba (exactitud/eficiencia) de claisficacion y desviación estandar        \n",
        "    \"\"\"\n",
        "    #Validamos el modelo\n",
        "    Folds = 4\n",
        "    skf = StratifiedKFold(n_splits=Folds)\n",
        "    resultados = pd.DataFrame()\n",
        "    idx = 0\n",
        "    for hidden_layers in num_hidden_layers:\n",
        "        for neurons in num_neurons:\n",
        "            for j, (train, test) in enumerate(skf.split(X, Y)):\n",
        "                # para almacenar errores intermedios\n",
        "                Error = np.zeros(Folds)\n",
        "                Xtrain= X[train,:]\n",
        "                Ytrain = Y[train]\n",
        "                Xtest = X[test, :]\n",
        "                Ytest = Y[test]\n",
        "                #Normalizamos los datos\n",
        "                scaler = StandardScaler().fit(X= Xtrain)       \n",
        "                Xtrain = scaler.transform(Xtrain)\n",
        "                Xtest = scaler.transform(Xtest)\n",
        "                #Haga el llamado a la función para crear y entrenar el modelo usando los datos de entrenamiento\n",
        "                # prestar atención a los parametros, correctos.\n",
        "                hidden_layer_sizes = tuple(hidden_layers*[neurons])\n",
        "                #print(hidden_layer_sizes)\n",
        "                mlp = MLPClassifier(hidden_layer_sizes = hidden_layer_sizes, activation = 'tanh', max_iter=400)\n",
        "                # entrena el MLP\n",
        "                mlp.fit(X=Xtrain, y=Ytrain)\n",
        "                #Use para el modelo para hacer predicciones sobre el conjunto Xtest\n",
        "                Yest = mlp.predict(Xtest)\n",
        "                #Mida el error absoluto medio para cada una de las dos salidas\n",
        "                #Observe bien la documentación. recordar que esta resolviendo\n",
        "                # un problema de multiples salidas\n",
        "                Error[j] = accuracy_score(Ytest, Yest)\n",
        "                print(mlp.out_activation_)\n",
        "        \n",
        "            print('error para configuracion de params = ' + str(np.mean(Error)) + '+-' + str(np.std(Error)))\n",
        "            \n",
        "            resultados.loc[idx,'capas ocultas'] = hidden_layers\n",
        "            resultados.loc[idx,'neuronas en capas ocultas'] = neurons \n",
        "            resultados.loc[idx,'error de prueba(media)'] = np.mean(Error)\n",
        "            resultados.loc[idx,'intervalo de confianza'] = np.std(Error)\n",
        "            idx+=1\n",
        "    return (resultados)"
      ],
      "execution_count": null,
      "outputs": []
    },
    {
      "cell_type": "code",
      "metadata": {
        "id": "kcMLaM4coduI",
        "outputId": "9d411e4c-e4ff-4456-c1a4-b9aec5651a04",
        "colab": {
          "base_uri": "https://localhost:8080/"
        }
      },
      "source": [
        "## la funcion que prueba tu implementacion\n",
        "GRADER.run_test(\"ejercicio4\", experimetar_mlpc)"
      ],
      "execution_count": null,
      "outputs": [
        {
          "output_type": "stream",
          "text": [
            "logistic\n",
            "logistic\n",
            "logistic\n",
            "logistic\n",
            "error para configuracion de params = 0.07142857142857142+-0.12371791482634838\n",
            "logistic\n",
            "logistic\n",
            "logistic\n",
            "logistic\n",
            "error para configuracion de params = 0.03571428571428571+-0.06185895741317419\n",
            "logistic\n",
            "logistic\n",
            "logistic\n",
            "logistic\n",
            "error para configuracion de params = 0.03571428571428571+-0.06185895741317419\n",
            "logistic\n",
            "logistic\n",
            "logistic\n",
            "logistic\n",
            "error para configuracion de params = 0.10714285714285714+-0.18557687223952254\n",
            "TEST EXITOSO!\n"
          ],
          "name": "stdout"
        }
      ]
    },
    {
      "cell_type": "code",
      "metadata": {
        "id": "iCyR-W0RoduJ",
        "outputId": "ef370b89-3fb9-43a5-c568-c683d91fbe74",
        "colab": {
          "base_uri": "https://localhost:8080/"
        }
      },
      "source": [
        "# tarda unos minutos!!\n",
        "resultados_mlpc = experimetar_mlpc(Xd,Yd, [1,2], [12,16,20,24])"
      ],
      "execution_count": null,
      "outputs": [
        {
          "output_type": "stream",
          "text": [
            "softmax\n",
            "softmax\n",
            "softmax\n",
            "softmax\n",
            "error para configuracion de params = 0.23055555555555557+-0.39933393618949115\n",
            "softmax\n",
            "softmax\n",
            "softmax\n",
            "softmax\n",
            "error para configuracion de params = 0.23472222222222222+-0.40655081455436143\n",
            "softmax\n",
            "softmax\n",
            "softmax\n",
            "softmax\n",
            "error para configuracion de params = 0.21944444444444444+-0.3800889272165036\n",
            "softmax\n",
            "softmax\n",
            "softmax\n",
            "softmax\n",
            "error para configuracion de params = 0.225+-0.3897114317029974\n",
            "softmax\n",
            "softmax\n",
            "softmax\n",
            "softmax\n",
            "error para configuracion de params = 0.23333333333333334+-0.40414518843273806\n",
            "softmax\n",
            "softmax\n",
            "softmax\n",
            "softmax\n",
            "error para configuracion de params = 0.2361111111111111+-0.4089564406759849\n",
            "softmax\n",
            "softmax\n",
            "softmax\n",
            "softmax\n",
            "error para configuracion de params = 0.22916666666666666+-0.39692831006786766\n",
            "softmax\n",
            "softmax\n",
            "softmax\n",
            "softmax\n",
            "error para configuracion de params = 0.23055555555555557+-0.39933393618949115\n"
          ],
          "name": "stdout"
        }
      ]
    },
    {
      "cell_type": "code",
      "metadata": {
        "id": "_FwrY7LFoduL",
        "outputId": "09f34976-c833-480a-c4f9-93efb57e0727",
        "colab": {
          "base_uri": "https://localhost:8080/",
          "height": 400
        }
      },
      "source": [
        "# ver los resultados\n",
        "import seaborn as sns\n",
        "sns.relplot(data = resultados_mlpc,  x='neuronas en capas ocultas', y = 'error de prueba(media)', style= 'capas ocultas', kind = 'line')"
      ],
      "execution_count": null,
      "outputs": [
        {
          "output_type": "execute_result",
          "data": {
            "text/plain": [
              "<seaborn.axisgrid.FacetGrid at 0x7fe279197080>"
            ]
          },
          "metadata": {
            "tags": []
          },
          "execution_count": 21
        },
        {
          "output_type": "display_data",
          "data": {
            "image/png": "[encoded data removed]",
            "text/plain": [
              "<Figure size 436.375x360 with 1 Axes>"
            ]
          },
          "metadata": {
            "tags": [],
            "needs_background": "light"
          }
        }
      ]
    },
    {
      "cell_type": "code",
      "metadata": {
        "cellView": "form",
        "id": "IZJGmEnZoduO"
      },
      "source": [
        "#@title Pregunta Abierta\n",
        "#@markdown ¿Cuántas neuronas en la capa de salida tiene el modelo?¿Porqué debe tener ese número?\n",
        "respuesta_4 = \"El modelo tiene 4 neuronas en la capa de salida, cada una correspondiente a una clase Nota:son 4 porque las clases se redujeron de 10 a 4, de no hacerse esto el modelo tendría 10\" #@param {type:\"string\"}"
      ],
      "execution_count": null,
      "outputs": []
    },
    {
      "cell_type": "markdown",
      "metadata": {
        "id": "MGfDfjGkoduP"
      },
      "source": [
        "**nota rapida** En la practica sklearn no es una la libreria indicada para desarollar redes neuronales, para practicas mas avanzadas y realizar modelos en el \"mundo real\" [se deben usar conceptos de deep learning y una libreria llamada Keras](https://colab.research.google.com/github/lexfridman/mit-deep-learning/blob/master/tutorial_deep_learning_basics/deep_learning_basics.ipynb)."
      ]
    },
    {
      "cell_type": "code",
      "metadata": {
        "id": "1aRu5586oduP",
        "outputId": "b1388742-0499-4b5a-83a8-4eb3e5e8e1bb",
        "colab": {
          "base_uri": "https://localhost:8080/"
        }
      },
      "source": [
        "GRADER.check_tests()"
      ],
      "execution_count": null,
      "outputs": [
        {
          "output_type": "stream",
          "text": [
            "Todo se ve ok. Asegurate de responder las preguntas abiertas y envia e archivo al formulario ¡buen trabajo!\n"
          ],
          "name": "stdout"
        }
      ]
    },
    {
      "cell_type": "code",
      "metadata": {
        "cellView": "form",
        "id": "wL-i0zZyoduR"
      },
      "source": [
        "#@title Integrantes\n",
        "codigo_integrante_1 ='1152219543' #@param {type:\"string\"}\n",
        "codigo_integrante_2 = 'Canceló'  #@param {type:\"string\"}"
      ],
      "execution_count": null,
      "outputs": []
    },
    {
      "cell_type": "markdown",
      "metadata": {
        "id": "fOcAojtRoduT"
      },
      "source": [
        "----\n",
        "esta linea de codigo va fallar, es de uso exclusivo de los profesores\n"
      ]
    },
    {
      "cell_type": "code",
      "metadata": {
        "id": "6M_nkZ_DoduT"
      },
      "source": [
        "GRADER.grade()"
      ],
      "execution_count": null,
      "outputs": []
    }
  ]
}