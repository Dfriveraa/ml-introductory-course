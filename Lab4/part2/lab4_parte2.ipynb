{
 "cells": [
  {
   "cell_type": "markdown",
   "metadata": {
    "id": "cww0rGZXTbDv"
   },
   "source": [
    "<a href=\"https://colab.research.google.com/github/jdariasl/ML_2020/blob/master/Labs/lab4/lab4_parte2.ipynb\">\n",
    "    <img src=\"https://colab.research.google.com/assets/colab-badge.svg\" alt=\"Open In Colab\"/></a>\n",
    "\n",
    "**Recuerda que una vez abierto, Da clic en \"Copiar en Drive\", de lo contrario no podras almacenar tu progreso**\n",
    "\n",
    "Nota: no olvide ir ejecutando las celdas de código de arriba hacia abajo para que no tenga errores de importación de librerías o por falta de definición de variables."
   ]
  },
  {
   "cell_type": "code",
   "execution_count": 1,
   "metadata": {
    "colab": {
     "base_uri": "https://localhost:8080/"
    },
    "id": "vB07QCZfTbDx",
    "outputId": "617a96d7-ed7b-42d0-adad-375efdb3c168"
   },
   "outputs": [
    {
     "name": "stdout",
     "output_type": "stream",
     "text": [
      "--2020-11-18 16:11:10--  https://raw.githubusercontent.com/jdariasl/ML_2020/master/Labs/commons/utils/general.py\n",
      "Loaded CA certificate '/etc/ssl/certs/ca-certificates.crt'\n",
      "Resolving raw.githubusercontent.com (raw.githubusercontent.com)... 199.232.48.133\n",
      "Connecting to raw.githubusercontent.com (raw.githubusercontent.com)|199.232.48.133|:443... connected.\n",
      "HTTP request sent, awaiting response... 200 OK\n",
      "Length: 14117 (14K) [text/plain]\n",
      "Saving to: ‘general.py’\n",
      "\n",
      "general.py          100%[===================>]  13,79K  41,4KB/s    in 0,3s    \n",
      "\n",
      "2020-11-18 16:11:14 (41,4 KB/s) - ‘general.py’ saved [14117/14117]\n",
      "\n",
      "lab configuration started\n",
      "installing libraries\n",
      "downloading files\n",
      "lab configured\n"
     ]
    }
   ],
   "source": [
    "#configuración del laboratorio\n",
    "# Ejecuta esta celda!\n",
    "%load_ext autoreload\n",
    "%autoreload 2\n",
    "#for local \n",
    "#import sys ; sys.path.append('../commons/utils/')\n",
    "!wget https://raw.githubusercontent.com/jdariasl/ML_2020/master/Labs/commons/utils/general.py -O general.py --no-cache\n",
    "from general import configure_lab4\n",
    "configure_lab4()\n",
    "from lab4 import *\n",
    "GRADER = part_2()"
   ]
  },
  {
   "cell_type": "markdown",
   "metadata": {
    "id": "qwRIzDC9TbD2"
   },
   "source": [
    "# Laboratorio 4 - Parte 2"
   ]
  },
  {
   "cell_type": "markdown",
   "metadata": {
    "id": "lkLns0kiTbD3"
   },
   "source": [
    "En este laboratorio vamos analizar el efecto del sobre-ajuste (*over-fitting*), como identificarlo y como podemos regualizar los modelos para evitarlo o disminuir su efecto. \n",
    "\n",
    "En este laboratorio, vamos a enfocarnos en 2 modelos (usando libreria de sklearn): \n",
    "\n",
    "1. Regresión logistica \n",
    "2. MLP\n",
    "\n",
    "**No vamos enfocarnos en como tratar la maldición de la dimensionalidad** ya que esto lo vamos a ver un poco más adelante cuando evaluemos las tecnicas de selección de caracteristicas."
   ]
  },
  {
   "cell_type": "markdown",
   "metadata": {
    "id": "cBGpm893TbD3"
   },
   "source": [
    "Vamos usar [el dataset de digitos escritos a mano](https://scikit-learn.org/stable/modules/generated/sklearn.datasets.load_digits.html) para realizar nuestra practica."
   ]
  },
  {
   "cell_type": "code",
   "execution_count": 2,
   "metadata": {
    "id": "aE2yg_cETbD3"
   },
   "outputs": [],
   "source": [
    "x,y = load_digits(return_X_y=True)"
   ]
  },
  {
   "cell_type": "markdown",
   "metadata": {
    "id": "VYnk2FwSTbD5"
   },
   "source": [
    "Una de las condiciones para que se presente sobre-ajustes es tener un conjunto de entrenamiento pequeño. \n",
    "\n",
    "En nuestra practica vamos a simular esta condición para ver que tecnicas podemos usar para reducir el efecto del sobre-ajuste. \n",
    "\n",
    "**Nota**\n",
    "1. En un problema real, si se observa que las medidas de rendimiento no llegan satisfacen las necesidades, la respuesta puede ser que se necesitan más datos en el conjunto de entrenamiento.\n"
   ]
  },
  {
   "cell_type": "code",
   "execution_count": 3,
   "metadata": {
    "id": "9OQdVTAZTbD5"
   },
   "outputs": [],
   "source": [
    "# simular conjunto de datos pequeño\n",
    "x, x_test, y, y_test = train_test_split(\n",
    "    x, y, test_size=0.6, random_state=10)\n",
    "scaler = StandardScaler().fit(x)\n",
    "x = scaler.transform(x)\n",
    "x_test = scaler.transform(x_test)"
   ]
  },
  {
   "cell_type": "markdown",
   "metadata": {
    "id": "Ap6L4HQwTbD7"
   },
   "source": [
    "## Ejercicio 1 - Detectar sobre ajuste"
   ]
  },
  {
   "cell_type": "markdown",
   "metadata": {
    "id": "vGta0nulTbD7"
   },
   "source": [
    "En nuestro primer ejercicio vamos a entrenar un MLP con una arquitectura especifica, pero:\n",
    "1. usaremos cross validación.\n",
    "2. calcular error de entrenamiento y prueba\n",
    "3. la función recibe de manera arbitraria un estimador de sklearn\n",
    "4. [usar accuracy score como medida de rendimiento](https://scikit-learn.org/stable/modules/generated/sklearn.metrics.accuracy_score.html#sklearn.metrics.accuracy_score)"
   ]
  },
  {
   "cell_type": "code",
   "execution_count": 4,
   "metadata": {
    "id": "mggj15DfTbD8"
   },
   "outputs": [],
   "source": [
    "# ejercicio de código\n",
    "def diff_train_test(sklearnModel, Xtrain, Ytrain, Xtest, Ytest):\n",
    "    \"\"\"función que retorna error de entrenamiento\n",
    "    sklearnModel: objeto estimador de sklearn ya entrenado\n",
    "    X: matriz numpy con las caracteristicas\n",
    "    Y: vector de numpy con las etiquetas\n",
    "    \n",
    "    retorna: tuple con tres elementos:\n",
    "        error entrenamiento, error test y \n",
    "        diff entre error y test\n",
    "    \"\"\"\n",
    "    error_train = accuracy_score(y_true = Ytrain , y_pred = sklearnModel.predict(Xtrain ) )\n",
    "    error_test = accuracy_score(y_true= Ytest , y_pred = sklearnModel.predict(Xtest ))\n",
    "    diff = error_test - error_train\n",
    "    return (error_train, error_test, diff)\n",
    "        "
   ]
  },
  {
   "cell_type": "code",
   "execution_count": 5,
   "metadata": {
    "colab": {
     "base_uri": "https://localhost:8080/"
    },
    "id": "OM6tpVKHTbD9",
    "outputId": "ce5dc2ab-465a-4047-f56b-51dfbe94ab14"
   },
   "outputs": [
    {
     "name": "stdout",
     "output_type": "stream",
     "text": [
      "TEST EXITOSO!\n"
     ]
    }
   ],
   "source": [
    "## la funcion que prueba tu implementacion\n",
    "GRADER.run_test(\"ejercicio1\", diff_train_test)"
   ]
  },
  {
   "cell_type": "markdown",
   "metadata": {
    "id": "NUhxHnmzTbD_"
   },
   "source": [
    "Con la función construida, vamos a usarla para verificar la differencia entre el error de entrenamiento y prueba para los dos modelos que vamos a usar:\n",
    "1. MLP con dos capas, cada una con 64 neuornas. `random_state=1` es usado para lograr tener los mismos resultados siempre\n",
    "2. [Regresión logistica forzada para que no use ninguna regularización](https://scikit-learn.org/stable/modules/generated/sklearn.linear_model.LogisticRegression.html#sklearn.linear_model.LogisticRegression). `random_state=1` es usado para lograr tener los mismos resultados"
   ]
  },
  {
   "cell_type": "code",
   "execution_count": 6,
   "metadata": {
    "colab": {
     "base_uri": "https://localhost:8080/"
    },
    "id": "o9gaJVOxTbEA",
    "outputId": "65519833-c640-4631-b142-cc1c8be8c366"
   },
   "outputs": [
    {
     "name": "stdout",
     "output_type": "stream",
     "text": [
      "MLP entrenamiento:1.000, test:0.943 y diff -0.057\n"
     ]
    }
   ],
   "source": [
    "mlp = MLPClassifier(hidden_layer_sizes=[20,20], max_iter=500, alpha =1e-6, random_state=1)\n",
    "mlp.fit(x, y)\n",
    "# aca usamos el * para pasa cada elemento como argumento \n",
    "print(\"MLP entrenamiento:{0:.3f}, test:{1:.3f} y diff {2:.3f}\".format(*diff_train_test(mlp,x,y, x_test, y_test)))"
   ]
  },
  {
   "cell_type": "code",
   "execution_count": 7,
   "metadata": {
    "colab": {
     "base_uri": "https://localhost:8080/"
    },
    "id": "6qkKdVakTbEC",
    "outputId": "7fe6e8aa-aa45-473f-b25d-5fff2f62c179"
   },
   "outputs": [
    {
     "name": "stdout",
     "output_type": "stream",
     "text": [
      "Logistic Regresion entrenamiento:1.000, test:0.930 y diff -0.070\n"
     ]
    }
   ],
   "source": [
    "reg = LogisticRegression(penalty='none', max_iter=500,  random_state=1)\n",
    "reg.fit(x, y)\n",
    "print(\"Logistic Regresion entrenamiento:{0:.3f}, test:{1:.3f} y diff {2:.3f}\".format(*diff_train_test(reg,x,y, x_test, y_test)))"
   ]
  },
  {
   "cell_type": "markdown",
   "metadata": {
    "id": "I6t9dJ5ETbEE"
   },
   "source": [
    "## Ejercicio 2 - Experimentar con MLP regularizado"
   ]
  },
  {
   "cell_type": "markdown",
   "metadata": {
    "id": "cZpv_cP-TbEE"
   },
   "source": [
    "Vamos a comenzar regularizar el modelo, el primer metodo que vamos a usar es el de parada anticipada (*early-stopping*). Este ya se encuentra implementado dentro de la libreria, vamos a experimentar con este parametro y el el numero de neuronas en el MLP."
   ]
  },
  {
   "cell_type": "code",
   "execution_count": 8,
   "metadata": {
    "cellView": "form",
    "id": "SkoSdxHfTbEE"
   },
   "outputs": [],
   "source": [
    "#@title Pregunta Abierta\n",
    "#@markdown ¿Explique en sus palabras a que corresponde el metodo de parada anticipada?\n",
    "respuesta_1 = \"La parada anticipada es una de las alternativas de regularizaci\\xF3n con el fin de evitar el sobreajuste en donde el algoritmo de entrenamiento detiene sus iteraciones en el momento en que el error de validaci\\xF3n deje de reducirse, ignorando que el error de entrenamiento pueda seguir bajando y as\\xED evitar el sobreajuste\" #@param {type:\"string\"}"
   ]
  },
  {
   "cell_type": "code",
   "execution_count": 9,
   "metadata": {
    "cellView": "form",
    "id": "77yPBEmjTbEG"
   },
   "outputs": [],
   "source": [
    "#@title Pregunta Abierta\n",
    "#@markdown ¿basandose en la documentación de sklearn para MLPClassifier que relación tiene el parametro validation_fraction con la parada anticipada?\n",
    "respuesta_2 = \"Cuando el par\\xE1metro early_stopping es True, este par\\xE1metro de validation_fraction es usado para indicar el porcentaje de muestras del conjunto de entrenamiento que ser\\xE1 usado para validar internamente y as\\xED aplicar la t\\xE9cnica de parada anticipada.\" #@param {type:\"string\"}"
   ]
  },
  {
   "cell_type": "markdown",
   "metadata": {
    "id": "0b3jZ0tdOzQX"
   },
   "source": [
    "Dice el porcentaje de muestras del conjunto de entrenamiento que se deben reservar como conjunto de validacion, para que de esta forma se pueda aplicar la tecnica de parada anticipada solo si el parametro early_stopping tiene el valor True. Por defecto se reserva el 10% de las muestras."
   ]
  },
  {
   "cell_type": "code",
   "execution_count": 10,
   "metadata": {
    "id": "bBQr3xG_TbEI"
   },
   "outputs": [],
   "source": [
    "# ejercicio de código\n",
    "def exp_mlp_early_stop(Xtrain,Xtest,Ytrain, Ytest, num_neurons, is_early_stop):\n",
    "    \"\"\" función para realizar experimentos con el MLP con early stopping\n",
    "    Xtrain: matriz de numpy con caracteristicas de entrenamiento\n",
    "    Xtest: matriz de numpy con caracteristicas de prueba\n",
    "    ytrain: vector numpy con etiqueta de entrenamiento\n",
    "    ytest: vector numpy con etiqueta de prueba\n",
    "    num_neurons: list de enteros con el numero de neuronas a usar\n",
    "    is_early_stop: list de boolean para confirmar si se aplica early stop\n",
    "    \n",
    "    Retorna: dataframe con 5 columnas:\n",
    "        - numero de neuronas\n",
    "        - error de entrenamiento\n",
    "        - error de prueba\n",
    "        - diferencia entrenamiento y prueba  \n",
    "    \"\"\"\n",
    "    resultados = pd.DataFrame()\n",
    "    idx = 0\n",
    "    for early_stop in is_early_stop:\n",
    "        for neurons in num_neurons:\n",
    "            #Haga el llamado a la función para crear y entrenar el modelo usando los datos de entrenamiento\n",
    "            # prestar atención a los parametros, correctos.\n",
    "            hidden_layer_sizes = tuple(2*[neurons])\n",
    "            # llame el parametro que el MLP pare anticipadamente\n",
    "            mlp = MLPClassifier(hidden_layer_sizes= hidden_layer_sizes, max_iter = 1000,random_state=1, early_stopping=early_stop )\n",
    "            # entrenar\n",
    "            mlp.fit(X=Xtrain, y=Ytrain)\n",
    "            # llamar la funcion creada anteriomente\n",
    "            error_train, error_test, diff = diff_train_test(mlp, Xtrain, Ytrain, Xtest, Ytest)\n",
    "\n",
    "            resultados.loc[idx,'neuronas en capas ocultas'] = neurons \n",
    "            resultados.loc[idx,'error de entrenamiento'] = error_train\n",
    "            resultados.loc[idx,'error de prueba'] = error_test\n",
    "            resultados.loc[idx,'diferencia entrenamiento y prueba'] = diff\n",
    "            resultados.loc[idx,'is_early_stop'] = early_stop\n",
    "            idx+=1\n",
    "    return (resultados)"
   ]
  },
  {
   "cell_type": "code",
   "execution_count": 11,
   "metadata": {
    "colab": {
     "base_uri": "https://localhost:8080/"
    },
    "id": "OdbI_6iZTbEK",
    "outputId": "751b4b69-7da6-410a-9785-46a47505f67a"
   },
   "outputs": [
    {
     "name": "stdout",
     "output_type": "stream",
     "text": [
      "TEST EXITOSO!\n"
     ]
    }
   ],
   "source": [
    "## la funcion que prueba tu implementacion\n",
    "GRADER.run_test(\"ejercicio2\", exp_mlp_early_stop)"
   ]
  },
  {
   "cell_type": "code",
   "execution_count": 12,
   "metadata": {
    "id": "OmEqW2qgTbEM"
   },
   "outputs": [],
   "source": [
    "res_early_stop = exp_mlp_early_stop(x, x_test, y, y_test, [8,16,20,24], [True, False])"
   ]
  },
  {
   "cell_type": "code",
   "execution_count": 13,
   "metadata": {
    "colab": {
     "base_uri": "https://localhost:8080/",
     "height": 401
    },
    "id": "ssdnLBHCTbEN",
    "outputId": "ec598ecd-7deb-4456-82a2-12e57a6efe1e"
   },
   "outputs": [
    {
     "data": {
      "text/plain": [
       "<seaborn.axisgrid.FacetGrid at 0x7f12495e0640>"
      ]
     },
     "execution_count": 13,
     "metadata": {},
     "output_type": "execute_result"
    },
    {
     "data": {
      "image/png": "[encoded data removed]",
      "text/plain": [
       "<Figure size 820.625x360 with 1 Axes>"
      ]
     },
     "metadata": {
      "needs_background": "light"
     },
     "output_type": "display_data"
    }
   ],
   "source": [
    "import seaborn as sns\n",
    "sns.relplot(x = 'neuronas en capas ocultas', y='diferencia entrenamiento y prueba', hue = 'is_early_stop', data = res_early_stop, kind = 'line', aspect=2)"
   ]
  },
  {
   "cell_type": "markdown",
   "metadata": {
    "id": "IYhFhofwTbEP"
   },
   "source": [
    "Ahora vamos a experimentar con el parametro L2 del MLP."
   ]
  },
  {
   "cell_type": "code",
   "execution_count": 14,
   "metadata": {
    "cellView": "form",
    "id": "5Rbf21WdTbEQ"
   },
   "outputs": [],
   "source": [
    "#@title Pregunta Abierta\n",
    "#@markdown ¿explique en sus palabras en qué consiste la regularización L2?\n",
    "respuesta_3 = \"En esta regularizaci\\xF3n el objetivo es disminuir el valor de los coeficientes para que con ello disminuya tambi\\xE9n la correlaci\\xF3n entre las caracter\\xEDsticas y el modelo pueda hacer una mejor generalizaci\\xF3n.\" #@param {type:\"string\"}"
   ]
  },
  {
   "cell_type": "code",
   "execution_count": 15,
   "metadata": {
    "id": "LS6Sz86HTbER"
   },
   "outputs": [],
   "source": [
    "# ejercicio de código\n",
    "def exp_mlp_l2(Xtrain,Xtest,Ytrain, Ytest, num_neurons, l2_values):\n",
    "    \"\"\" función para realizar experimentos con el MLP con early stopping\n",
    "    Xtrain: matriz de numpy con caracteristicas de entrenamiento\n",
    "    Xtest: matriz de numpy con caracteristicas de prueba\n",
    "    ytrain: vector numpy con etiqueta de entrenamiento\n",
    "    ytest: vector numpy con etiqueta de prueba\n",
    "    num_neurons: list de enteros con el numero de neuronas a usar\n",
    "    l2: list de floats con valores para regularizacion l2\n",
    "    \n",
    "    Retorna: dataframe con 5 columnas:\n",
    "        - numero de neuronas\n",
    "        - error de entrenamiento\n",
    "        - error de prueba\n",
    "        - diferencia entrenamiento y prueba  \n",
    "    \"\"\"\n",
    "    resultados = pd.DataFrame()\n",
    "    idx = 0\n",
    "    for l2 in l2_values:\n",
    "        for neurons in num_neurons:\n",
    "            #Haga el llamado a la función para crear y entrenar el modelo usando los datos de entrenamiento\n",
    "            # prestar atención a los parametros, correctos.\n",
    "            hidden_layer_sizes = tuple(2*[neurons])\n",
    "            # llame el parametro adecuado del MLPClassifier\n",
    "            mlp = MLPClassifier(hidden_layer_sizes= hidden_layer_sizes, max_iter = 1000, random_state=1, alpha=l2)\n",
    "            mlp.fit(X= Xtrain, y=Ytrain)\n",
    "            # llamar la funcion creada anteriomente\n",
    "            error_train, error_test, diff = diff_train_test(mlp, Xtrain, Ytrain, Xtest, Ytest)\n",
    "            resultados.loc[idx,'neuronas en capas ocultas'] = neurons \n",
    "            resultados.loc[idx,'error de entrenamiento'] = error_train\n",
    "            resultados.loc[idx,'error de prueba'] = error_test\n",
    "            resultados.loc[idx,'diferencia entrenamiento y prueba'] = diff\n",
    "            resultados.loc[idx,'l2'] = l2\n",
    "            idx+=1\n",
    "    return (resultados)"
   ]
  },
  {
   "cell_type": "code",
   "execution_count": 16,
   "metadata": {
    "colab": {
     "base_uri": "https://localhost:8080/"
    },
    "id": "B9WxvFIvTbEU",
    "outputId": "d49f7d19-e1da-4334-e26f-cf17c5ad8ce9"
   },
   "outputs": [
    {
     "name": "stdout",
     "output_type": "stream",
     "text": [
      "TEST EXITOSO!\n"
     ]
    }
   ],
   "source": [
    "## la funcion que prueba tu implementacion\n",
    "GRADER.run_test(\"ejercicio3\", exp_mlp_l2)"
   ]
  },
  {
   "cell_type": "code",
   "execution_count": 17,
   "metadata": {
    "id": "Ou3NnHTMTbEW"
   },
   "outputs": [],
   "source": [
    "res_l2 = exp_mlp_l2(x, x_test, y, y_test, [8,16,20,24], [1e-6,1e-3,1e-1,1e0, 1e1,1])"
   ]
  },
  {
   "cell_type": "code",
   "execution_count": 18,
   "metadata": {
    "colab": {
     "base_uri": "https://localhost:8080/",
     "height": 401
    },
    "id": "JbiYggBzTbEY",
    "outputId": "99e22a43-7008-4337-e852-004f509848e6"
   },
   "outputs": [
    {
     "data": {
      "text/plain": [
       "<seaborn.axisgrid.FacetGrid at 0x7f12547ac820>"
      ]
     },
     "execution_count": 18,
     "metadata": {},
     "output_type": "execute_result"
    },
    {
     "data": {
      "image/png": "[encoded data removed]",
      "text/plain": [
       "<Figure size 889.625x360 with 1 Axes>"
      ]
     },
     "metadata": {
      "needs_background": "light"
     },
     "output_type": "display_data"
    }
   ],
   "source": [
    "sns.relplot(x = 'l2', y='diferencia entrenamiento y prueba',\n",
    "            hue = 'neuronas en capas ocultas', \n",
    "            data = res_l2, kind = 'line', \n",
    "            aspect=2, palette=sns.color_palette('viridis', n_colors=res_l2['neuronas en capas ocultas'].nunique()))"
   ]
  },
  {
   "cell_type": "code",
   "execution_count": 19,
   "metadata": {
    "cellView": "form",
    "id": "R9RW7MYKTbEZ"
   },
   "outputs": [],
   "source": [
    "#@title Pregunta Abierta\n",
    "#@markdown ¿qué efecto tiene el L2 en el overfitting/sobre-ajuste? explique\n",
    "respuesta_4 = \"Cuando L2 comienza a crecer el error de entrenamiento y de prueba comienza a ser m\\xE1s similar y por ello es que su diferencia empieza a tender a cero.\" #@param {type:\"string\"}"
   ]
  },
  {
   "cell_type": "markdown",
   "metadata": {
    "id": "9-iNKrRoTbEb"
   },
   "source": [
    "## Ejercicio 3 - Experimentar con regresión logistica regularizada"
   ]
  },
  {
   "cell_type": "markdown",
   "metadata": {
    "id": "CKRD9YADTbEb"
   },
   "source": [
    "Ahora vamos explorar la opciones de regularización de la regresión logistica. En la libreria se implementan más formas de regularizar, pero solo vamos a comprobar la regularización de norma L2."
   ]
  },
  {
   "cell_type": "code",
   "execution_count": 20,
   "metadata": {
    "id": "PDooOislTbEd"
   },
   "outputs": [],
   "source": [
    "# ejercicio de código\n",
    "def exp_reg_l2(Xtrain,Xtest,Ytrain, Ytest, l2_values):\n",
    "    \"\"\" función para realizar experimentos con el MLP con early stopping\n",
    "    Xtrain: matriz de numpy con caracteristicas de entrenamiento\n",
    "    Xtest: matriz de numpy con caracteristicas de prueba\n",
    "    ytrain: vector numpy con etiqueta de entrenamiento\n",
    "    ytest: vector numpy con etiqueta de prueba\n",
    "    l2: list de floats con valores para regularizacion l2\n",
    "    \n",
    "    Retorna: dataframe con 5 columnas:\n",
    "        - numero de neuronas\n",
    "        - error de entrenamiento\n",
    "        - error de prueba\n",
    "        - diferencia entrenamiento y prueba  \n",
    "    \"\"\"\n",
    "    resultados = pd.DataFrame()\n",
    "    idx = 0\n",
    "    for l2 in l2_values:\n",
    "        #Haga el llamado a la función para crear y entrenar el modelo usando los datos de entrenamiento\n",
    "        # prestar atención a los parametros, correctos., para lograr\n",
    "        # la regularizacion deseada (pasar el valor de \"l2\" directamente al parametro de la libreria asociado)\n",
    "        reg = LogisticRegression(max_iter = 500, random_state=1,C=l2)\n",
    "        reg.fit(X=Xtrain, y=Ytrain)\n",
    "        # llamar la funcion creada anteriomente\n",
    "        error_train, error_test, diff = diff_train_test(reg, Xtrain, Ytrain, Xtest, Ytest)\n",
    "        resultados.loc[idx,'error de entrenamiento'] = error_train\n",
    "        resultados.loc[idx,'error de prueba'] = error_test\n",
    "        resultados.loc[idx,'diferencia entrenamiento y prueba'] = diff\n",
    "        resultados.loc[idx,'l2'] = l2\n",
    "        idx+=1\n",
    "    return (resultados)"
   ]
  },
  {
   "cell_type": "code",
   "execution_count": 21,
   "metadata": {
    "colab": {
     "base_uri": "https://localhost:8080/"
    },
    "id": "c5OPNTlITbEe",
    "outputId": "37cf7f4a-c4de-46b5-d6f1-522a5bc7b9e5"
   },
   "outputs": [
    {
     "name": "stdout",
     "output_type": "stream",
     "text": [
      "TEST EXITOSO!\n"
     ]
    }
   ],
   "source": [
    "## la funcion que prueba tu implementacion\n",
    "GRADER.run_test(\"ejercicio4\", exp_reg_l2)"
   ]
  },
  {
   "cell_type": "code",
   "execution_count": 22,
   "metadata": {
    "id": "jWZIM72aTbEf"
   },
   "outputs": [],
   "source": [
    "reg_l2 = exp_reg_l2(x, x_test, y, y_test, [1e-6,1e-3,1e-1,1e0, 1e1])"
   ]
  },
  {
   "cell_type": "code",
   "execution_count": 23,
   "metadata": {
    "colab": {
     "base_uri": "https://localhost:8080/",
     "height": 401
    },
    "id": "iNQ3fOPeTbEh",
    "outputId": "2a23cd83-8e4e-4091-eeef-4302ae14148b"
   },
   "outputs": [
    {
     "data": {
      "text/plain": [
       "<seaborn.axisgrid.FacetGrid at 0x7f12805d4820>"
      ]
     },
     "execution_count": 23,
     "metadata": {},
     "output_type": "execute_result"
    },
    {
     "data": {
      "image/png": "[encoded data removed]",
      "text/plain": [
       "<Figure size 720x360 with 1 Axes>"
      ]
     },
     "metadata": {
      "needs_background": "light"
     },
     "output_type": "display_data"
    }
   ],
   "source": [
    "sns.relplot(x = 'l2', y='diferencia entrenamiento y prueba',\n",
    "             data = reg_l2, kind = 'line', \n",
    "            aspect=2)"
   ]
  },
  {
   "cell_type": "code",
   "execution_count": 24,
   "metadata": {
    "cellView": "form",
    "id": "i4weYXfHTbEj"
   },
   "outputs": [],
   "source": [
    "#@title Pregunta Abierta\n",
    "#@markdown ¿qué efecto tiene el parametro que controla L2 en la regresión logistica en el overfitting? es diferente al MLP?\n",
    "respuesta_5 = \"Este es un caso completamente distinto a lo apreciado en MLP porque al aumentar el L2 lo que se est\\xE1 obteniendo es mayor diferencia entre el error de prueba y el de entrenamiento que se puede puede traducir en que a mayor valor de l2 hay m\\xE1s sobreajuste.\" #@param {type:\"string\"}"
   ]
  },
  {
   "cell_type": "markdown",
   "metadata": {
    "id": "RIAM660hTbEk"
   },
   "source": [
    "## Ejercicio 4 Efecto del tamaño del conjunto de entrenamiento\n",
    "\n",
    "Finalmente como mencionamos anteriormente, en los ejercicios que hemos resuelto, estabamos simulando la situación de un conjunto de datos de entrenamiento pequeño. En nuestro ultimo ejercicio vamos comprobar el efecto del tamaño del conjunto de entrenamiento."
   ]
  },
  {
   "cell_type": "code",
   "execution_count": 25,
   "metadata": {
    "id": "3lh2LQUhTbEk"
   },
   "outputs": [],
   "source": [
    "# ejercicio de codigo\n",
    "def train_size_experiments(sk_estimator, train_pcts,X,Y):\n",
    "    \"\"\"funcion que realiza experimentos para\n",
    "        comprobar la influencia del tamaño de conjunto\n",
    "        de entrenamiento.\n",
    "    \n",
    "    sk_estimator: estimador/modelo de sklearn definido (sin entrenar)\n",
    "    train_pcts: lista de floats con los pct de entrenamiento a evaluar\n",
    "    X: matriz de numpy del conjunto de caracteristicas\n",
    "    Y: vector numpy con las etiquetas\n",
    "    \n",
    "    Retorna: dataframe con 5 columnas:\n",
    "        - tamaño del conjunto de entrenamiento (porcentaje!)\n",
    "        - error de entrenamiento\n",
    "        - error de prueba\n",
    "        - diferencia entrenamiento y prueba \n",
    "    \"\"\"\n",
    "    resultados = pd.DataFrame()\n",
    "    idx = 0\n",
    "    for train_pct in train_pcts:\n",
    "        #complete el con train_pct\n",
    "        # preste atencion a que parametro usar!\n",
    "        # recuerde que son porcentajes\n",
    "        Xtrain, Xtest, Ytrain, Ytest = train_test_split(X, Y, random_state=10, train_size= train_pct )\n",
    "        # normalizamos\n",
    "        scaler = StandardScaler().fit(Xtrain)\n",
    "        Xtrain = scaler.transform(Xtrain)\n",
    "        Xtest = scaler.transform(Xtest)\n",
    "        # entrenar!\n",
    "        sk_estimator.fit(X=Xtrain, y=Ytrain)\n",
    "        # llamar la funcion creada anteriomente\n",
    "        error_train, error_test, diff = diff_train_test(sk_estimator, Xtrain, Ytrain, Xtest, Ytest)\n",
    "        resultados.loc[idx,'error de entrenamiento'] = error_train\n",
    "        resultados.loc[idx,'error de prueba'] = error_test\n",
    "        resultados.loc[idx,'diferencia entrenamiento y prueba'] = diff\n",
    "        # complete con el tamaño del entrenamiento\n",
    "        resultados.loc[idx,'tamaño de entrenamiento'] = train_pct\n",
    "        idx+=1\n",
    "    \n",
    "    return (resultados)\n",
    "    \n",
    "    "
   ]
  },
  {
   "cell_type": "code",
   "execution_count": 26,
   "metadata": {
    "colab": {
     "base_uri": "https://localhost:8080/"
    },
    "id": "I1VGs0OgTbEm",
    "outputId": "5abe9743-41c6-44bc-f8e9-6135e540461f"
   },
   "outputs": [
    {
     "name": "stdout",
     "output_type": "stream",
     "text": [
      "TEST EXITOSO!\n"
     ]
    }
   ],
   "source": [
    "## la funcion que prueba tu implementacion\n",
    "GRADER.run_test(\"ejercicio5\", train_size_experiments)"
   ]
  },
  {
   "cell_type": "code",
   "execution_count": 27,
   "metadata": {
    "id": "1XOHyRcgTbEn"
   },
   "outputs": [],
   "source": [
    "# debemos recargar nuestro conjunto de datos\n",
    "x,y = load_digits(return_X_y=True)"
   ]
  },
  {
   "cell_type": "code",
   "execution_count": 28,
   "metadata": {
    "id": "ccI07QKMTbEp"
   },
   "outputs": [],
   "source": [
    "# comprobamos con un MLP\n",
    "mlp = MLPClassifier(hidden_layer_sizes=[20,20], max_iter=500, random_state=1)\n",
    "train_size_exp = train_size_experiments(mlp, [0.2,0.3,0.5,0.7,0.9], x, y)"
   ]
  },
  {
   "cell_type": "code",
   "execution_count": 29,
   "metadata": {
    "colab": {
     "base_uri": "https://localhost:8080/",
     "height": 435
    },
    "id": "qxeHuXtnTbEr",
    "outputId": "1f3b4d2c-92c8-4baa-fbf5-f23cb54eff41"
   },
   "outputs": [
    {
     "data": {
      "image/png": "[encoded data removed]",
      "text/plain": [
       "<Figure size 648x432 with 2 Axes>"
      ]
     },
     "metadata": {
      "needs_background": "light"
     },
     "output_type": "display_data"
    }
   ],
   "source": [
    "# vemos las tres medidas\n",
    "ax = train_size_exp.plot(x=\"tamaño de entrenamiento\", y=\"error de entrenamiento\", color=\"b\", legend=False, figsize = (9,6))\n",
    "train_size_exp.plot(x=\"tamaño de entrenamiento\", y=\"error de prueba\",  ax=ax, legend=False, color=\"r\")\n",
    "ax2 = ax.twinx()\n",
    "ax2.set_ylabel(\"diff train y test\")\n",
    "ax.set_ylabel(\"eficiencia\")\n",
    "train_size_exp.plot(x=\"tamaño de entrenamiento\", y=\"diferencia entrenamiento y prueba\", ax=ax2, legend=False, color=\"k\")\n",
    "ax.figure.legend(loc = 'best')\n",
    "plt.show()"
   ]
  },
  {
   "cell_type": "markdown",
   "metadata": {
    "id": "Rh_0RiBXTbEs"
   },
   "source": [
    "**Notas Finales ** \n",
    "\n",
    "Para tener en cuenta: [Sklearn hay una libreria que realiza algo similar a lo que creamos en el anterior ejercicio.](https://scikit-learn.org/stable/modules/generated/sklearn.model_selection.learning_curve.html)"
   ]
  },
  {
   "cell_type": "markdown",
   "metadata": {
    "id": "dz3iJ10pTbEs"
   },
   "source": [
    "Debemos notar que en esta practica exageramos algunas situaciones para lograr medir y ver el efecto del sobre-ajuste. En la practica un flujo de trabajo mas ideal es el siguiente:\n",
    "\n",
    "<img src=\"https://scikit-learn.org/stable/_images/grid_search_workflow.png\" alt=\"grid_search_workflow\" width=\"500\"/>\n"
   ]
  },
  {
   "cell_type": "markdown",
   "metadata": {
    "id": "Oz3w7bYJTbEt"
   },
   "source": [
    "1. dividimos el conjunto al inicio, reservando un conjunto de test. \n",
    "2. verificamos los mejores parametros mediante validación cruzada. \n",
    "3. reentrenamos con los mejores parametros y realizamos la evaluación final. \n",
    "4. En esta última etapa es donde validamos si existe sobre ajuste. Si existe, se deben incluir parametros para mitigar el sobre ajuste en la validación cruzada y volver al paso 2."
   ]
  },
  {
   "cell_type": "code",
   "execution_count": 30,
   "metadata": {
    "colab": {
     "base_uri": "https://localhost:8080/"
    },
    "id": "BKIT-LYSTbEt",
    "outputId": "b3c4b1ca-f55f-47ca-8957-3f54ba2658ca"
   },
   "outputs": [
    {
     "name": "stdout",
     "output_type": "stream",
     "text": [
      "Todo se ve ok. Asegurate de responder las preguntas abiertas y envia e archivo al formulario ¡buen trabajo!\n"
     ]
    }
   ],
   "source": [
    "GRADER.check_tests()"
   ]
  },
  {
   "cell_type": "code",
   "execution_count": 31,
   "metadata": {
    "cellView": "form",
    "id": "kJSs79rzTbEu"
   },
   "outputs": [],
   "source": [
    "#@title Integrantes\n",
    "codigo_integrante_1 ='1152219543' #@param {type:\"string\"}\n",
    "codigo_integrante_2 = 'Cancel\\xF3'  #@param {type:\"string\"}"
   ]
  },
  {
   "cell_type": "markdown",
   "metadata": {
    "id": "JBLsuTAtTbEw"
   },
   "source": [
    "----\n",
    "esta linea de codigo va fallar, es de uso exclusivo de los profesores\n"
   ]
  },
  {
   "cell_type": "code",
   "execution_count": 33,
   "metadata": {
    "id": "KhZOwh83TbEw"
   },
   "outputs": [
    {
     "name": "stdout",
     "output_type": "stream",
     "text": [
      "uso del docente\n"
     ]
    }
   ],
   "source": [
    "GRADER.grade()"
   ]
  },
  {
   "cell_type": "code",
   "execution_count": 34,
   "metadata": {},
   "outputs": [
    {
     "name": "stdout",
     "output_type": "stream",
     "text": [
      "Laboratorio listo\n"
     ]
    }
   ],
   "source": [
    "print('Laboratorio listo')"
   ]
  },
  {
   "cell_type": "code",
   "execution_count": null,
   "metadata": {},
   "outputs": [],
   "source": []
  }
 ],
 "metadata": {
  "colab": {
   "collapsed_sections": [],
   "name": "lab4_parte2.ipynb",
   "provenance": []
  },
  "kernelspec": {
   "display_name": "Python 3",
   "language": "python",
   "name": "python3"
  },
  "language_info": {
   "codemirror_mode": {
    "name": "ipython",
    "version": 3
   },
   "file_extension": ".py",
   "mimetype": "text/x-python",
   "name": "python",
   "nbconvert_exporter": "python",
   "pygments_lexer": "ipython3",
   "version": "3.8.3"
  }
 },
 "nbformat": 4,
 "nbformat_minor": 1
}
