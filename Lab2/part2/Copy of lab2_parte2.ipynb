{
 "cells": [
  {
   "cell_type": "markdown",
   "metadata": {
    "id": "ZpQ5oaZCofFF"
   },
   "source": [
    "<a href=\"https://colab.research.google.com/github/jdariasl/ML_2020/blob/master/Labs/lab2/lab2_parte2.ipynb\" target=\"_parent\"><img src=\"https://colab.research.google.com/assets/colab-badge.svg\" alt=\"Open In Colab\"/></a>\n",
    "\n",
    "**Recuerda que una vez abierto, Da clic en \"Copiar en Drive\", de lo contrario no podras alamancenar tu progreso**\n",
    "\n",
    "Nota: no olvide ir ejecutando las celdas de código de arriba hacia abajo para que no tenga errores de importación de librerías o por falta de definición de variables."
   ]
  },
  {
   "cell_type": "code",
   "execution_count": 1,
   "metadata": {
    "colab": {
     "base_uri": "https://localhost:8080/",
     "height": 272
    },
    "executionInfo": {
     "elapsed": 6122,
     "status": "ok",
     "timestamp": 1601637675838,
     "user": {
      "displayName": "DANIEL FELIPE RIVERA ARROYAVE",
      "photoUrl": "https://lh3.googleusercontent.com/a-/AOh14GhKUcXWForDRzN8KQTJax_-Hooo1DeBYp0of1gL_A=s64",
      "userId": "01701263505455054832"
     },
     "user_tz": 300
    },
    "id": "QycC0GLqofFG",
    "outputId": "84a9b808-abc0-4c57-9ae7-49f581c52d59",
    "tags": []
   },
   "outputs": [
    {
     "name": "stdout",
     "output_type": "stream",
     "text": [
      "--2020-10-19 06:58:19--  https://raw.githubusercontent.com/jdariasl/ML_2020/master/Labs/commons/utils/general.py\n",
      "Resolving raw.githubusercontent.com (raw.githubusercontent.com)... 199.232.48.133\n",
      "Connecting to raw.githubusercontent.com (raw.githubusercontent.com)|199.232.48.133|:443... connected.\n",
      "HTTP request sent, awaiting response... 200 OK\n",
      "Length: 13949 (14K) [text/plain]\n",
      "Saving to: ‘general.py’\n",
      "\n",
      "general.py          100%[===================>]  13.62K  --.-KB/s    in 0.03s   \n",
      "\n",
      "2020-10-19 06:58:20 (508 KB/s) - ‘general.py’ saved [13949/13949]\n",
      "\n",
      "lab configuration started\n",
      "installing libraries\n",
      "downloading files\n",
      "lab configured\n"
     ]
    }
   ],
   "source": [
    "#configuración del laboratorio\n",
    "# Ejecuta esta celda!\n",
    "%load_ext autoreload\n",
    "%autoreload 2\n",
    "# for local \n",
    "#import sys ; sys.path.append('../commons/utils/')\n",
    "!wget https://raw.githubusercontent.com/jdariasl/ML_2020/master/Labs/commons/utils/general.py -O general.py\n",
    "from general import configure_lab2\n",
    "configure_lab2()\n",
    "from lab2 import *\n",
    "GRADER, x, y = part_2()"
   ]
  },
  {
   "cell_type": "markdown",
   "metadata": {
    "id": "M43P7dzhofFJ"
   },
   "source": [
    "# Laboratorio 2 - Parte 2\n",
    "\n"
   ]
  },
  {
   "cell_type": "markdown",
   "metadata": {
    "id": "Ajc7Wc5LofFJ"
   },
   "source": [
    "## Ejercicio 1: Contextualización del problema\n",
    "\n",
    "Para el problema de regresion usaremos la base de datos 'The Boston Housing Dataset', cuya descripción [pueden encontrarla aqui](https://www.cs.toronto.edu/~delve/data/boston/bostonDetail.html). La información ya esta cargada dentro del notebook"
   ]
  },
  {
   "cell_type": "code",
   "execution_count": 2,
   "metadata": {
    "colab": {
     "base_uri": "https://localhost:8080/",
     "height": 272
    },
    "executionInfo": {
     "elapsed": 6111,
     "status": "ok",
     "timestamp": 1601637675840,
     "user": {
      "displayName": "DANIEL FELIPE RIVERA ARROYAVE",
      "photoUrl": "https://lh3.googleusercontent.com/a-/AOh14GhKUcXWForDRzN8KQTJax_-Hooo1DeBYp0of1gL_A=s64",
      "userId": "01701263505455054832"
     },
     "user_tz": 300
    },
    "id": "LXhySCFiofFJ",
    "outputId": "7e812c19-c5fc-4d03-b469-50709ed1b980"
   },
   "outputs": [
    {
     "name": "stdout",
     "output_type": "stream",
     "text": [
      "muestra de los 3 primeros renglones de x:\n",
      " [[6.3200e-03 1.8000e+01 2.3100e+00 0.0000e+00 5.3800e-01 6.5750e+00\n",
      "  6.5200e+01 4.0900e+00 1.0000e+00 2.9600e+02 1.5300e+01 3.9690e+02\n",
      "  4.9800e+00]\n",
      " [2.7310e-02 0.0000e+00 7.0700e+00 0.0000e+00 4.6900e-01 6.4210e+00\n",
      "  7.8900e+01 4.9671e+00 2.0000e+00 2.4200e+02 1.7800e+01 3.9690e+02\n",
      "  9.1400e+00]\n",
      " [2.7290e-02 0.0000e+00 7.0700e+00 0.0000e+00 4.6900e-01 7.1850e+00\n",
      "  6.1100e+01 4.9671e+00 2.0000e+00 2.4200e+02 1.7800e+01 3.9283e+02\n",
      "  4.0300e+00]]\n",
      "muestra de los 3 primeros renglones de y:\n",
      " [24.  21.6 34.7]\n",
      "¿el resultado de esta instrucción que información nos brinda? 506\n",
      "¿el resultado de esta instrucción que información nos brinda? 13\n",
      "¿el resultado de esta instrucción que información nos brinda? 229\n"
     ]
    }
   ],
   "source": [
    "print(\"muestra de los 3 primeros renglones de x:\\n\", x[0:3, :])\n",
    "print(\"muestra de los 3 primeros renglones de y:\\n\", y[0:3])\n",
    "print (\"¿el resultado de esta instrucción que información nos brinda?\", x.shape[0])\n",
    "print (\"¿el resultado de esta instrucción que información nos brinda?\", x.shape[1])\n",
    "print (\"¿el resultado de esta instrucción que información nos brinda?\", len(np.unique(y)))"
   ]
  },
  {
   "cell_type": "markdown",
   "metadata": {
    "id": "6OI7JJ-EofFL"
   },
   "source": [
    "En los problemas de regresión, es muy util explorar la distribución de la variable objetivo. Nuestro primer ejercicio consiste en:\n",
    "1. visualizar un histograma de la variable y \n",
    "2. retornar los intervalo de datos mas frecuente.\n",
    "\n",
    "Pistas: \n",
    "1. explorar la documentación de [plt.hist](https://matplotlib.org/3.3.1/api/_as_gen/matplotlib.pyplot.hist.html). Maneje los valores por defecto. ¿como se puede usar la salida del histograma para retorna el intervalo de datos mas frecuente?\n",
    "2. ¿ `np.argsort(numpy_array)[::-1]` que efecto tiene?"
   ]
  },
  {
   "cell_type": "code",
   "execution_count": 3,
   "metadata": {
    "executionInfo": {
     "elapsed": 6101,
     "status": "ok",
     "timestamp": 1601637675842,
     "user": {
      "displayName": "DANIEL FELIPE RIVERA ARROYAVE",
      "photoUrl": "https://lh3.googleusercontent.com/a-/AOh14GhKUcXWForDRzN8KQTJax_-Hooo1DeBYp0of1gL_A=s64",
      "userId": "01701263505455054832"
     },
     "user_tz": 300
    },
    "id": "WbGGSk26ofFM"
   },
   "outputs": [],
   "source": [
    "#ejercicio de código\n",
    "def plot_hist_and_get_freq_int(Y):\n",
    "    \"\"\"función que grafica el histograma de la variable 'Y'\n",
    "        y retorna el intervalo donde ocurren con mas frecuencia los\n",
    "        valores de 'Y'\n",
    "        Y: numpy array con la variable a graficar\n",
    "        retorna: una tupla (int/float, int/float, int/float) \n",
    "            el primer elemento es al limite inferior del intervalo donde ocurren los valores\n",
    "            mas frecuentes\n",
    "            el segundo elemento es al limite superior del intervalo donde ocurren los valores\n",
    "            mas frecuentes\n",
    "            el tercer elemento es el la frecuencia del intervalo\n",
    "            va observar un cuarto elemento a retornar, el cual es usado para confirmar que\n",
    "            se realizo la grafica correctamente\n",
    "    \"\"\"\n",
    "    n,bins,_=plt.hist(Y)\n",
    "    order=np.argsort(n)[::-1]\n",
    "    lim_inf = bins[order[0]]\n",
    "    print(order,bins)\n",
    "    lim_sup = bins[order[0]+1]\n",
    "    freqs =n[order[0]]\n",
    "    \n",
    "    # el cuarto elemento debe dejarlo\n",
    "    return (lim_inf, lim_sup, freqs, plt.gcf())"
   ]
  },
  {
   "cell_type": "code",
   "execution_count": 4,
   "metadata": {
    "colab": {
     "base_uri": "https://localhost:8080/",
     "height": 316
    },
    "executionInfo": {
     "elapsed": 6319,
     "status": "ok",
     "timestamp": 1601637676072,
     "user": {
      "displayName": "DANIEL FELIPE RIVERA ARROYAVE",
      "photoUrl": "https://lh3.googleusercontent.com/a-/AOh14GhKUcXWForDRzN8KQTJax_-Hooo1DeBYp0of1gL_A=s64",
      "userId": "01701263505455054832"
     },
     "user_tz": 300
    },
    "id": "6HWrZsxpofFN",
    "outputId": "fb5841f7-bc18-4d66-99b3-e4639c7915a2"
   },
   "outputs": [
    {
     "name": "stdout",
     "output_type": "stream",
     "text": [
      "[0 3 2 1 5 9 4 6 8 7] [12.7  15.05 17.4  19.75 22.1  24.45 26.8  29.15 31.5  33.85 36.2 ]\n",
      "[5 9 8 7 6 4 3 2 1 0] [0.5 0.6 0.7 0.8 0.9 1.  1.1 1.2 1.3 1.4 1.5]\n",
      "TEST EXITOSO!\n"
     ]
    },
    {
     "data": {
      "image/png": "[encoded data removed]",
      "text/plain": [
       "<Figure size 432x288 with 1 Axes>"
      ]
     },
     "metadata": {
      "needs_background": "light"
     },
     "output_type": "display_data"
    }
   ],
   "source": [
    "## la funcion que prueba tu implementacion\n",
    "#ignora las graficas!!\n",
    "GRADER.run_test(\"ejercicio1\", plot_hist_and_get_freq_int)"
   ]
  },
  {
   "cell_type": "code",
   "execution_count": 5,
   "metadata": {
    "colab": {
     "base_uri": "https://localhost:8080/",
     "height": 301
    },
    "executionInfo": {
     "elapsed": 6525,
     "status": "ok",
     "timestamp": 1601637676288,
     "user": {
      "displayName": "DANIEL FELIPE RIVERA ARROYAVE",
      "photoUrl": "https://lh3.googleusercontent.com/a-/AOh14GhKUcXWForDRzN8KQTJax_-Hooo1DeBYp0of1gL_A=s64",
      "userId": "01701263505455054832"
     },
     "user_tz": 300
    },
    "id": "GHpvs0gwofFP",
    "outputId": "a6bde0ea-63c2-438a-e7f6-bfafeb7a6edf"
   },
   "outputs": [
    {
     "name": "stdout",
     "output_type": "stream",
     "text": [
      "[3 4 2 1 5 6 9 0 8 7] [ 5.   9.5 14.  18.5 23.  27.5 32.  36.5 41.  45.5 50. ]\n"
     ]
    },
    {
     "data": {
      "text/plain": [
       "(18.5, 23.0, 154.0, <Figure size 432x288 with 1 Axes>)"
      ]
     },
     "execution_count": 5,
     "metadata": {},
     "output_type": "execute_result"
    },
    {
     "data": {
      "image/png": "[encoded data removed]",
      "text/plain": [
       "<Figure size 432x288 with 1 Axes>"
      ]
     },
     "metadata": {
      "needs_background": "light"
     },
     "output_type": "display_data"
    }
   ],
   "source": [
    "# ver el histograma!\n",
    "plot_hist_and_get_freq_int(y)"
   ]
  },
  {
   "cell_type": "code",
   "execution_count": 6,
   "metadata": {
    "cellView": "form",
    "executionInfo": {
     "elapsed": 6518,
     "status": "ok",
     "timestamp": 1601637676290,
     "user": {
      "displayName": "DANIEL FELIPE RIVERA ARROYAVE",
      "photoUrl": "https://lh3.googleusercontent.com/a-/AOh14GhKUcXWForDRzN8KQTJax_-Hooo1DeBYp0of1gL_A=s64",
      "userId": "01701263505455054832"
     },
     "user_tz": 300
    },
    "id": "-_f11sJfofFR"
   },
   "outputs": [],
   "source": [
    "#@title Pregunta Abierta\n",
    "#@markdown ¿evaluando **solo** el histograma, podria decirse que nuestra variable 'y' podria modelarse de manera **totalmente exacta** con una sola distribución de probabilidad gausiana? justifique su respuesta\n",
    "respuesta_1 = \"No es posible modelarse de manera \\\"totalmente exacta\\\"  porque al final del histograma es posible ver como las frecuencias vuelven incrementar despu\\xE9s de que empezaran a disminuirse, para hacerlo ser\\xEDa necesario otra gausiana.\" #@param {type:\"string\"}"
   ]
  },
  {
   "cell_type": "markdown",
   "metadata": {
    "id": "pz3slpbKofFT"
   },
   "source": [
    "## Ejercicio 2: Completar código de K-Vecinos para regresión.\n",
    "\n",
    "Vamos a implementar ahora KNN para un problema de regresión."
   ]
  },
  {
   "cell_type": "markdown",
   "metadata": {
    "id": "xiWMzkDGofFV"
   },
   "source": [
    "Las mismas pistas de nuestro laboratorio anterior son de utilidad para implementar el algoritmo.\n",
    "\n",
    "1. Para el cáculo de la distancia entre vectores existen varias opciones:\n",
    "    1. usar la función la distancia entre matrices `scipy.spatial.distance.cdist`([Ejemplo](https://docs.scipy.org/doc/scipy/reference/generated/scipy.spatial.distance.cdist.html#scipy.spatial.distance.cdist))--esta puede ser usada directamente como `cdist(...)`. Entiende la salida de esta función. Al usarla, se logra un rendimiento superior.\n",
    "    2. usar la función la distancia euclidiana `scipy.spatial.distance.euclidean`([Ejemplo](https://docs.scipy.org/doc/scipy/reference/generated/scipy.spatial.distance.euclidean.html))--pueder acceder a ella directamente como `euclidean`. Aca debe pensar en un algoritmo elemento a elemento, por lo tanto menos eficiente.\n",
    "2. También serán de utilidad las funciones `np.sort` y `np.argsort`.\n",
    "3. ¿cual es la unica diferencia entre el knn para clasificación y regresión? en lugar de la moda, que metodo debemos usar?"
   ]
  },
  {
   "cell_type": "code",
   "execution_count": 7,
   "metadata": {
    "executionInfo": {
     "elapsed": 6701,
     "status": "ok",
     "timestamp": 1601637676481,
     "user": {
      "displayName": "DANIEL FELIPE RIVERA ARROYAVE",
      "photoUrl": "https://lh3.googleusercontent.com/a-/AOh14GhKUcXWForDRzN8KQTJax_-Hooo1DeBYp0of1gL_A=s64",
      "userId": "01701263505455054832"
     },
     "user_tz": 300
    },
    "id": "rfkzbm94ofFV"
   },
   "outputs": [],
   "source": [
    "#ejercicio de código\n",
    "def KNN_regresion(X_train, Y_train, X_test, k):\n",
    "    \"\"\" Funcion que implementa el modelo de K-Vecino mas cercanos\n",
    "        para regresión\n",
    "    X_train: es la matriz con las muestras de entrenamiento\n",
    "    Y_train: es un vector con los valores de salida pra cada una de las muestras de entrenamiento\n",
    "    X_test: es la matriz con las muestras de validación\n",
    "    k (int): valor de vecinos a usar\n",
    "    retorna: las estimaciones del modelo KNN para el conjunto X_test \n",
    "             esta matriz debe tener un shape de [row/muestras de X_test] \n",
    "             y las distancias de X_test respecto a X_train, estan matrix\n",
    "             debe tener un shape de [rows de X_test, rows X_train]\n",
    "             lo que es lo mismo [muestras de X_test, muestras de X_train]\n",
    "    \"\"\"\n",
    "    \n",
    "    if k > X_train.shape[0]:\n",
    "        print(\"k no puede ser menor que las muestras de entrenamiento\")\n",
    "        return(None)\n",
    "\n",
    "    distancias =  cdist(X_test, X_train)\n",
    "    Yest = np.zeros(X_test.shape[0])\n",
    "    for i in range(X_test.shape[0]):\n",
    "      vecinos_index= np.argsort(distancias[i])[:k]\n",
    "      vecinos_value = np.take(Y_train, vecinos_index) \n",
    "      Yest[i]=np.sum(vecinos_value)/k\n",
    "  \n",
    "        \n",
    "    return Yest, distancias"
   ]
  },
  {
   "cell_type": "code",
   "execution_count": 8,
   "metadata": {
    "colab": {
     "base_uri": "https://localhost:8080/",
     "height": 34
    },
    "executionInfo": {
     "elapsed": 6692,
     "status": "ok",
     "timestamp": 1601637676482,
     "user": {
      "displayName": "DANIEL FELIPE RIVERA ARROYAVE",
      "photoUrl": "https://lh3.googleusercontent.com/a-/AOh14GhKUcXWForDRzN8KQTJax_-Hooo1DeBYp0of1gL_A=s64",
      "userId": "01701263505455054832"
     },
     "user_tz": 300
    },
    "id": "PvO5df8RofFX",
    "outputId": "8bb221fc-136b-4241-b9ac-4888c63238ee"
   },
   "outputs": [
    {
     "name": "stdout",
     "output_type": "stream",
     "text": [
      "TEST EXITOSO!\n"
     ]
    }
   ],
   "source": [
    "## la funcion que prueba tu implementacion\n",
    "GRADER.run_test(\"ejercicio2\", KNN_regresion)"
   ]
  },
  {
   "cell_type": "markdown",
   "metadata": {
    "id": "QC8-3Q0qofFY"
   },
   "source": [
    "## Ejercicio 3: Experimentos con KNN\n",
    "\n",
    "Ahora vamos a probar nuestro algoritmo. Antes de ello, definos la función para calcular el error"
   ]
  },
  {
   "cell_type": "code",
   "execution_count": 9,
   "metadata": {
    "executionInfo": {
     "elapsed": 6684,
     "status": "ok",
     "timestamp": 1601637676483,
     "user": {
      "displayName": "DANIEL FELIPE RIVERA ARROYAVE",
      "photoUrl": "https://lh3.googleusercontent.com/a-/AOh14GhKUcXWForDRzN8KQTJax_-Hooo1DeBYp0of1gL_A=s64",
      "userId": "01701263505455054832"
     },
     "user_tz": 300
    },
    "id": "YExvJ6zqofFZ"
   },
   "outputs": [],
   "source": [
    "def MAPE(Y_est,Y):\n",
    "    \"\"\"Mean Absolute Percentage Error para los problemas de regresión\n",
    "    Y_est: numpy array con los valores estimados\n",
    "    Y: numpy array con las etiquetas verdaderas\n",
    "    retorna: mape\n",
    "    \"\"\"\n",
    "    N = np.size(Y)\n",
    "    mape = np.sum(abs((Y_est.reshape(N,1) - Y.reshape(N,1))/Y.reshape(N,1)))/N\n",
    "    return mape "
   ]
  },
  {
   "cell_type": "markdown",
   "metadata": {
    "id": "RC5fF9WnofFa"
   },
   "source": [
    "Y ahora, si, vamos a crear la función para experimentar.\n",
    "\n",
    "En el ejercicio de código, se puede observar que usamos nuevamente la funciónes de la libreria **sklearn**:\n",
    "\n",
    "1. [StandardScaler](https://scikit-learn.org/stable/modules/generated/sklearn.preprocessing.StandardScaler.html) para normalizar.\n",
    "\n",
    "2. [train_test_split](https://scikit-learn.org/stable/modules/generated/sklearn.model_selection.train_test_split.html). Para dividir el conjunto de datos. Entiende como estamos usando esta función."
   ]
  },
  {
   "cell_type": "code",
   "execution_count": 10,
   "metadata": {
    "cellView": "form",
    "executionInfo": {
     "elapsed": 6676,
     "status": "ok",
     "timestamp": 1601637676483,
     "user": {
      "displayName": "DANIEL FELIPE RIVERA ARROYAVE",
      "photoUrl": "https://lh3.googleusercontent.com/a-/AOh14GhKUcXWForDRzN8KQTJax_-Hooo1DeBYp0of1gL_A=s64",
      "userId": "01701263505455054832"
     },
     "user_tz": 300
    },
    "id": "w_2YwTFsofFa"
   },
   "outputs": [],
   "source": [
    "#@title Pregunta Abierta\n",
    "#@markdown si bien, dentro del código es usada la función train_test_split, que metodologia de validación es implementada usando esta función? justifique\n",
    "respuesta_2 = \"La metodolog\\xEDa de validaci\\xF3n implementada es validaci\\xF3n bootstraping ya que se realizan varias iteraciones para cada 'K' y en cada una se entrena y valida  con conjuntos de datos aleatorios generados en el train_test_split.\" #@param {type:\"string\"}"
   ]
  },
  {
   "cell_type": "code",
   "execution_count": 11,
   "metadata": {
    "executionInfo": {
     "elapsed": 6670,
     "status": "ok",
     "timestamp": 1601637676484,
     "user": {
      "displayName": "DANIEL FELIPE RIVERA ARROYAVE",
      "photoUrl": "https://lh3.googleusercontent.com/a-/AOh14GhKUcXWForDRzN8KQTJax_-Hooo1DeBYp0of1gL_A=s64",
      "userId": "01701263505455054832"
     },
     "user_tz": 300
    },
    "id": "cftNVbm-ofFc"
   },
   "outputs": [],
   "source": [
    "#Ejercicio de código\n",
    "def experimentar (X, Y, ks):\n",
    "    \"\"\"Función que realiza los experimentos con knn usando\n",
    "       una estrategia de validacion entrenamiento y pruebas\n",
    "    X: matriz de numpy conjunto con muestras y caracteristicas\n",
    "    Y: vector de numpy con los valores a predecir\n",
    "    ks: List[int/float] lista con los valores de k-vecinos a usar\n",
    "    retorna: dataframe con los resultados, debe contener las siguientes columnas:\n",
    "        - los k-vecinos, el error-mape medio de prueba, la desviacion estandar del error-mape\n",
    "    \"\"\"\n",
    "    \n",
    "    resultados = pd.DataFrame()\n",
    "    idx = 0\n",
    "    # iteramos sobre la lista de k's\n",
    "    for k in ks:\n",
    "        # lista para almacenar los errores de cada iteración\n",
    "        # de la validación\n",
    "        error_temp = []\n",
    "        \n",
    "        # iteramos para validar\n",
    "        for j in range(3): \n",
    "            # dividimos usando la función\n",
    "            Xtrain, Xtest, Ytrain, Ytest = train_test_split(X,Y)\n",
    "            scaler = StandardScaler()\n",
    "            scaler.fit(Xtrain)\n",
    "            Xtrain= scaler.transform(Xtrain)\n",
    "            Xtest = scaler.transform(Xtest)\n",
    "\n",
    "            Yest, distances = KNN_regresion(Xtrain, Ytrain, Xtest, k)\n",
    "            errorTest = MAPE(Yest,Ytest)\n",
    "            error_temp.append(errorTest)\n",
    "    \n",
    "        resultados.loc[idx,'k-vecinos'] = k \n",
    "        resultados.loc[idx,'error de prueba(media)'] = np.mean(error_temp)\n",
    "        resultados.loc[idx,'error de prueba(desviación estandar)'] = np.std(error_temp)\n",
    "        idx+=1\n",
    "\n",
    "    return (resultados)"
   ]
  },
  {
   "cell_type": "code",
   "execution_count": 12,
   "metadata": {
    "colab": {
     "base_uri": "https://localhost:8080/",
     "height": 34
    },
    "executionInfo": {
     "elapsed": 6830,
     "status": "ok",
     "timestamp": 1601637676653,
     "user": {
      "displayName": "DANIEL FELIPE RIVERA ARROYAVE",
      "photoUrl": "https://lh3.googleusercontent.com/a-/AOh14GhKUcXWForDRzN8KQTJax_-Hooo1DeBYp0of1gL_A=s64",
      "userId": "01701263505455054832"
     },
     "user_tz": 300
    },
    "id": "ce0cyutCofFe",
    "outputId": "a4bb2bc4-a7ae-45da-a6af-af1b56f45ff3"
   },
   "outputs": [
    {
     "name": "stdout",
     "output_type": "stream",
     "text": [
      "TEST EXITOSO!\n"
     ]
    }
   ],
   "source": [
    "## la funcion que prueba tu implementacion\n",
    "GRADER.run_test(\"ejercicio3\", experimentar)"
   ]
  },
  {
   "cell_type": "markdown",
   "metadata": {
    "id": "ZgvhQRfWofFg"
   },
   "source": [
    "Ahora ejecuta los experimentos con k = 2,3,4,5,6,7,10"
   ]
  },
  {
   "cell_type": "code",
   "execution_count": 13,
   "metadata": {
    "colab": {
     "base_uri": "https://localhost:8080/",
     "height": 266
    },
    "executionInfo": {
     "elapsed": 7033,
     "status": "ok",
     "timestamp": 1601637676876,
     "user": {
      "displayName": "DANIEL FELIPE RIVERA ARROYAVE",
      "photoUrl": "https://lh3.googleusercontent.com/a-/AOh14GhKUcXWForDRzN8KQTJax_-Hooo1DeBYp0of1gL_A=s64",
      "userId": "01701263505455054832"
     },
     "user_tz": 300
    },
    "id": "H-BTxFYwofFg",
    "outputId": "c0893a13-eaab-4b49-da5a-31e9247c2df5"
   },
   "outputs": [
    {
     "data": {
      "text/html": [
       "<div>\n",
       "<style scoped>\n",
       "    .dataframe tbody tr th:only-of-type {\n",
       "        vertical-align: middle;\n",
       "    }\n",
       "\n",
       "    .dataframe tbody tr th {\n",
       "        vertical-align: top;\n",
       "    }\n",
       "\n",
       "    .dataframe thead th {\n",
       "        text-align: right;\n",
       "    }\n",
       "</style>\n",
       "<table border=\"1\" class=\"dataframe\">\n",
       "  <thead>\n",
       "    <tr style=\"text-align: right;\">\n",
       "      <th></th>\n",
       "      <th>k-vecinos</th>\n",
       "      <th>error de prueba(media)</th>\n",
       "      <th>error de prueba(desviación estandar)</th>\n",
       "    </tr>\n",
       "  </thead>\n",
       "  <tbody>\n",
       "    <tr>\n",
       "      <th>0</th>\n",
       "      <td>2.0</td>\n",
       "      <td>0.131557</td>\n",
       "      <td>0.013047</td>\n",
       "    </tr>\n",
       "    <tr>\n",
       "      <th>1</th>\n",
       "      <td>3.0</td>\n",
       "      <td>0.135688</td>\n",
       "      <td>0.000928</td>\n",
       "    </tr>\n",
       "    <tr>\n",
       "      <th>2</th>\n",
       "      <td>4.0</td>\n",
       "      <td>0.138449</td>\n",
       "      <td>0.002752</td>\n",
       "    </tr>\n",
       "    <tr>\n",
       "      <th>3</th>\n",
       "      <td>5.0</td>\n",
       "      <td>0.135378</td>\n",
       "      <td>0.011910</td>\n",
       "    </tr>\n",
       "    <tr>\n",
       "      <th>4</th>\n",
       "      <td>6.0</td>\n",
       "      <td>0.141112</td>\n",
       "      <td>0.010318</td>\n",
       "    </tr>\n",
       "    <tr>\n",
       "      <th>5</th>\n",
       "      <td>7.0</td>\n",
       "      <td>0.131526</td>\n",
       "      <td>0.012911</td>\n",
       "    </tr>\n",
       "    <tr>\n",
       "      <th>6</th>\n",
       "      <td>10.0</td>\n",
       "      <td>0.142272</td>\n",
       "      <td>0.008123</td>\n",
       "    </tr>\n",
       "  </tbody>\n",
       "</table>\n",
       "</div>"
      ],
      "text/plain": [
       "   k-vecinos  error de prueba(media)  error de prueba(desviación estandar)\n",
       "0        2.0                0.131557                              0.013047\n",
       "1        3.0                0.135688                              0.000928\n",
       "2        4.0                0.138449                              0.002752\n",
       "3        5.0                0.135378                              0.011910\n",
       "4        6.0                0.141112                              0.010318\n",
       "5        7.0                0.131526                              0.012911\n",
       "6       10.0                0.142272                              0.008123"
      ]
     },
     "execution_count": 13,
     "metadata": {},
     "output_type": "execute_result"
    }
   ],
   "source": [
    "resultados = experimentar (x, y,[2,3,4,5,6,7,10])\n",
    "resultados"
   ]
  },
  {
   "cell_type": "markdown",
   "metadata": {
    "id": "bEjPQXT4ofFi"
   },
   "source": [
    "## Ejercicio 4: Ventana de Parzen y experimentos\n",
    "\n",
    "Ahora, igualmente, vamos aplicar ventana de parzen para resolver el problema de regresión.\n",
    "\n",
    "$$f({\\bf{x}}^*) = \\frac{1}{N h^d} \\sum_{i=1}^{N} K(u_i), \\;\\; u_i = \\frac{d({\\bf{x}}^*,{\\bf{x}}_i)}{h}$$\n",
    "\n",
    "En la siguiente celda se define la función para un $K(u_i)$ gaussiano y se realiza la sugerencia para estimar el termino $ \\sum_{i=1}^{N} K(u_i)$, siendo $\\;\\; u_i = \\frac{d({\\bf{x}}^*,{\\bf{x}}_i)}{h}$. \n",
    "\n",
    "Observa y entiende esta última función y sus argumentos. Recordando que para regresión, debemos usar la relación de **Nadaraya_Watson**.\n",
    "\n",
    "$$y^* = \\frac{\\sum_{i=1}^N K(u_i)y_i}{\\sum_{i=1}^N K(u_i)} $$\n",
    "\n"
   ]
  },
  {
   "cell_type": "code",
   "execution_count": 14,
   "metadata": {
    "executionInfo": {
     "elapsed": 7026,
     "status": "ok",
     "timestamp": 1601637676878,
     "user": {
      "displayName": "DANIEL FELIPE RIVERA ARROYAVE",
      "photoUrl": "https://lh3.googleusercontent.com/a-/AOh14GhKUcXWForDRzN8KQTJax_-Hooo1DeBYp0of1gL_A=s64",
      "userId": "01701263505455054832"
     },
     "user_tz": 300
    },
    "id": "EX4aOnYqofFi"
   },
   "outputs": [],
   "source": [
    "def kernel_gaussiano(x):\n",
    "    return (np.exp((-0.5)*x**2))\n",
    "\n",
    "def ParzenWindow(x,Data,h,Datay=None):\n",
    "    \"\"\"\"ventana de parzen\n",
    "    x: vector con representando una sola muestra\n",
    "    Data: vector de muestras de entrenamiento\n",
    "    h: ancho de la ventana de kernel\n",
    "    Datay: vector con los valores de salida (y), Si no se pasa como argumento, \n",
    "        se calcula un ventana de parzen sin multiplicar los valores de este vector.\n",
    "    retorna: el valor de ventana de parzen para una muestra\n",
    "    \"\"\"\n",
    "    h = h\n",
    "    Ns = Data.shape[0]\n",
    "    suma = 0\n",
    "    for k in range(Ns):\n",
    "        u = euclidean(x,Data[k,:])\n",
    "        if Datay is None:\n",
    "            suma += kernel_gaussiano(u/h)\n",
    "        else:\n",
    "            suma += kernel_gaussiano(u/h)*Datay[k]\n",
    "    return suma\n"
   ]
  },
  {
   "cell_type": "markdown",
   "metadata": {
    "id": "3qO9mH5lofFk"
   },
   "source": [
    "Usando las anteriores funciones, completa el código."
   ]
  },
  {
   "cell_type": "code",
   "execution_count": 15,
   "metadata": {
    "executionInfo": {
     "elapsed": 7019,
     "status": "ok",
     "timestamp": 1601637676879,
     "user": {
      "displayName": "DANIEL FELIPE RIVERA ARROYAVE",
      "photoUrl": "https://lh3.googleusercontent.com/a-/AOh14GhKUcXWForDRzN8KQTJax_-Hooo1DeBYp0of1gL_A=s64",
      "userId": "01701263505455054832"
     },
     "user_tz": 300
    },
    "id": "GNiUQcL2ofFk"
   },
   "outputs": [],
   "source": [
    "#Ejercicio de código\n",
    "def Nadaraya_Watson(X_train, Y_train, X_test, h):\n",
    "    \"\"\" Funcion que implementa metodo de ventana de parzen para\n",
    "        para clasificación\n",
    "    X_train: es la matriz con las muestras de entrenamiento\n",
    "    Y_train: es un vector con los valores de salida pra cada una de las muestras de entrenamiento\n",
    "    X_test: es la matriz con las muestras de validación\n",
    "    h (float): ancho de h de la ventana\n",
    "    retorna: - las estimaciones del modelo parzen para el conjunto X_test \n",
    "              esta matriz debe tener un shape de [row/muestras de X_test]\n",
    "             - las probabilidades de la vetana [row/muestras de X_test, numero de clases]  ??\n",
    "    \"\"\"  \n",
    "    Yest = np.zeros(X_test.shape[0])\n",
    "    for i in range(X_test.shape[0]):\n",
    "      y1=ParzenWindow(X_test[i],X_train,h,Y_train)\n",
    "      y2=y1/ParzenWindow(X_test[i],X_train,h)\n",
    "      Yest[i]=y2\n",
    "    #Debe retornar un vector que contenga las predicciones para cada una de las muestras en X_val, en el mismo orden.  \n",
    "    return Yest"
   ]
  },
  {
   "cell_type": "code",
   "execution_count": 16,
   "metadata": {
    "colab": {
     "base_uri": "https://localhost:8080/",
     "height": 34
    },
    "executionInfo": {
     "elapsed": 7020,
     "status": "ok",
     "timestamp": 1601637676886,
     "user": {
      "displayName": "DANIEL FELIPE RIVERA ARROYAVE",
      "photoUrl": "https://lh3.googleusercontent.com/a-/AOh14GhKUcXWForDRzN8KQTJax_-Hooo1DeBYp0of1gL_A=s64",
      "userId": "01701263505455054832"
     },
     "user_tz": 300
    },
    "id": "tA6a1t2EofFn",
    "outputId": "a1fa4eff-200d-4bf6-af5d-3c6c6a335d8c"
   },
   "outputs": [
    {
     "name": "stdout",
     "output_type": "stream",
     "text": [
      "TEST EXITOSO!\n"
     ]
    }
   ],
   "source": [
    "## la funcion que prueba tu implementacion\n",
    "GRADER.run_test(\"ejercicio4\", Nadaraya_Watson)"
   ]
  },
  {
   "cell_type": "markdown",
   "metadata": {
    "id": "cIUuf3KJofFp"
   },
   "source": [
    "## Ejercicio 5: Experimentos con Parzen\n",
    "En el ejercicio de código, se puede observar que usamos nuevamente la funciónes de la libreria **sklearn**:\n",
    "\n",
    "1. [StandardScaler](https://scikit-learn.org/stable/modules/generated/sklearn.preprocessing.StandardScaler.html) para normalizar.\n",
    "2. Y se debe usar la función [KFold](https://scikit-learn.org/stable/modules/generated/sklearn.model_selection.KFold.html?highlight=kfold#sklearn.model_selection.KFold) para realizar la validación. Tener en cuenta la documentación para poder completar el código de manera correcta."
   ]
  },
  {
   "cell_type": "code",
   "execution_count": 17,
   "metadata": {
    "cellView": "form",
    "executionInfo": {
     "elapsed": 7014,
     "status": "ok",
     "timestamp": 1601637676887,
     "user": {
      "displayName": "DANIEL FELIPE RIVERA ARROYAVE",
      "photoUrl": "https://lh3.googleusercontent.com/a-/AOh14GhKUcXWForDRzN8KQTJax_-Hooo1DeBYp0of1gL_A=s64",
      "userId": "01701263505455054832"
     },
     "user_tz": 300
    },
    "id": "2_uSnBaEofFp"
   },
   "outputs": [],
   "source": [
    "#@title Pregunta Abierta\n",
    "#@markdown ¿cual es la metodologia de validación usada en el experimento? ¿qué diferencia tiene respecto a la metodologia usada en el primer experimento?\n",
    "respuesta_3 = \"La metodolog\\xEDa de validaci\\xF3n implementada es validaci\\xF3n cruzada ya que se realizan varias iteraciones para cada 'h' y en cada una de ellas se definen las tuplas de folds con las que se crea y valida el modelo.\" #@param {type:\"string\"}"
   ]
  },
  {
   "cell_type": "code",
   "execution_count": 18,
   "metadata": {
    "executionInfo": {
     "elapsed": 7009,
     "status": "ok",
     "timestamp": 1601637676889,
     "user": {
      "displayName": "DANIEL FELIPE RIVERA ARROYAVE",
      "photoUrl": "https://lh3.googleusercontent.com/a-/AOh14GhKUcXWForDRzN8KQTJax_-Hooo1DeBYp0of1gL_A=s64",
      "userId": "01701263505455054832"
     },
     "user_tz": 300
    },
    "id": "_wbPuUi3ofFr"
   },
   "outputs": [],
   "source": [
    "def experimentarParzen (X, Y, hs):\n",
    "    \"\"\"Función que realiza los experimentos con knn usando\n",
    "       una estrategia de validacion entrenamiento y pruebas\n",
    "    X: matriz de numpy conjunto con muestras y caracteristicas\n",
    "    Y: vector de numpy con los valores de las etiquetas\n",
    "    ks: List[int/float] lista con los valores de k-vecinos a usar\n",
    "    retorna: dataframe con los resultados, debe contener las siguientes columnas:\n",
    "        - el ancho de ventana, \n",
    "        - el error medio de prueba\n",
    "        - la desviacion estandar del error\n",
    "        - número de promedio en el conjunto de prueba/validacion\n",
    "    \"\"\"\n",
    "    # se usa la función para implementar la estrategia de validación.\n",
    "    kfolds = KFold(n_splits=4)\n",
    "    resultados = pd.DataFrame()\n",
    "    idx = 0\n",
    "    # iteramos sobre los valores de hs\n",
    "    for h in hs:\n",
    "        # lista para almacenar los errores y numero de muestras\n",
    "        # de cada iteración\n",
    "        # de la validación\n",
    "        error_temp = []\n",
    "        numero_muestras = []\n",
    "        \n",
    "        for train, test in kfolds.split(X):\n",
    "\n",
    "            Xtrain = X[train,:]\n",
    "            Ytrain = Y[train]\n",
    "            Xtest = X[test,:]\n",
    "            Ytest = Y[test]\n",
    "            #normalizamos los datos\n",
    "            scaler = StandardScaler()\n",
    "            scaler.fit(Xtrain)\n",
    "            Xtrain = scaler.transform(Xtrain)\n",
    "            Xtest = scaler.transform(Xtest)\n",
    "            \n",
    "            Yest = Nadaraya_Watson(Xtrain,Ytrain,Ytest,h)\n",
    "            errorTest = MAPE(Yest,Ytest)\n",
    "            error_temp.append(errorTest)\n",
    "            numero_muestras.append(Xtest.shape[0])\n",
    "    \n",
    "        resultados.loc[idx,'ancho de ventana'] = h \n",
    "        resultados.loc[idx,'error de prueba(media)'] =np.mean(error_temp) \n",
    "        resultados.loc[idx,'error de prueba(desviación estandar)'] =np.std(error_temp)\n",
    "        resultados.loc[idx,'muestras en conjunto de pruebas (media)'] = np.mean(numero_muestras)\n",
    "        idx+=1\n",
    "    return (resultados)"
   ]
  },
  {
   "cell_type": "code",
   "execution_count": 19,
   "metadata": {
    "colab": {
     "base_uri": "https://localhost:8080/",
     "height": 34
    },
    "executionInfo": {
     "elapsed": 7167,
     "status": "ok",
     "timestamp": 1601637677054,
     "user": {
      "displayName": "DANIEL FELIPE RIVERA ARROYAVE",
      "photoUrl": "https://lh3.googleusercontent.com/a-/AOh14GhKUcXWForDRzN8KQTJax_-Hooo1DeBYp0of1gL_A=s64",
      "userId": "01701263505455054832"
     },
     "user_tz": 300
    },
    "id": "xZvm7rCmofFs",
    "outputId": "05b66a3f-e112-418c-968d-e6f191d32ccb"
   },
   "outputs": [
    {
     "name": "stdout",
     "output_type": "stream",
     "text": [
      "TEST EXITOSO!\n"
     ]
    }
   ],
   "source": [
    "## la funcion que prueba tu implementacion\n",
    "GRADER.run_test(\"ejercicio5\", experimentarParzen)"
   ]
  },
  {
   "cell_type": "code",
   "execution_count": 20,
   "metadata": {
    "colab": {
     "base_uri": "https://localhost:8080/",
     "height": 612
    },
    "executionInfo": {
     "elapsed": 39216,
     "status": "ok",
     "timestamp": 1601637709109,
     "user": {
      "displayName": "DANIEL FELIPE RIVERA ARROYAVE",
      "photoUrl": "https://lh3.googleusercontent.com/a-/AOh14GhKUcXWForDRzN8KQTJax_-Hooo1DeBYp0of1gL_A=s64",
      "userId": "01701263505455054832"
     },
     "user_tz": 300
    },
    "id": "sp-8Jg8oofFt",
    "outputId": "8356ff78-d3e1-4a44-e7f8-3e83b5e9577c"
   },
   "outputs": [
    {
     "name": "stderr",
     "output_type": "stream",
     "text": [
      "<ipython-input-15-16cf8e4cf75c>:16: RuntimeWarning: invalid value encountered in double_scalars\n",
      "  y2=y1/ParzenWindow(X_test[i],X_train,h)\n",
      "<ipython-input-15-16cf8e4cf75c>:16: RuntimeWarning: invalid value encountered in double_scalars\n",
      "  y2=y1/ParzenWindow(X_test[i],X_train,h)\n",
      "<ipython-input-15-16cf8e4cf75c>:16: RuntimeWarning: invalid value encountered in double_scalars\n",
      "  y2=y1/ParzenWindow(X_test[i],X_train,h)\n",
      "<ipython-input-15-16cf8e4cf75c>:16: RuntimeWarning: invalid value encountered in double_scalars\n",
      "  y2=y1/ParzenWindow(X_test[i],X_train,h)\n",
      "<ipython-input-15-16cf8e4cf75c>:16: RuntimeWarning: invalid value encountered in double_scalars\n",
      "  y2=y1/ParzenWindow(X_test[i],X_train,h)\n",
      "<ipython-input-15-16cf8e4cf75c>:16: RuntimeWarning: invalid value encountered in double_scalars\n",
      "  y2=y1/ParzenWindow(X_test[i],X_train,h)\n",
      "<ipython-input-15-16cf8e4cf75c>:16: RuntimeWarning: invalid value encountered in double_scalars\n",
      "  y2=y1/ParzenWindow(X_test[i],X_train,h)\n",
      "<ipython-input-15-16cf8e4cf75c>:16: RuntimeWarning: invalid value encountered in double_scalars\n",
      "  y2=y1/ParzenWindow(X_test[i],X_train,h)\n",
      "<ipython-input-15-16cf8e4cf75c>:16: RuntimeWarning: invalid value encountered in double_scalars\n",
      "  y2=y1/ParzenWindow(X_test[i],X_train,h)\n",
      "<ipython-input-15-16cf8e4cf75c>:16: RuntimeWarning: invalid value encountered in double_scalars\n",
      "  y2=y1/ParzenWindow(X_test[i],X_train,h)\n",
      "<ipython-input-15-16cf8e4cf75c>:16: RuntimeWarning: invalid value encountered in double_scalars\n",
      "  y2=y1/ParzenWindow(X_test[i],X_train,h)\n",
      "<ipython-input-15-16cf8e4cf75c>:16: RuntimeWarning: invalid value encountered in double_scalars\n",
      "  y2=y1/ParzenWindow(X_test[i],X_train,h)\n"
     ]
    },
    {
     "data": {
      "text/html": [
       "<div>\n",
       "<style scoped>\n",
       "    .dataframe tbody tr th:only-of-type {\n",
       "        vertical-align: middle;\n",
       "    }\n",
       "\n",
       "    .dataframe tbody tr th {\n",
       "        vertical-align: top;\n",
       "    }\n",
       "\n",
       "    .dataframe thead th {\n",
       "        text-align: right;\n",
       "    }\n",
       "</style>\n",
       "<table border=\"1\" class=\"dataframe\">\n",
       "  <thead>\n",
       "    <tr style=\"text-align: right;\">\n",
       "      <th></th>\n",
       "      <th>ancho de ventana</th>\n",
       "      <th>error de prueba(media)</th>\n",
       "      <th>error de prueba(desviación estandar)</th>\n",
       "      <th>muestras en conjunto de pruebas (media)</th>\n",
       "    </tr>\n",
       "  </thead>\n",
       "  <tbody>\n",
       "    <tr>\n",
       "      <th>0</th>\n",
       "      <td>1.0</td>\n",
       "      <td>NaN</td>\n",
       "      <td>NaN</td>\n",
       "      <td>126.5</td>\n",
       "    </tr>\n",
       "    <tr>\n",
       "      <th>1</th>\n",
       "      <td>1.5</td>\n",
       "      <td>NaN</td>\n",
       "      <td>NaN</td>\n",
       "      <td>126.5</td>\n",
       "    </tr>\n",
       "    <tr>\n",
       "      <th>2</th>\n",
       "      <td>2.5</td>\n",
       "      <td>NaN</td>\n",
       "      <td>NaN</td>\n",
       "      <td>126.5</td>\n",
       "    </tr>\n",
       "    <tr>\n",
       "      <th>3</th>\n",
       "      <td>5.0</td>\n",
       "      <td>0.520233</td>\n",
       "      <td>0.087099</td>\n",
       "      <td>126.5</td>\n",
       "    </tr>\n",
       "    <tr>\n",
       "      <th>4</th>\n",
       "      <td>10.0</td>\n",
       "      <td>0.447789</td>\n",
       "      <td>0.245803</td>\n",
       "      <td>126.5</td>\n",
       "    </tr>\n",
       "  </tbody>\n",
       "</table>\n",
       "</div>"
      ],
      "text/plain": [
       "   ancho de ventana  error de prueba(media)  \\\n",
       "0               1.0                     NaN   \n",
       "1               1.5                     NaN   \n",
       "2               2.5                     NaN   \n",
       "3               5.0                0.520233   \n",
       "4              10.0                0.447789   \n",
       "\n",
       "   error de prueba(desviación estandar)  \\\n",
       "0                                   NaN   \n",
       "1                                   NaN   \n",
       "2                                   NaN   \n",
       "3                              0.087099   \n",
       "4                              0.245803   \n",
       "\n",
       "   muestras en conjunto de pruebas (media)  \n",
       "0                                    126.5  \n",
       "1                                    126.5  \n",
       "2                                    126.5  \n",
       "3                                    126.5  \n",
       "4                                    126.5  "
      ]
     },
     "execution_count": 20,
     "metadata": {},
     "output_type": "execute_result"
    }
   ],
   "source": [
    "# ejecute para ver los experimentos\n",
    "hs = [1,1.5 ,2.5, 5, 10]\n",
    "experimentos_parzen = experimentarParzen(x,y, hs)\n",
    "experimentos_parzen"
   ]
  },
  {
   "cell_type": "code",
   "execution_count": 21,
   "metadata": {
    "cellView": "form",
    "executionInfo": {
     "elapsed": 39213,
     "status": "ok",
     "timestamp": 1601637709113,
     "user": {
      "displayName": "DANIEL FELIPE RIVERA ARROYAVE",
      "photoUrl": "https://lh3.googleusercontent.com/a-/AOh14GhKUcXWForDRzN8KQTJax_-Hooo1DeBYp0of1gL_A=s64",
      "userId": "01701263505455054832"
     },
     "user_tz": 300
    },
    "id": "E-Fs-0FAofFv"
   },
   "outputs": [],
   "source": [
    "#@title Pregunta Abierta\n",
    "#@markdown ¿es normal que el la media de muestra en el cojunto de pruebas siempre es la misma? justifique\n",
    "respuesta_4 = \"S\\xED, porque para este caso la cantidad de filas de nuestro conjunto es multiplo de la cantidad de folds utilizada por lo que en cada iteraci\\xF3n de la validaci\\xF3n cruzada el fold utilizado para el conjunto de prueba tiene las mismas dimensiones\" #@param {type:\"string\"}"
   ]
  },
  {
   "cell_type": "code",
   "execution_count": 22,
   "metadata": {
    "cellView": "form",
    "executionInfo": {
     "elapsed": 39207,
     "status": "ok",
     "timestamp": 1601637709114,
     "user": {
      "displayName": "DANIEL FELIPE RIVERA ARROYAVE",
      "photoUrl": "https://lh3.googleusercontent.com/a-/AOh14GhKUcXWForDRzN8KQTJax_-Hooo1DeBYp0of1gL_A=s64",
      "userId": "01701263505455054832"
     },
     "user_tz": 300
    },
    "id": "9IxHJrBbofFw"
   },
   "outputs": [],
   "source": [
    "#@title Pregunta Abierta\n",
    "#@markdown ¿que metodo podria usarse para estimar el valor de h?\n",
    "respuesta_5 = \"Se puede estimar mediante una combinaci\\xF3n de fuerza bruta y la funci\\xF3n \\\"experimentar experimentarParzen() donde se prueben varios anchos de ventana y se escoja el que mejores resultado\" #@param {type:\"string\"}"
   ]
  },
  {
   "cell_type": "code",
   "execution_count": 23,
   "metadata": {
    "colab": {
     "base_uri": "https://localhost:8080/",
     "height": 34
    },
    "executionInfo": {
     "elapsed": 39202,
     "status": "ok",
     "timestamp": 1601637709115,
     "user": {
      "displayName": "DANIEL FELIPE RIVERA ARROYAVE",
      "photoUrl": "https://lh3.googleusercontent.com/a-/AOh14GhKUcXWForDRzN8KQTJax_-Hooo1DeBYp0of1gL_A=s64",
      "userId": "01701263505455054832"
     },
     "user_tz": 300
    },
    "id": "rRvFgdGuofFx",
    "outputId": "db2f4202-b1c0-4448-dbf5-2aa6a82e7ec3"
   },
   "outputs": [
    {
     "name": "stdout",
     "output_type": "stream",
     "text": [
      "Todo se ve ok. Asegurate de responder las preguntas abiertas y envia e archivo al formulario ¡buen trabajo!\n"
     ]
    }
   ],
   "source": [
    "GRADER.check_tests()"
   ]
  },
  {
   "cell_type": "code",
   "execution_count": 24,
   "metadata": {
    "cellView": "form",
    "executionInfo": {
     "elapsed": 39196,
     "status": "ok",
     "timestamp": 1601637709116,
     "user": {
      "displayName": "DANIEL FELIPE RIVERA ARROYAVE",
      "photoUrl": "https://lh3.googleusercontent.com/a-/AOh14GhKUcXWForDRzN8KQTJax_-Hooo1DeBYp0of1gL_A=s64",
      "userId": "01701263505455054832"
     },
     "user_tz": 300
    },
    "id": "nhpgdXfXofFz"
   },
   "outputs": [],
   "source": [
    "#@title Integrantes\n",
    "codigo_integrante_1 ='1552219543' #@param {type:\"string\"}\n",
    "codigo_integrante_2 = 'Cancelo'  #@param {type:\"string\"}"
   ]
  },
  {
   "cell_type": "markdown",
   "metadata": {
    "id": "28SF6j5UofF1"
   },
   "source": [
    "----\n",
    "esta linea de codigo va fallar, es de uso exclusivo del los profesores\n"
   ]
  },
  {
   "cell_type": "code",
   "execution_count": 25,
   "metadata": {
    "colab": {
     "base_uri": "https://localhost:8080/",
     "height": 34
    },
    "executionInfo": {
     "elapsed": 39190,
     "status": "ok",
     "timestamp": 1601637709117,
     "user": {
      "displayName": "DANIEL FELIPE RIVERA ARROYAVE",
      "photoUrl": "https://lh3.googleusercontent.com/a-/AOh14GhKUcXWForDRzN8KQTJax_-Hooo1DeBYp0of1gL_A=s64",
      "userId": "01701263505455054832"
     },
     "user_tz": 300
    },
    "id": "nX4Xv45lofF1",
    "outputId": "948e1e60-a80e-407a-f4e0-4f5035bdca28"
   },
   "outputs": [
    {
     "name": "stdout",
     "output_type": "stream",
     "text": [
      "uso del docente\n"
     ]
    }
   ],
   "source": [
    "GRADER.grade()"
   ]
  }
 ],
 "metadata": {
  "colab": {
   "name": "Copy of lab2_parte2.ipynb",
   "provenance": [
    {
     "file_id": "https://github.com/jdariasl/ML_2020/blob/master/Labs/lab2/lab2_parte2.ipynb",
     "timestamp": 1601440122602
    }
   ]
  },
  "kernelspec": {
   "display_name": "Python 3",
   "language": "python",
   "name": "python3"
  },
  "language_info": {
   "codemirror_mode": {
    "name": "ipython",
    "version": 3
   },
   "file_extension": ".py",
   "mimetype": "text/x-python",
   "name": "python",
   "nbconvert_exporter": "python",
   "pygments_lexer": "ipython3",
   "version": "3.8.3"
  }
 },
 "nbformat": 4,
 "nbformat_minor": 1
}
