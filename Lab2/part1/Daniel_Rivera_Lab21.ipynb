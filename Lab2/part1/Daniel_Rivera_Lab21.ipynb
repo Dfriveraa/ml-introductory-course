{
 "cells": [
  {
   "cell_type": "markdown",
   "metadata": {
    "id": "E6d18EXXlmH4"
   },
   "source": [
    "<a href=\"https://colab.research.google.com/github/jdariasl/ML_2020/blob/master/Labs/lab2/lab2_parte1.ipynb\">\n",
    "    <img src=\"https://colab.research.google.com/assets/colab-badge.svg\" alt=\"Open In Colab\"/></a>\n",
    "\n",
    "**Recuerda que una vez abierto, Da clic en \"Copiar en Drive\", de lo contrario no podras alamancenar tu progreso**\n",
    "\n",
    "Nota: no olvide ir ejecutando las celdas de código de arriba hacia abajo para que no tenga errores de importación de librerías o por falta de definición de variables."
   ]
  },
  {
   "cell_type": "code",
   "execution_count": 1,
   "metadata": {
    "colab": {
     "base_uri": "https://localhost:8080/",
     "height": 292
    },
    "id": "YpzuvE42lmH5",
    "outputId": "4780e716-26ff-4a2f-e276-5164f8c7140f",
    "tags": []
   },
   "outputs": [
    {
     "name": "stdout",
     "output_type": "stream",
     "text": [
      "--2020-10-19 07:08:19--  https://raw.githubusercontent.com/jdariasl/ML_2020/master/Labs/commons/utils/general.py\n",
      "Resolving raw.githubusercontent.com (raw.githubusercontent.com)... 199.232.48.133\n",
      "Connecting to raw.githubusercontent.com (raw.githubusercontent.com)|199.232.48.133|:443... connected.\n",
      "HTTP request sent, awaiting response... 200 OK\n",
      "Length: 13949 (14K) [text/plain]\n",
      "Saving to: ‘general.py’\n",
      "\n",
      "general.py          100%[===================>]  13.62K  --.-KB/s    in 0.03s   \n",
      "\n",
      "2020-10-19 07:08:20 (519 KB/s) - ‘general.py’ saved [13949/13949]\n",
      "\n",
      "lab configuration started\n",
      "installing libraries\n",
      "downloading files\n",
      "lab configured\n"
     ]
    }
   ],
   "source": [
    "#configuración del laboratorio\n",
    "# Ejecuta esta celda!\n",
    "%load_ext autoreload\n",
    "%autoreload 2\n",
    "# for local \n",
    "#import sys ; sys.path.append('../commons/utils/')\n",
    "!wget https://raw.githubusercontent.com/jdariasl/ML_2020/master/Labs/commons/utils/general.py -O general.py\n",
    "from general import configure_lab2\n",
    "configure_lab2()\n",
    "from lab2 import *\n",
    "GRADER, x, y = part_1()"
   ]
  },
  {
   "cell_type": "markdown",
   "metadata": {
    "id": "_cePBYijlmH8"
   },
   "source": [
    "# Laboratorio 2 - Parte 1"
   ]
  },
  {
   "cell_type": "markdown",
   "metadata": {
    "id": "jPlJQSbWlmH8"
   },
   "source": [
    "## Ejercicio 1: Contextualización del problema\n",
    "\n",
    "\n",
    "Usaremos el dataset iris para el problema de clasificación. En el UCI Machine Learning Repository se encuentra más información en el siguiente [link](https://archive.ics.uci.edu/ml/datasets/iris) ."
   ]
  },
  {
   "cell_type": "code",
   "execution_count": 2,
   "metadata": {
    "colab": {
     "base_uri": "https://localhost:8080/",
     "height": 187
    },
    "id": "NLajNANXlmH9",
    "outputId": "0e0385e0-bc80-4838-8012-e372f842447e",
    "tags": []
   },
   "outputs": [
    {
     "name": "stdout",
     "output_type": "stream",
     "text": [
      "muestra de los 5 primeros renglones de x:\n",
      " [[5.1 3.5 1.4 0.2]\n",
      " [4.9 3.  1.4 0.2]\n",
      " [4.7 3.2 1.3 0.2]\n",
      " [4.6 3.1 1.5 0.2]\n",
      " [5.  3.6 1.4 0.2]]\n",
      "muestra de los 5 primeros renglones de y:\n",
      " [0 0 0 0 0]\n",
      "¿el resultado de esta instrucción que información nos brinda? 150\n",
      "¿el resultado de esta instrucción que información nos brinda? 4\n"
     ]
    }
   ],
   "source": [
    "print(\"muestra de los 5 primeros renglones de x:\\n\", x[0:5, :])\n",
    "print(\"muestra de los 5 primeros renglones de y:\\n\", y[0:5])\n",
    "print (\"¿el resultado de esta instrucción que información nos brinda?\", x.shape[0])\n",
    "print (\"¿el resultado de esta instrucción que información nos brinda?\", x.shape[1])"
   ]
  },
  {
   "cell_type": "markdown",
   "metadata": {
    "id": "UjxCQdFSlmIA"
   },
   "source": [
    "En un problema de clasificación de más de una clase, tener un desbalance de muestras puede ser perjudicial para el proceso de entrenamiento. Vamos a crear una función para verificar el numero de muestras por clases."
   ]
  },
  {
   "cell_type": "code",
   "execution_count": 3,
   "metadata": {
    "id": "C_H1V6UilmIA"
   },
   "outputs": [],
   "source": [
    "#Ejercicio de código\n",
    "def muestras_por_clases (Y):\n",
    "    \"\"\"Funcion que calcula el numero de muestras por cada clase\n",
    "    Y: vector de numpy con las etiquetas de las muestras del conjunto X\n",
    "    retorna: diccionario [int/float:int/float] \n",
    "        con la estructura:{etiquetaclase1: numero de muestras clase1, etiquetaclase2: numero de muestras clase2}\n",
    "    \"\"\"\n",
    "    unique, counts = numpy.unique(Y, return_counts=True)\n",
    "    dicto = dict(zip(unique, counts))\n",
    "    ## Pista se puede asginar keys a diccionario: dict[etiqueta] = valor\n",
    "    # for label in labels:\n",
    "    \n",
    "    return (dicto)\n",
    "\n"
   ]
  },
  {
   "cell_type": "code",
   "execution_count": 4,
   "metadata": {
    "colab": {
     "base_uri": "https://localhost:8080/",
     "height": 34
    },
    "id": "ResDJsKflmIC",
    "outputId": "8562a53a-f225-4964-94de-ff20950c9b63",
    "tags": []
   },
   "outputs": [
    {
     "name": "stdout",
     "output_type": "stream",
     "text": [
      "TEST EXITOSO!\n"
     ]
    }
   ],
   "source": [
    "## la funcion que prueba tu implementacion\n",
    "GRADER.run_test(\"ejercicio1\", muestras_por_clases)"
   ]
  },
  {
   "cell_type": "code",
   "execution_count": 5,
   "metadata": {
    "colab": {
     "base_uri": "https://localhost:8080/",
     "height": 34
    },
    "id": "qTnlYPadJ80v",
    "outputId": "1cb60da9-cdc7-4209-f066-5f2f8228e5d4"
   },
   "outputs": [
    {
     "data": {
      "text/plain": [
       "{0: 50, 1: 50, 2: 50}"
      ]
     },
     "execution_count": 5,
     "metadata": {},
     "output_type": "execute_result"
    }
   ],
   "source": [
    "muestras_por_clases(y)"
   ]
  },
  {
   "cell_type": "code",
   "execution_count": 6,
   "metadata": {
    "colab": {
     "base_uri": "https://localhost:8080/",
     "height": 295
    },
    "id": "BxYN119rlmIE",
    "outputId": "ee43a89e-6aed-418c-d63c-b98fab09385a"
   },
   "outputs": [
    {
     "data": {
      "image/png": "[encoded data removed]",
      "text/plain": [
       "<Figure size 432x288 with 1 Axes>"
      ]
     },
     "metadata": {
      "needs_background": "light"
     },
     "output_type": "display_data"
    }
   ],
   "source": [
    "# con esta linea de codigo puedes ver la dsitribucion de forma grafica\n",
    "fig, ax = plt.subplots()\n",
    "ax.bar(muestras_por_clases(y).keys(), muestras_por_clases(y).values())\n",
    "ax.set_title(\"numero de muestras por clase\")\n",
    "ax.set_xlabel(\"etiqueta de clase\")\n",
    "ax.set_ylabel(\"# muestras por clase\")\n",
    "ax.set_xticks(list(muestras_por_clases(y).keys()))\n",
    "plt.show()\n"
   ]
  },
  {
   "cell_type": "code",
   "execution_count": 7,
   "metadata": {
    "cellView": "form",
    "id": "HdXA-uQTlmIH"
   },
   "outputs": [],
   "source": [
    "#@title Pregunta Abierta\n",
    "#@markdown  ¿dependiendo de los resultados de la informacion anterior, cuantas caracteristicas tiene el problema, muestras y como calficaria la distribución de clases?\n",
    "respuesta_1 = \"150 muestras, estan distribuidas de una forma equitativa.\" #@param {type:\"string\"}"
   ]
  },
  {
   "cell_type": "markdown",
   "metadata": {
    "id": "Z-SvlavllmIJ"
   },
   "source": [
    "## Ejercicio 2: Completar código KNN\n",
    "\n",
    "Recuerde los conceptos vistos en teoria para los modelos basados en los K-vecimos mas cercanos. En este ejercicio vamos a escribir la función que implementa este modelo. Pero primero se sugiere esta implementación que calcula el error de clasificación.\n"
   ]
  },
  {
   "cell_type": "code",
   "execution_count": 8,
   "metadata": {
    "id": "oPkzTnejlmIJ"
   },
   "outputs": [],
   "source": [
    "def ErrorClas(Y_lest, Y):\n",
    "    \"\"\"funcion que calcula el error de clasificación\n",
    "    Y_lest: numpy array con la estimaciones de etiqueta\n",
    "    Y: etiquetas reales\n",
    "    retorna: error de clasificación (int)\n",
    "    \"\"\"\n",
    "    error = 1 - np.sum(Y_lest == Y)/len(Y)\n",
    "    \n",
    "    return error\n"
   ]
  },
  {
   "cell_type": "markdown",
   "metadata": {
    "id": "Ug9-Q6gYlmIM"
   },
   "source": [
    "Ahora si es hora del ejercicio. Ten en cuenta lo siguiente:\n",
    "\n",
    "<b>Pistas</b>\n",
    "\n",
    "1. Para el cáculo de la distancia entre vectores existen varias opciones:\n",
    "    1. usar la función la distancia entre matrices `scipy.spatial.distance.cdist`([Ejemplo](https://docs.scipy.org/doc/scipy/reference/generated/scipy.spatial.distance.cdist.html#scipy.spatial.distance.cdist))--esta puede ser usada directamente como `cdist(...)`. Entiende la salida de esta función. Al usarla, se logra un rendimiento superior.\n",
    "    2. usar la función la distancia euclidiana `scipy.spatial.distance.euclidean`([Ejemplo](https://docs.scipy.org/doc/scipy/reference/generated/scipy.spatial.distance.euclidean.html))--pueder acceder a ella directamente como `euclidean`. Aca debe pensar en un algoritmo elemento a elemento, por lo tanto menos eficiente.\n",
    "2. También serán de utilidad las funciones `np.sort` y `np.argsort`.\n",
    "3. ten presente que la moda es una operación que calcula el valor más común. En el [notebook ya se encuentra cargada esta operacion](https://docs.scipy.org/doc/scipy/reference/generated/scipy.stats.mode.html), es posible usarla de esta manera : `mode(y)`"
   ]
  },
  {
   "cell_type": "code",
   "execution_count": 9,
   "metadata": {
    "id": "-5h9vhE2lmIO"
   },
   "outputs": [],
   "source": [
    "#ejercicio de codigo\n",
    "def KNN_Clasificacion(X_train, Y_train, X_test, k):\n",
    "    import scipy as sc\n",
    "    \"\"\" Funcion que implementa el modelo de K-Vecino mas cercanos\n",
    "        para clasificación\n",
    "    X_train: es la matriz con las muestras de entrenamiento\n",
    "    Y_train: es un vector con los valores de salida pra cada una de las muestras de entrenamiento\n",
    "    X_test: es la matriz con las muestras de validación\n",
    "    k (int): valor de vecinos a usar\n",
    "    retorna: las estimaciones del modelo KNN para el conjunto X_test \n",
    "             esta matriz debe tener un shape de [row/muestras de X_test] \n",
    "             y las distancias de X_test respecto a X_train, estan matrix\n",
    "             debe tener un shape de [rows de X_test, rows X_train]\n",
    "             lo que es lo mismo [muestras de X_test, muestras de X_train]\n",
    "    \"\"\"\n",
    "    if k > X_train.shape[0]:\n",
    "        print(\"k no puede ser menor que las muestras de entrenamiento\")\n",
    "        return(None)\n",
    "      \n",
    "    distancias = cdist(X_test, X_train)\n",
    "    Yest = np.zeros(X_test.shape[0])\n",
    "\n",
    "    for i in range(X_test.shape[0]):\n",
    "            vecinos_index= np.argsort(distancias[i])[:k]\n",
    "            vecinos_clase = np.take(Y_train, vecinos_index) \n",
    "            Yest[i]=mode(vecinos_clase)[0]\n",
    "            \n",
    "    return (Yest, distancias) \n",
    "  "
   ]
  },
  {
   "cell_type": "code",
   "execution_count": 10,
   "metadata": {
    "colab": {
     "base_uri": "https://localhost:8080/",
     "height": 272
    },
    "id": "k_9TyR5RlmIR",
    "outputId": "09f8d1bd-0df6-4197-e435-72794479db87"
   },
   "outputs": [
    {
     "name": "stdout",
     "output_type": "stream",
     "text": [
      "TEST EXITOSO!\n"
     ]
    }
   ],
   "source": [
    "## la funcion que prueba tu implementacion\n",
    "GRADER.run_test(\"ejercicio2\", KNN_Clasificacion)"
   ]
  },
  {
   "cell_type": "markdown",
   "metadata": {
    "id": "uf14uGTjlmIT"
   },
   "source": [
    "## Ejercicio 3: Experimentos de KNN\n",
    "\n",
    "Ahora vamos a probar nuestro algoritmo. Pero antes de esto vamos a tener que dividir nuestro conjunto de datos, vamos a usar una función llamada train_test_split de la libreria sklearn. [Aca puedes ver la ayuda](https://scikit-learn.org/stable/modules/generated/sklearn.model_selection.train_test_split.html). Entiende su funcionamiento. Vamos a usarla para crear una función con una propoción fija  de 70%-30% entre nuestro conjunto de entrenamiento y de pruebas.\n"
   ]
  },
  {
   "cell_type": "code",
   "execution_count": 11,
   "metadata": {
    "id": "aohW53I3lmIU"
   },
   "outputs": [],
   "source": [
    "#ejercicio de codigo\n",
    "def train_test_split_fix(X,Y):\n",
    "    \"\"\"funcion que divide el conjunto de datos en\n",
    "        entrenamiento y pruebas\n",
    "        usando un proporcion fija de 30 %\n",
    "        para el conjunto de pruebas.\n",
    "\n",
    "    X: matriz de numpy con las muestras y caractersiticas\n",
    "    Y: matriz de numpy con las las etiquetas reales\n",
    "    retorna:\n",
    "        Xtrain: conjunto de datos para entrenamiento\n",
    "        Xtest: conjunto de datos para pruebas\n",
    "        Ytrain: conjunto  de etiquetas para entrenamiento\n",
    "        Ytest: conjunto de etiquetas para prueba \n",
    "    \"\"\"\n",
    "    Xtrain, Xtest, Ytrain, Ytest = train_test_split(X, Y, test_size = 0.3)\n",
    "\n",
    "    return (Xtrain, Xtest, Ytrain, Ytest)\n"
   ]
  },
  {
   "cell_type": "code",
   "execution_count": 12,
   "metadata": {
    "id": "V9ysrjCjlmIV",
    "outputId": "8e3ff028-04d5-4b08-df55-fc5f66d53e69"
   },
   "outputs": [
    {
     "name": "stdout",
     "output_type": "stream",
     "text": [
      "TEST EXITOSO!\n"
     ]
    }
   ],
   "source": [
    "## la funcion que prueba tu implementacion\n",
    "GRADER.run_test(\"ejercicio3\", train_test_split_fix)"
   ]
  },
  {
   "cell_type": "markdown",
   "metadata": {
    "id": "O0GoV9iZlmIX"
   },
   "source": [
    "Vamos a proceder a experimentar. Para ello vamos a crear una función que realiza los experimentos usando las funciones previamente construidas. En el código se hace uso de la función [StandardScaler](https://scikit-learn.org/stable/modules/generated/sklearn.preprocessing.StandardScaler.html), para normalizar los datos."
   ]
  },
  {
   "cell_type": "code",
   "execution_count": 13,
   "metadata": {
    "id": "790OsCdmlmIX"
   },
   "outputs": [],
   "source": [
    "#Ejercicio de código\n",
    "def experimentar (X, Y, ks):\n",
    "    \"\"\"Función que realiza los experimentos con knn usando\n",
    "       una estrategia de validacion entrenamiento y pruebas\n",
    "    X: matriz de numpy conjunto con muestras y caracteristicas\n",
    "    Y: vector de numpy con los valores de las etiquetas\n",
    "    ks: List[int/float] lista con los valores de k-vecinos a usar\n",
    "    retorna: dataframe con los resultados\n",
    "    \"\"\"\n",
    "\n",
    "    # dividimos usando la función\n",
    "    Xtrain, Xtest, Ytrain, Ytest = train_test_split_fix(X,Y)\n",
    "\n",
    "    scaler = StandardScaler()\n",
    "    scaler.fit(Xtrain)\n",
    "    Xtrain= scaler.transform(Xtrain)\n",
    "    Xtest = scaler.transform(Xtest)\n",
    "\n",
    "    resultados = pd.DataFrame()\n",
    "    idx = 0\n",
    "    for k in ks:\n",
    "        # iteramos sobre la lista de k's\n",
    "        resultados.loc[idx,'k-vecinos'] = k\n",
    "        Yest, dist = KNN_Clasificacion(Xtrain, Ytrain, Xtest, k)\n",
    "        errorTest = ErrorClas(Yest, Ytest)\n",
    "        resultados.loc[idx,'error de prueba'] = errorTest\n",
    "        idx+=1\n",
    "\n",
    "    return (resultados)"
   ]
  },
  {
   "cell_type": "code",
   "execution_count": 14,
   "metadata": {
    "cellView": "form",
    "id": "vVfhToZYlmIZ"
   },
   "outputs": [],
   "source": [
    "#@title Pregunta Abierta\n",
    "#@markdown  como se observo en nuestro experimentos usamos una metodologia basica de dividir el conjunto de entrenamiento y pruebas. ¿Cual es la diferencia si quisieramos aplicar una metodologia de validación cruzada?\n",
    "respuesta_2 = \"Si quisieramos aplicar validación cruzada es necesario dividir el conjunto de datos en K-1 subconjuntos de datos al azar llamados folds y el restante se usa para validar,este proceso de realiza k veces y retorna la media de los resultados como resultado final.\" #@param {type:\"string\"}"
   ]
  },
  {
   "cell_type": "code",
   "execution_count": 15,
   "metadata": {
    "id": "uqlarUy7lmIb",
    "outputId": "3ee8ec86-59e9-4295-a65e-7486b80434ab"
   },
   "outputs": [
    {
     "name": "stdout",
     "output_type": "stream",
     "text": [
      "TEST EXITOSO!\n"
     ]
    }
   ],
   "source": [
    "## la funcion que prueba tu implementacion\n",
    "GRADER.run_test(\"ejercicio4\", experimentar)"
   ]
  },
  {
   "cell_type": "markdown",
   "metadata": {
    "id": "89jKEygplmId"
   },
   "source": [
    "Ahora ejecuta los experimentos con k = 2,3,4,5,6,7,10"
   ]
  },
  {
   "cell_type": "code",
   "execution_count": 16,
   "metadata": {
    "id": "GUJwi9dilmId",
    "outputId": "527e84a4-8b89-4ca7-b146-7ac95336e161"
   },
   "outputs": [
    {
     "data": {
      "text/html": [
       "<div>\n",
       "<style scoped>\n",
       "    .dataframe tbody tr th:only-of-type {\n",
       "        vertical-align: middle;\n",
       "    }\n",
       "\n",
       "    .dataframe tbody tr th {\n",
       "        vertical-align: top;\n",
       "    }\n",
       "\n",
       "    .dataframe thead th {\n",
       "        text-align: right;\n",
       "    }\n",
       "</style>\n",
       "<table border=\"1\" class=\"dataframe\">\n",
       "  <thead>\n",
       "    <tr style=\"text-align: right;\">\n",
       "      <th></th>\n",
       "      <th>k-vecinos</th>\n",
       "      <th>error de prueba</th>\n",
       "    </tr>\n",
       "  </thead>\n",
       "  <tbody>\n",
       "    <tr>\n",
       "      <th>0</th>\n",
       "      <td>2.0</td>\n",
       "      <td>0.111111</td>\n",
       "    </tr>\n",
       "    <tr>\n",
       "      <th>1</th>\n",
       "      <td>3.0</td>\n",
       "      <td>0.066667</td>\n",
       "    </tr>\n",
       "    <tr>\n",
       "      <th>2</th>\n",
       "      <td>4.0</td>\n",
       "      <td>0.088889</td>\n",
       "    </tr>\n",
       "    <tr>\n",
       "      <th>3</th>\n",
       "      <td>5.0</td>\n",
       "      <td>0.088889</td>\n",
       "    </tr>\n",
       "    <tr>\n",
       "      <th>4</th>\n",
       "      <td>6.0</td>\n",
       "      <td>0.066667</td>\n",
       "    </tr>\n",
       "    <tr>\n",
       "      <th>5</th>\n",
       "      <td>7.0</td>\n",
       "      <td>0.066667</td>\n",
       "    </tr>\n",
       "    <tr>\n",
       "      <th>6</th>\n",
       "      <td>10.0</td>\n",
       "      <td>0.111111</td>\n",
       "    </tr>\n",
       "  </tbody>\n",
       "</table>\n",
       "</div>"
      ],
      "text/plain": [
       "   k-vecinos  error de prueba\n",
       "0        2.0         0.111111\n",
       "1        3.0         0.066667\n",
       "2        4.0         0.088889\n",
       "3        5.0         0.088889\n",
       "4        6.0         0.066667\n",
       "5        7.0         0.066667\n",
       "6       10.0         0.111111"
      ]
     },
     "execution_count": 16,
     "metadata": {},
     "output_type": "execute_result"
    }
   ],
   "source": [
    "resultados = experimentar (x, y,[2,3,4,5,6,7,10])\n",
    "resultados"
   ]
  },
  {
   "cell_type": "markdown",
   "metadata": {
    "id": "RjYA5v8UlmIf"
   },
   "source": [
    "## Ejercicio 4: ventana de Parzen\n",
    "\n",
    "Ahora vamos a utilizar el metodo de ventana de parzen. Recuerde de las clases teoricas, quedemos usar una función kernel. En la siguiente celda se proponen dos funciones para:\n",
    "1. calculo de un kernel gausiano\n",
    "2. calculo de la ventana de parzen, es decir el termino: $ \\sum_{i=1}^{N} K(u_i)$, siendo $\\;\\; u_i = \\frac{d({\\bf{x}}^*,{\\bf{x}}_i)}{h}$ y la función $K$ el kernel gausiano"
   ]
  },
  {
   "cell_type": "code",
   "execution_count": 17,
   "metadata": {
    "id": "REi5LxoilmIg"
   },
   "outputs": [],
   "source": [
    "def kernel_gaussiano(x):\n",
    "    \"\"\"Calcula el kernel gaussiano de x\n",
    "    x: matriz/vector de numpy\n",
    "    retorna: el valor de de kernel gaussiano\n",
    "    \"\"\"\n",
    "    return np.exp((-0.5)*x**2)\n",
    "\n",
    "def ParzenWindow(x,Data,h):\n",
    "    \"\"\"\"ventana de parzen\n",
    "    x: vector con representando una sola muestra\n",
    "    Data: vector de muestras de entrenamiento\n",
    "    h: ancho de la ventana de kernel\n",
    "    retorna: el valor de ventana de parzen para una muestra\n",
    "    \"\"\"\n",
    "    h = h\n",
    "    Ns = Data.shape[0]\n",
    "    suma = 0\n",
    "    for k in range(Ns):\n",
    "        u = euclidean(x,Data[k,:])\n",
    "        suma += kernel_gaussiano(u/h)\n",
    "    return suma\n"
   ]
  },
  {
   "cell_type": "markdown",
   "metadata": {
    "id": "MAlolkzzlmIh"
   },
   "source": [
    "Entiendalos la implementación de las anteriores funciones y uselas para resolver el ejercicio de código."
   ]
  },
  {
   "cell_type": "code",
   "execution_count": 18,
   "metadata": {
    "id": "K-8GS3A8lmIh"
   },
   "outputs": [],
   "source": [
    "#Ejercicio de código\n",
    "def parzenClass(X_train, Y_train, X_test, h):\n",
    "    \"\"\" Funcion que implementa metodo de ventana de parzen para\n",
    "        para clasificación\n",
    "    X_train: es la matriz con las muestras de entrenamiento\n",
    "    Y_train: es un vector con los valores de salida pra cada una de las muestras de entrenamiento\n",
    "    X_test: es la matriz con las muestras de validación\n",
    "    h (float): ancho de h de la ventana\n",
    "    retorna: - las estimaciones del modelo parzen para el conjunto X_test \n",
    "              esta matriz debe tener un shape de [row/muestras de X_test]\n",
    "             - las probabilidades de la vetana [row/muestras de X_test, numero de clases]  \n",
    "    \"\"\"\n",
    "        \n",
    "    Yest = np.zeros(X_test.shape[0])\n",
    "    clases = np.unique(Y_train)\n",
    "    fds_matrix = np.zeros((X_test.shape[0], len(clases)))\n",
    "    \n",
    "    ##Solo Dios sabe como funciona este código\n",
    "    ## pista: recuerde el termino que acompaña al sumatoria (N)\n",
    "    index = 0\n",
    "    for n, sample in enumerate (X_test):\n",
    "      max_prob = 0\n",
    "      est_label = None\n",
    "      j = 0\n",
    "      for label in clases:\n",
    "        indixes = np.argwhere(Y_train == label)\n",
    "        train_elements = np.take(X_train, indixes.T[0], axis = 0)\n",
    "        dim = train_elements.shape\n",
    "        prob = ParzenWindow(sample,train_elements,h)/dim[0]\n",
    "        fds_matrix[index][j] = prob\n",
    "        if prob > max_prob:\n",
    "          max_prob = prob\n",
    "          est_label = label\n",
    "        j += 1\n",
    "      Yest[index] = est_label\n",
    "      index +=1\n",
    "    \n",
    "    \n",
    "\n",
    "    #Debe retornar un vector que contenga las predicciones para cada una de las muestras en X_val, en el mismo orden.  \n",
    "    return Yest, fds_matrix"
   ]
  },
  {
   "cell_type": "code",
   "execution_count": 19,
   "metadata": {
    "id": "i0eLRBbqlmIj",
    "outputId": "c3f5e80a-0200-45fe-fa57-f75a2d136edd"
   },
   "outputs": [
    {
     "name": "stdout",
     "output_type": "stream",
     "text": [
      "TEST EXITOSO!\n"
     ]
    }
   ],
   "source": [
    "## la funcion que prueba tu implementacion\n",
    "GRADER.run_test(\"ejercicio5\", parzenClass)"
   ]
  },
  {
   "cell_type": "markdown",
   "metadata": {
    "id": "_Z2-claRlmIk"
   },
   "source": [
    "## Ejercicio 5 - Experimentos con Parzen\n",
    "\n",
    "Ahora vamos a realizar los experimentos, pero esta vez, debemos implementar otro tipo de validación. Dentro del código se encuentra ya esta implementación sugerida, usando [esta función](https://scikit-learn.org/stable/modules/generated/sklearn.model_selection.StratifiedKFold.html)."
   ]
  },
  {
   "cell_type": "code",
   "execution_count": 20,
   "metadata": {
    "cellView": "form",
    "id": "Kh__flOllmIk"
   },
   "outputs": [],
   "source": [
    "#@title Pregunta Abierta\n",
    "#@markdown ¿cual es la metodologia de validación usada en el experimento? ¿qué diferencia tiene respecto a una validación cruzada?\n",
    "respuesta_3 = \"Se aplica la validacion cruzada estratificada, aqui los folds se realizan conservando el porcentaje de muestras para cada clase, en este caso se usan 4 folds para la prueva\" #@param {type:\"string\"}"
   ]
  },
  {
   "cell_type": "code",
   "execution_count": 21,
   "metadata": {
    "id": "rHF6dWYYlmIn"
   },
   "outputs": [],
   "source": [
    "#ejercicio de codigo\n",
    "def experimentarParzen (X, Y, hs):\n",
    "    \"\"\"Función que realiza los experimentos con knn usando\n",
    "       una estrategia de validacion entrenamiento y pruebas\n",
    "    X: matriz de numpy conjunto con muestras y caracteristicas\n",
    "    Y: vector de numpy con los valores de las etiquetas\n",
    "    ks: List[int/float] lista con los valores de k-vecinos a usar\n",
    "    retorna: dataframe con los resultados, debe contener las siguientes columnas:\n",
    "        - el ancho de ventana, el error medio de prueba, la desviacion estandar del error\n",
    "    \"\"\"\n",
    "\n",
    "    # se usa la función para implementar la estrategia de validación.\n",
    "    skf = StratifiedKFold(n_splits=4)\n",
    "    resultados = pd.DataFrame()\n",
    "    idx = 0\n",
    "    # iteramos sobre los valores de hs\n",
    "    for h in hs:\n",
    "        # lista para almacenar los errores de cada iteración\n",
    "        # de la validación\n",
    "        error_temp = []\n",
    "        \n",
    "        for train, test in skf.split(X, Y):\n",
    "\n",
    "            Xtrain = X[train,:]\n",
    "            Ytrain = Y[train]\n",
    "            Xtest = X[test,:]\n",
    "            Ytest = Y[test]\n",
    "            #normalizamos los datos\n",
    "            scaler = StandardScaler()\n",
    "            scaler.fit(Xtrain)\n",
    "            Xtrain = scaler.transform(Xtrain)\n",
    "            Xtest = scaler.transform(Xtest)\n",
    "            \n",
    "            Yest, probabilidades = parzenClass(Xtrain, Ytrain, Xtest, h)\n",
    "            errorTest = ErrorClas(Yest, Ytest)\n",
    "            error_temp.append(errorTest)\n",
    "    \n",
    "        resultados.loc[idx,'ancho de ventana'] = h \n",
    "        resultados.loc[idx,'error de prueba(media)'] = np.mean(error_temp)\n",
    "        resultados.loc[idx,'error de prueba(desviación estandar)'] = np.std(error_temp)\n",
    "        idx+=1\n",
    "    return (resultados)"
   ]
  },
  {
   "cell_type": "code",
   "execution_count": 22,
   "metadata": {
    "id": "i7cPkOUAlmIo",
    "outputId": "7cabba68-6cb9-4ccc-e11e-74d907569cac"
   },
   "outputs": [
    {
     "name": "stdout",
     "output_type": "stream",
     "text": [
      "TEST EXITOSO!\n"
     ]
    }
   ],
   "source": [
    "## la funcion que prueba tu implementacion\n",
    "GRADER.run_test(\"ejercicio6\", experimentarParzen)"
   ]
  },
  {
   "cell_type": "code",
   "execution_count": 23,
   "metadata": {
    "id": "6qwO7XGllmIq",
    "outputId": "f24e6cf2-2379-49d6-d7dc-f98920f30c1e"
   },
   "outputs": [
    {
     "data": {
      "text/html": [
       "<div>\n",
       "<style scoped>\n",
       "    .dataframe tbody tr th:only-of-type {\n",
       "        vertical-align: middle;\n",
       "    }\n",
       "\n",
       "    .dataframe tbody tr th {\n",
       "        vertical-align: top;\n",
       "    }\n",
       "\n",
       "    .dataframe thead th {\n",
       "        text-align: right;\n",
       "    }\n",
       "</style>\n",
       "<table border=\"1\" class=\"dataframe\">\n",
       "  <thead>\n",
       "    <tr style=\"text-align: right;\">\n",
       "      <th></th>\n",
       "      <th>ancho de ventana</th>\n",
       "      <th>error de prueba(media)</th>\n",
       "      <th>error de prueba(desviación estandar)</th>\n",
       "    </tr>\n",
       "  </thead>\n",
       "  <tbody>\n",
       "    <tr>\n",
       "      <th>0</th>\n",
       "      <td>0.05</td>\n",
       "      <td>0.059922</td>\n",
       "      <td>0.039773</td>\n",
       "    </tr>\n",
       "    <tr>\n",
       "      <th>1</th>\n",
       "      <td>0.10</td>\n",
       "      <td>0.059922</td>\n",
       "      <td>0.039773</td>\n",
       "    </tr>\n",
       "    <tr>\n",
       "      <th>2</th>\n",
       "      <td>0.50</td>\n",
       "      <td>0.053343</td>\n",
       "      <td>0.026683</td>\n",
       "    </tr>\n",
       "    <tr>\n",
       "      <th>3</th>\n",
       "      <td>1.00</td>\n",
       "      <td>0.099929</td>\n",
       "      <td>0.010944</td>\n",
       "    </tr>\n",
       "    <tr>\n",
       "      <th>4</th>\n",
       "      <td>2.00</td>\n",
       "      <td>0.126600</td>\n",
       "      <td>0.010775</td>\n",
       "    </tr>\n",
       "    <tr>\n",
       "      <th>5</th>\n",
       "      <td>5.00</td>\n",
       "      <td>0.133179</td>\n",
       "      <td>0.017648</td>\n",
       "    </tr>\n",
       "    <tr>\n",
       "      <th>6</th>\n",
       "      <td>10.00</td>\n",
       "      <td>0.133179</td>\n",
       "      <td>0.017648</td>\n",
       "    </tr>\n",
       "  </tbody>\n",
       "</table>\n",
       "</div>"
      ],
      "text/plain": [
       "   ancho de ventana  error de prueba(media)  \\\n",
       "0              0.05                0.059922   \n",
       "1              0.10                0.059922   \n",
       "2              0.50                0.053343   \n",
       "3              1.00                0.099929   \n",
       "4              2.00                0.126600   \n",
       "5              5.00                0.133179   \n",
       "6             10.00                0.133179   \n",
       "\n",
       "   error de prueba(desviación estandar)  \n",
       "0                              0.039773  \n",
       "1                              0.039773  \n",
       "2                              0.026683  \n",
       "3                              0.010944  \n",
       "4                              0.010775  \n",
       "5                              0.017648  \n",
       "6                              0.017648  "
      ]
     },
     "execution_count": 23,
     "metadata": {},
     "output_type": "execute_result"
    }
   ],
   "source": [
    "hs = [0.05, 0.1, 0.5, 1, 2, 5, 10]\n",
    "experimentos_parzen = experimentarParzen(x,y, hs)\n",
    "experimentos_parzen"
   ]
  },
  {
   "cell_type": "code",
   "execution_count": 24,
   "metadata": {
    "cellView": "form",
    "id": "vx9AQMO7lmIs"
   },
   "outputs": [],
   "source": [
    "#@title Pregunta Abierta\n",
    "#@markdown ¿por qué usando una ventana de parzen, no hay necesidad de definir un numero de vecinos cercanos? \n",
    "respuesta_4 = \"Porque este por definición tiene en cuenta cada una de las muestras del conjunto de datos y le asigna un peso a cada una de las muestras basandose en la distancia a la que se encuentren\" #@param {type:\"string\"}"
   ]
  },
  {
   "cell_type": "code",
   "execution_count": 25,
   "metadata": {
    "cellView": "form",
    "id": "Yrq718yylmIu"
   },
   "outputs": [],
   "source": [
    "#@title Pregunta Abierta\n",
    "#@markdown ¿De acuerdo al problema, cual de las dos metodologias usadas en los experimentos es más recomendada?\n",
    "respuesta_5 = \"Para este problema donde tenemos poquitos datos y crear el modelo es 'rápido', es mas recomendada utilizar la variacion de cross validation para asegurar que los resultados de nuestro modelo son independientes de la particion de datos de entrenamiento y prueba\" #@param {type:\"string\"}"
   ]
  },
  {
   "cell_type": "code",
   "execution_count": 26,
   "metadata": {
    "id": "xHa3qR1ulmIv",
    "outputId": "4a48607e-65f3-4b06-e144-89b20109c068"
   },
   "outputs": [
    {
     "name": "stdout",
     "output_type": "stream",
     "text": [
      "Todo se ve ok. Asegurate de responder las preguntas abiertas y envia e archivo al formulario ¡buen trabajo!\n"
     ]
    }
   ],
   "source": [
    "GRADER.check_tests()"
   ]
  },
  {
   "cell_type": "code",
   "execution_count": 27,
   "metadata": {
    "cellView": "form",
    "id": "v--KrYKQlmIw"
   },
   "outputs": [],
   "source": [
    "#@title Integrantes\n",
    "codigo_integrante_1 ='1152219543' #@param {type:\"string\"}\n",
    "codigo_integrante_2 = 'Cancelo'  #@param {type:\"string\"}"
   ]
  },
  {
   "cell_type": "markdown",
   "metadata": {
    "id": "XB1mvFqflmIz"
   },
   "source": [
    "----\n",
    "esta linea de codigo va fallar, es de uso exclusivo del los profesores\n"
   ]
  },
  {
   "cell_type": "code",
   "execution_count": 28,
   "metadata": {
    "id": "YoZbRijflmIz"
   },
   "outputs": [
    {
     "name": "stdout",
     "output_type": "stream",
     "text": [
      "uso del docente\n"
     ]
    }
   ],
   "source": [
    "GRADER.grade()"
   ]
  }
 ],
 "metadata": {
  "colab": {
   "name": "Daniel_Rivera_Lab21.ipynb",
   "provenance": []
  },
  "kernelspec": {
   "display_name": "Python 3",
   "language": "python",
   "name": "python3"
  },
  "language_info": {
   "codemirror_mode": {
    "name": "ipython",
    "version": 3
   },
   "file_extension": ".py",
   "mimetype": "text/x-python",
   "name": "python",
   "nbconvert_exporter": "python",
   "pygments_lexer": "ipython3",
   "version": "3.8.3"
  }
 },
 "nbformat": 4,
 "nbformat_minor": 1
}
