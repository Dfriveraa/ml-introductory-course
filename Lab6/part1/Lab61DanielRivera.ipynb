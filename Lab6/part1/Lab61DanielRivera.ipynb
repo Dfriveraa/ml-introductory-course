{
 "cells": [
  {
   "cell_type": "markdown",
   "metadata": {
    "id": "2XrHhhIO3dxk"
   },
   "source": [
    "<a href=\"https://colab.research.google.com/github/jdariasl/ML_2020/blob/master/Labs/lab6/lab6_parte1.ipynb\">\n",
    "    <img src=\"https://colab.research.google.com/assets/colab-badge.svg\" alt=\"Open In Colab\"/></a>\n",
    "\n",
    "**Recuerda que una vez abierto, Da clic en \"Copiar en Drive\", de lo contrario no podras almacenar tu progreso**\n",
    "\n",
    "Nota: no olvide ir ejecutando las celdas de código de arriba hacia abajo para que no tenga errores de importación de librerías o por falta de definición de variables."
   ]
  },
  {
   "cell_type": "code",
   "execution_count": 1,
   "metadata": {
    "colab": {
     "base_uri": "https://localhost:8080/"
    },
    "executionInfo": {
     "elapsed": 6988,
     "status": "ok",
     "timestamp": 1607025309783,
     "user": {
      "displayName": "JUAN FERNANDO RIOS FRANCO",
      "photoUrl": "",
      "userId": "07270182187478047057"
     },
     "user_tz": 300
    },
    "id": "YII73eZN3dxl",
    "outputId": "4bd4c634-8e71-4e82-f647-448caa9842b9"
   },
   "outputs": [
    {
     "name": "stdout",
     "output_type": "stream",
     "text": [
      "--2020-12-03 22:52:32--  https://raw.githubusercontent.com/jdariasl/ML_2020/master/Labs/commons/utils/general.py\n",
      "Loaded CA certificate '/etc/ssl/certs/ca-certificates.crt'\n",
      "Resolving raw.githubusercontent.com (raw.githubusercontent.com)... 199.232.48.133\n",
      "Connecting to raw.githubusercontent.com (raw.githubusercontent.com)|199.232.48.133|:443... connected.\n",
      "HTTP request sent, awaiting response... 200 OK\n",
      "Length: 14117 (14K) [text/plain]\n",
      "Saving to: ‘general.py’\n",
      "\n",
      "general.py          100%[===================>]  13.79K  --.-KB/s    in 0s      \n",
      "\n",
      "2020-12-03 22:52:33 (27.9 MB/s) - ‘general.py’ saved [14117/14117]\n",
      "\n",
      "lab configuration started\n",
      "installing libraries\n",
      "downloading files\n",
      "lab configured\n"
     ]
    },
    {
     "name": "stderr",
     "output_type": "stream",
     "text": [
      "Matplotlib is building the font cache; this may take a moment.\n"
     ]
    }
   ],
   "source": [
    "#configuración del laboratorio\n",
    "# Ejecuta esta celda!\n",
    "%load_ext autoreload\n",
    "%autoreload 2\n",
    "#for local \n",
    "#import sys ; sys.path.append('../commons/utils/')\n",
    "!wget https://raw.githubusercontent.com/jdariasl/ML_2020/master/Labs/commons/utils/general.py -O general.py --no-cache\n",
    "from general import configure_lab6\n",
    "configure_lab6()\n",
    "from lab6 import *\n",
    "GRADER, x,y = part_1()"
   ]
  },
  {
   "cell_type": "markdown",
   "metadata": {
    "id": "4dp4MJ4GJjH3"
   },
   "source": [
    "# Laboratorio 6 - Parte 1: Reducción de dimensión y Selección de características"
   ]
  },
  {
   "cell_type": "markdown",
   "metadata": {
    "id": "2JuDVBmqJ0Mu"
   },
   "source": [
    "Este ejercicio tiene como objetivo implementar varias técnicas de selección de características y usar SVM para resolver un problema de clasificación multiclase."
   ]
  },
  {
   "cell_type": "markdown",
   "metadata": {
    "id": "XYcG4YJY3dxp"
   },
   "source": [
    "Para el problema de clasificación usaremos la siguiente base de datos: https://archive.ics.uci.edu/ml/datasets/Cardiotocography\n",
    "\n",
    "Analice la base de datos, sus características, su variable de salida y el contexto del problema."
   ]
  },
  {
   "cell_type": "code",
   "execution_count": 2,
   "metadata": {
    "colab": {
     "base_uri": "https://localhost:8080/"
    },
    "executionInfo": {
     "elapsed": 6970,
     "status": "ok",
     "timestamp": 1607025309784,
     "user": {
      "displayName": "JUAN FERNANDO RIOS FRANCO",
      "photoUrl": "",
      "userId": "07270182187478047057"
     },
     "user_tz": 300
    },
    "id": "-9_ncZq53dxp",
    "outputId": "fe991285-eaad-4700-d5fc-2feb54671256"
   },
   "outputs": [
    {
     "name": "stdout",
     "output_type": "stream",
     "text": [
      "Dimensiones de la base de datos de entrenamiento. dim de x: (2126, 22)\tdim de y: (2126,)\n"
     ]
    }
   ],
   "source": [
    "print('Dimensiones de la base de datos de entrenamiento. dim de x: ' + str(np.shape(x)) + '\\tdim de y: ' + str(np.shape(y)))"
   ]
  },
  {
   "cell_type": "markdown",
   "metadata": {
    "id": "b7hVspnq3dxr"
   },
   "source": [
    "**observación para las librerias sklearn **\n",
    "\n",
    "Llamar explicitamente los parametros de las librerias de sklearn (e.j. si se quiere usar el parametro `kernel` del `SVC`, se debe llamar `SVC(kernel='rbf'`)"
   ]
  },
  {
   "cell_type": "markdown",
   "metadata": {
    "id": "S-ohZuu_lC3p"
   },
   "source": [
    "## Ejercicio 1: Entrenamiento sin selección de características\n",
    "\n",
    "En nuestro primer ejercicio debemos completar la función para entrenar una SVM para resolver un problema de clasificación. Debemos completar siguiendo las recomendaciones:\n",
    "\n",
    "1. Mantener los parámetros sugeridos del SVC. \n",
    "2. Asignar el parametro de Kfold a los splits\n",
    "3. Usar la exactitud como medida de error del modulo [metrics de sklearn](https://scikit-learn.org/stable/modules/classes.html#module-sklearn.metrics)\n",
    "4. Esta función la vamos a usar como base para comparar nuestros metodos de selección de características."
   ]
  },
  {
   "cell_type": "code",
   "execution_count": 3,
   "metadata": {
    "executionInfo": {
     "elapsed": 6957,
     "status": "ok",
     "timestamp": 1607025309785,
     "user": {
      "displayName": "JUAN FERNANDO RIOS FRANCO",
      "photoUrl": "",
      "userId": "07270182187478047057"
     },
     "user_tz": 300
    },
    "id": "r5bglRNYlDD3"
   },
   "outputs": [],
   "source": [
    "#ejercicio de código\n",
    "def entrenamiento_sin_seleccion_caracteristicas(splits, X, Y):\n",
    "    \"\"\"\n",
    "    Función que ejecuta el entrenamiento del modelo sin una selección particular\n",
    "    de las características\n",
    "\n",
    "      Parámetros:splits : numero de particiones  a realizar\n",
    "      Retorna:\n",
    "      1. El modelo entreando\n",
    "      2. El vector de errores\n",
    "      3. El Intervalo de confianza\n",
    "      4. El tiempo de procesamiento\n",
    "    \"\"\"\n",
    "    #Implemetamos la metodología de validación\n",
    "    Errores = np.ones(splits)\n",
    "    Score = np.ones(splits)\n",
    "    times = np.ones(splits)\n",
    "    j = 0\n",
    "    kf = KFold(n_splits=splits)\n",
    "    for train_index, test_index in kf.split(X):\n",
    "        X_train, X_test = X[train_index], X[test_index]\n",
    "        y_train, y_test = Y[train_index], Y[test_index]\n",
    "        scaler = StandardScaler()\n",
    "        X_train = scaler.fit_transform(X_train)\n",
    "        X_test = scaler.transform(X_test)\n",
    "        #Creamos el clasificador SVM.\n",
    "        clf = SVC(kernel=\"linear\", C=1)\n",
    "        #Aquí se entran y se valida el modelo sin hacer selección de características\n",
    "        ######\n",
    "        # Entrenamiento el modelo.\n",
    "        #Para calcular el costo computacional\n",
    "        tiempo_i = time.time()\n",
    "        clf.fit(X_train,y_train)\n",
    "        # Validación del modelo\n",
    "        Errores[j] = accuracy_score(y_true=y_test, y_pred=clf.predict(X_test))\n",
    "        times[j] = time.time()-tiempo_i\n",
    "        j+=1\n",
    "\n",
    "    return clf, np.mean(Errores), np.std(Errores), np.mean(times)"
   ]
  },
  {
   "cell_type": "code",
   "execution_count": 4,
   "metadata": {
    "colab": {
     "base_uri": "https://localhost:8080/"
    },
    "executionInfo": {
     "elapsed": 6944,
     "status": "ok",
     "timestamp": 1607025309786,
     "user": {
      "displayName": "JUAN FERNANDO RIOS FRANCO",
      "photoUrl": "",
      "userId": "07270182187478047057"
     },
     "user_tz": 300
    },
    "id": "1khu7XRL3dxu",
    "outputId": "636f2ba5-1064-4489-c960-7a908f93d3c6"
   },
   "outputs": [
    {
     "name": "stdout",
     "output_type": "stream",
     "text": [
      "TEST EXITOSO!\n"
     ]
    }
   ],
   "source": [
    "## la funcion que prueba tu implementacion\n",
    "GRADER.run_test(\"ejercicio1\", entrenamiento_sin_seleccion_caracteristicas)"
   ]
  },
  {
   "cell_type": "code",
   "execution_count": 5,
   "metadata": {
    "cellView": "form",
    "executionInfo": {
     "elapsed": 6929,
     "status": "ok",
     "timestamp": 1607025309787,
     "user": {
      "displayName": "JUAN FERNANDO RIOS FRANCO",
      "photoUrl": "",
      "userId": "07270182187478047057"
     },
     "user_tz": 300
    },
    "id": "8dSyfJct3dxw"
   },
   "outputs": [],
   "source": [
    "#@title Pregunta Abierta\n",
    "#@markdown ¿Cuáles son los parámetros establecidos para el modelo?\n",
    "respuesta_1 = 'El parámetro de regularización se encuentra en 1, y el tipo de kernel utilizado es linear' #@param {type:\"string\"}"
   ]
  },
  {
   "cell_type": "markdown",
   "metadata": {
    "id": "dzdeZ05pmOTX"
   },
   "source": [
    "## Ejercicio 2: Entrenamiento con selección de características\n",
    "\n",
    "La siguiente función \"wrapper\" nos permite hacer una selección de características utilizando la [librería recursive feature elimination de Sci-kit Learn](https://scikit-learn.org/stable/modules/generated/sklearn.feature_selection.RFE.html).\n",
    "\n",
    "Esta libreria es un metodo de seleccion carcterisitcas wrapper, que usa los coeficientes derivados de  un estimador entrenado para estimar que caracteristicas tienen mayor poder predictivo.\n",
    "\n",
    "Para completar debemos tener en cuenta lo siguiente:\n",
    "\n",
    "1. Para el número de caractersiticas usar el parametro feature_numbers\n",
    "2. Establecer el paso = 1 para ir eliminando las caracteristicas\n",
    "3. Asumir que el estimador se crea externamente de la función\n",
    "4. Entender los campos del RFE disponibles despues de entrenarlo, para obtener:\n",
    "    1. La mascara para saber que características fueron seleccionadas\n",
    "    2. El ranking de las caracteristicas"
   ]
  },
  {
   "cell_type": "code",
   "execution_count": 6,
   "metadata": {
    "executionInfo": {
     "elapsed": 744,
     "status": "ok",
     "timestamp": 1607025336368,
     "user": {
      "displayName": "JUAN FERNANDO RIOS FRANCO",
      "photoUrl": "",
      "userId": "07270182187478047057"
     },
     "user_tz": 300
    },
    "id": "vXBPDF57npM2"
   },
   "outputs": [],
   "source": [
    "#ejercicio de código\n",
    "def recursive_feature_elimination_wrapper(estimator, feature_numbers, X,Y):\n",
    "    \"\"\"\n",
    "    Esta función es un envoltorio del objeto RFE de sklearn\n",
    "\n",
    "    Parámetros:\n",
    "    estimator(sklearn.svm.SVC), El estimador SVM\n",
    "    feature_numbers(int), El número de características a considerar\n",
    "    X (numpy.array), El arreglo numpy de características\n",
    "    Y (numpy.array), El vector de etiquetas\n",
    "\n",
    "    Retorna:\n",
    "    El modelo entrenado ()\n",
    "    La máscara de características seleccionada, array [longitud de caracterisitcas de X]\n",
    "    El rankeo de características, array [longitud de caracterisitcas de X]\n",
    "    El objeto RFE entrenado sobre el set reducido de características\n",
    "    El tiempo de ejecución\n",
    "    \"\"\"\n",
    "    rfe = RFE(estimator=estimator, n_features_to_select=feature_numbers, step=1)\n",
    "    tiempo_i = time.time()\n",
    "    rfe.fit(X=X,y=Y)\n",
    "    time_o = time.time()-tiempo_i\n",
    "    feature_mask = rfe.support_\n",
    "    features_rank = rfe.ranking_\n",
    "    estimator = rfe.estimator_\n",
    "\n",
    "    return rfe, feature_mask, features_rank, estimator, time_o"
   ]
  },
  {
   "cell_type": "code",
   "execution_count": 7,
   "metadata": {
    "colab": {
     "base_uri": "https://localhost:8080/"
    },
    "executionInfo": {
     "elapsed": 759,
     "status": "ok",
     "timestamp": 1607025338379,
     "user": {
      "displayName": "JUAN FERNANDO RIOS FRANCO",
      "photoUrl": "",
      "userId": "07270182187478047057"
     },
     "user_tz": 300
    },
    "id": "UgAPU3Ww3dx1",
    "outputId": "51e3fe06-7edc-4857-ffb3-7e58ecc5ac0f"
   },
   "outputs": [
    {
     "name": "stdout",
     "output_type": "stream",
     "text": [
      "TEST EXITOSO!\n"
     ]
    }
   ],
   "source": [
    "## la funcion que prueba tu implementacion\n",
    "GRADER.run_test(\"ejercicio2\", recursive_feature_elimination_wrapper)"
   ]
  },
  {
   "cell_type": "code",
   "execution_count": 8,
   "metadata": {
    "cellView": "form",
    "id": "NDKQGGIv3dx3"
   },
   "outputs": [],
   "source": [
    "#@title Preguntas Abierta\n",
    "#@markdown ¿Que diferencia tiene el metodo implementado con un metodo de filtro? explicar\n",
    "respuesta_2 = 'El método implementado es de tipo wrapper donde se hace uso de un modelo base para ir entrenando y evaluando con diferentes subconjuntos de características con el fin de seleccionar así el subconjunto con mejores métricas, este es computacionalmente más costoso, mientras que en un método de filtro no se hace uso de ningun modelo estimador si no que se seleccionan características con base a las distancias y correlaciones entre ellas, además de estadísticos de prueba para evaluar la importancia de cada característica' #@param {type:\"string\"}"
   ]
  },
  {
   "cell_type": "markdown",
   "metadata": {
    "id": "NzD_kp5SyZDb"
   },
   "source": [
    "## Ejercicio 3:  Comparación de los resultados del modelo\n",
    "\n",
    "Ahora en la siguiente función, vamos a usar la función planteada para realizar experimentos con la selección de características. Para ello:\n",
    "1. Utilizar una metodología cross-validation.\n",
    "2. Usar como parametros para los experimentos el número de características y el número de splits/particiones\n",
    "3. Usar la función `recursive_feature_elimination_wrapper` para realizar la selección de características.\n",
    "3. Vamos a retornar un DataFrame con las siguientes columnas:\n",
    "    - CON_SEL (indicando si se uso selección de caracteristicas)\n",
    "    - NUM_VAR (número de selección de caracteristicas)\n",
    "    - NUM_SPLITS  (número de particiones realizadas)\n",
    "    - ERROR_VALIDACION\n",
    "    - IC_STD_VALIDACION\n",
    "    - T_EJECUCION: tiempo de ejecucción\n",
    "4. En las primeras filas del dataframe vamos a incluir la evaluación del modelo SVM sin selección de características (usando la función creada en el primer ejercicio). "
   ]
  },
  {
   "cell_type": "code",
   "execution_count": 9,
   "metadata": {
    "executionInfo": {
     "elapsed": 772,
     "status": "ok",
     "timestamp": 1607026336475,
     "user": {
      "displayName": "JUAN FERNANDO RIOS FRANCO",
      "photoUrl": "",
      "userId": "07270182187478047057"
     },
     "user_tz": 300
    },
    "id": "of3uVe6y3dx5"
   },
   "outputs": [],
   "source": [
    "#ejercicio de código\n",
    "def experimentar(n_feats, n_sets, X, Y):\n",
    "    \"\"\"\n",
    "    Esta función realiza la comparación del desempeño de RFE utilizando diferente \n",
    "    número de feats y particionando el conjunto de datos en diferente número de \n",
    "    subconjuntos\n",
    "\n",
    "    Parámetros:\n",
    "    X (numpy.array), El arreglo numpy de características\n",
    "    Y (numpy.array), El vector de etiquetas\n",
    "    n_feats, Vector de números enteros que indica el número de características\n",
    "              que debe utilizar el modelo\n",
    "    n_sets, Vector de números enteros que indica el número de particiones\n",
    "\n",
    "    Retorna:  \n",
    "    - DataFrame con las columnas: CON_SEL, NUM_VAR, NUM_SPLITS, ERROR_VALIDACION, IC_STD_VALIDACION, \n",
    "    y T_EJECUCION. \n",
    "\n",
    "    \"\"\"\n",
    "    df = pd.DataFrame()\n",
    "    idx = 0\n",
    "    for split_number in n_sets: \n",
    "    #Sin selección de características\n",
    "        # se ignorar las otras salidas\n",
    "        _,err,ic,t_ex = entrenamiento_sin_seleccion_caracteristicas(split_number, X,Y)  \n",
    "        df.loc[idx,'CON_SEL'] = 'NO'\n",
    "        df.loc[idx,'NUM_VAR'] = X.shape[1]\n",
    "        df.loc[idx,'NUM_SPLITS'] = split_number\n",
    "        df.loc[idx,'ERROR_VALIDACION'] = err\n",
    "        df.loc[idx,'IC_STD_VALIDACION'] = ic\n",
    "        df.loc[idx,'T_EJECUCION'] = t_ex\n",
    "        idx+=1\n",
    "    print(\"termina experimentos sin selección\")\n",
    "    #Con selección de características\n",
    "    for f in n_feats:\n",
    "        for split_number in n_sets:\n",
    "            #Implemetamos la metodología de validación \n",
    "            Errores = np.ones(split_number)\n",
    "            Score = np.ones(split_number)\n",
    "            times = np.ones(split_number)\n",
    "            kf = KFold(n_splits=split_number)\n",
    "            j = 0\n",
    "            for train_index, test_index in kf.split(X):\n",
    "                \n",
    "                X_train, X_test = X[train_index], X[test_index]\n",
    "                y_train, y_test = Y[train_index], Y[test_index]\n",
    "                scaler = StandardScaler()\n",
    "                X_train = scaler.fit_transform(X_train)\n",
    "                X_test = scaler.transform(X_test)\n",
    "                \n",
    "                svc =  SVC(kernel=\"linear\", C=1)\n",
    "                \n",
    "                # se ignorar las otras salidas\n",
    "                rfe, _, _, _, t = recursive_feature_elimination_wrapper(estimator=svc,feature_numbers=f, X=X_train,Y=y_train)\n",
    "            \n",
    "                Errores[j]=accuracy_score(y_true = y_test,  y_pred=rfe.predict(X_test))\n",
    "                times[j] = t\n",
    "                j+=1\n",
    "\n",
    "            df.loc[idx,'CON_SEL'] = 'SI'\n",
    "            df.loc[idx,'NUM_VAR'] = f\n",
    "            df.loc[idx,'NUM_SPLITS'] = split_number\n",
    "            df.loc[idx,'ERROR_VALIDACION'] = np.mean(Errores)\n",
    "            df.loc[idx, 'IC_STD_VALIDACION'] = np.std(Errores)\n",
    "            df.loc[idx, 'T_EJECUCION'] = np.mean(times)\n",
    "            idx+=1\n",
    "    return df\n"
   ]
  },
  {
   "cell_type": "code",
   "execution_count": 10,
   "metadata": {
    "colab": {
     "base_uri": "https://localhost:8080/"
    },
    "executionInfo": {
     "elapsed": 789,
     "status": "ok",
     "timestamp": 1607026338774,
     "user": {
      "displayName": "JUAN FERNANDO RIOS FRANCO",
      "photoUrl": "",
      "userId": "07270182187478047057"
     },
     "user_tz": 300
    },
    "id": "1s6zm-_v3dx7",
    "outputId": "8492e796-3d1f-492c-f99f-c81a5ade4616"
   },
   "outputs": [
    {
     "name": "stdout",
     "output_type": "stream",
     "text": [
      "termina experimentos sin selección\n",
      "TEST EXITOSO!\n"
     ]
    }
   ],
   "source": [
    "## la funcion que prueba tu implementacion\n",
    "GRADER.run_test(\"ejercicio3\", experimentar)"
   ]
  },
  {
   "cell_type": "code",
   "execution_count": 11,
   "metadata": {
    "cellView": "form",
    "id": "-QuKwNFt3dx-"
   },
   "outputs": [],
   "source": [
    "#@title Preguntas Abierta\n",
    "#@markdown ¿Con qué modelo base se está resolviendo la selección de características?\n",
    "respuesta_3 = 'La selección de características se está realizando con un modelo máquina de soporte vectorial para clasificación con un kernel linear y parámetro de regularización de 1' #@param {type:\"string\"}"
   ]
  },
  {
   "cell_type": "markdown",
   "metadata": {
    "id": "WgdADU023dyA"
   },
   "source": [
    "Ejecuta la celda de codigo para realizar los experimentos"
   ]
  },
  {
   "cell_type": "code",
   "execution_count": 16,
   "metadata": {
    "colab": {
     "base_uri": "https://localhost:8080/"
    },
    "executionInfo": {
     "elapsed": 25141,
     "status": "ok",
     "timestamp": 1607026376976,
     "user": {
      "displayName": "JUAN FERNANDO RIOS FRANCO",
      "photoUrl": "",
      "userId": "07270182187478047057"
     },
     "user_tz": 300
    },
    "id": "GgajzZNG3dyB",
    "outputId": "55f9d348-c4e0-4ef9-c3c3-fad3798d8d56"
   },
   "outputs": [
    {
     "name": "stdout",
     "output_type": "stream",
     "text": [
      "termina experimentos sin selección\n"
     ]
    }
   ],
   "source": [
    "dfr = experimentar(n_feats = [3, 5,7,10,12,15,20], n_sets = [5, 10], X= x, Y=y)"
   ]
  },
  {
   "cell_type": "markdown",
   "metadata": {
    "id": "Fz0DUJdWXQME"
   },
   "source": [
    "En la siguiente celda vamos a ordenar los resultados con base a el error de validación y el tiempo de ejecucción."
   ]
  },
  {
   "cell_type": "code",
   "execution_count": 17,
   "metadata": {
    "colab": {
     "base_uri": "https://localhost:8080/",
     "height": 407
    },
    "executionInfo": {
     "elapsed": 799,
     "status": "ok",
     "timestamp": 1607026389308,
     "user": {
      "displayName": "JUAN FERNANDO RIOS FRANCO",
      "photoUrl": "",
      "userId": "07270182187478047057"
     },
     "user_tz": 300
    },
    "id": "kJE6Wcj33dyD",
    "outputId": "a19e9b57-8d46-41ee-c6cf-3aff49357500"
   },
   "outputs": [
    {
     "data": {
      "text/html": [
       "<div>\n",
       "<style scoped>\n",
       "    .dataframe tbody tr th:only-of-type {\n",
       "        vertical-align: middle;\n",
       "    }\n",
       "\n",
       "    .dataframe tbody tr th {\n",
       "        vertical-align: top;\n",
       "    }\n",
       "\n",
       "    .dataframe thead th {\n",
       "        text-align: right;\n",
       "    }\n",
       "</style>\n",
       "<table border=\"1\" class=\"dataframe\">\n",
       "  <thead>\n",
       "    <tr style=\"text-align: right;\">\n",
       "      <th></th>\n",
       "      <th>CON_SEL</th>\n",
       "      <th>NUM_VAR</th>\n",
       "      <th>NUM_SPLITS</th>\n",
       "      <th>ERROR_VALIDACION</th>\n",
       "      <th>IC_STD_VALIDACION</th>\n",
       "      <th>T_EJECUCION</th>\n",
       "    </tr>\n",
       "  </thead>\n",
       "  <tbody>\n",
       "    <tr>\n",
       "      <th>6</th>\n",
       "      <td>SI</td>\n",
       "      <td>7.0</td>\n",
       "      <td>5.0</td>\n",
       "      <td>0.944985</td>\n",
       "      <td>0.039063</td>\n",
       "      <td>0.276465</td>\n",
       "    </tr>\n",
       "    <tr>\n",
       "      <th>7</th>\n",
       "      <td>SI</td>\n",
       "      <td>7.0</td>\n",
       "      <td>10.0</td>\n",
       "      <td>0.943126</td>\n",
       "      <td>0.043028</td>\n",
       "      <td>0.332792</td>\n",
       "    </tr>\n",
       "    <tr>\n",
       "      <th>9</th>\n",
       "      <td>SI</td>\n",
       "      <td>10.0</td>\n",
       "      <td>10.0</td>\n",
       "      <td>0.938903</td>\n",
       "      <td>0.054008</td>\n",
       "      <td>0.274728</td>\n",
       "    </tr>\n",
       "    <tr>\n",
       "      <th>5</th>\n",
       "      <td>SI</td>\n",
       "      <td>5.0</td>\n",
       "      <td>10.0</td>\n",
       "      <td>0.934210</td>\n",
       "      <td>0.059247</td>\n",
       "      <td>0.355536</td>\n",
       "    </tr>\n",
       "    <tr>\n",
       "      <th>15</th>\n",
       "      <td>SI</td>\n",
       "      <td>20.0</td>\n",
       "      <td>10.0</td>\n",
       "      <td>0.934166</td>\n",
       "      <td>0.045343</td>\n",
       "      <td>0.071953</td>\n",
       "    </tr>\n",
       "    <tr>\n",
       "      <th>11</th>\n",
       "      <td>SI</td>\n",
       "      <td>12.0</td>\n",
       "      <td>10.0</td>\n",
       "      <td>0.933703</td>\n",
       "      <td>0.055211</td>\n",
       "      <td>0.237582</td>\n",
       "    </tr>\n",
       "    <tr>\n",
       "      <th>13</th>\n",
       "      <td>SI</td>\n",
       "      <td>15.0</td>\n",
       "      <td>10.0</td>\n",
       "      <td>0.933231</td>\n",
       "      <td>0.047086</td>\n",
       "      <td>0.178997</td>\n",
       "    </tr>\n",
       "    <tr>\n",
       "      <th>4</th>\n",
       "      <td>SI</td>\n",
       "      <td>5.0</td>\n",
       "      <td>5.0</td>\n",
       "      <td>0.932760</td>\n",
       "      <td>0.050339</td>\n",
       "      <td>0.297603</td>\n",
       "    </tr>\n",
       "    <tr>\n",
       "      <th>1</th>\n",
       "      <td>NO</td>\n",
       "      <td>22.0</td>\n",
       "      <td>10.0</td>\n",
       "      <td>0.932746</td>\n",
       "      <td>0.043822</td>\n",
       "      <td>0.024816</td>\n",
       "    </tr>\n",
       "    <tr>\n",
       "      <th>0</th>\n",
       "      <td>NO</td>\n",
       "      <td>22.0</td>\n",
       "      <td>5.0</td>\n",
       "      <td>0.932288</td>\n",
       "      <td>0.042333</td>\n",
       "      <td>0.024454</td>\n",
       "    </tr>\n",
       "    <tr>\n",
       "      <th>8</th>\n",
       "      <td>SI</td>\n",
       "      <td>10.0</td>\n",
       "      <td>5.0</td>\n",
       "      <td>0.930869</td>\n",
       "      <td>0.044681</td>\n",
       "      <td>0.231436</td>\n",
       "    </tr>\n",
       "    <tr>\n",
       "      <th>14</th>\n",
       "      <td>SI</td>\n",
       "      <td>20.0</td>\n",
       "      <td>5.0</td>\n",
       "      <td>0.929935</td>\n",
       "      <td>0.043191</td>\n",
       "      <td>0.060232</td>\n",
       "    </tr>\n",
       "    <tr>\n",
       "      <th>12</th>\n",
       "      <td>SI</td>\n",
       "      <td>15.0</td>\n",
       "      <td>5.0</td>\n",
       "      <td>0.925700</td>\n",
       "      <td>0.044712</td>\n",
       "      <td>0.150828</td>\n",
       "    </tr>\n",
       "    <tr>\n",
       "      <th>10</th>\n",
       "      <td>SI</td>\n",
       "      <td>12.0</td>\n",
       "      <td>5.0</td>\n",
       "      <td>0.924294</td>\n",
       "      <td>0.048469</td>\n",
       "      <td>0.200171</td>\n",
       "    </tr>\n",
       "    <tr>\n",
       "      <th>3</th>\n",
       "      <td>SI</td>\n",
       "      <td>3.0</td>\n",
       "      <td>10.0</td>\n",
       "      <td>0.916379</td>\n",
       "      <td>0.076269</td>\n",
       "      <td>0.375756</td>\n",
       "    </tr>\n",
       "    <tr>\n",
       "      <th>2</th>\n",
       "      <td>SI</td>\n",
       "      <td>3.0</td>\n",
       "      <td>5.0</td>\n",
       "      <td>0.900312</td>\n",
       "      <td>0.061758</td>\n",
       "      <td>0.319751</td>\n",
       "    </tr>\n",
       "  </tbody>\n",
       "</table>\n",
       "</div>"
      ],
      "text/plain": [
       "   CON_SEL  NUM_VAR  NUM_SPLITS  ERROR_VALIDACION  IC_STD_VALIDACION  \\\n",
       "6       SI      7.0         5.0          0.944985           0.039063   \n",
       "7       SI      7.0        10.0          0.943126           0.043028   \n",
       "9       SI     10.0        10.0          0.938903           0.054008   \n",
       "5       SI      5.0        10.0          0.934210           0.059247   \n",
       "15      SI     20.0        10.0          0.934166           0.045343   \n",
       "11      SI     12.0        10.0          0.933703           0.055211   \n",
       "13      SI     15.0        10.0          0.933231           0.047086   \n",
       "4       SI      5.0         5.0          0.932760           0.050339   \n",
       "1       NO     22.0        10.0          0.932746           0.043822   \n",
       "0       NO     22.0         5.0          0.932288           0.042333   \n",
       "8       SI     10.0         5.0          0.930869           0.044681   \n",
       "14      SI     20.0         5.0          0.929935           0.043191   \n",
       "12      SI     15.0         5.0          0.925700           0.044712   \n",
       "10      SI     12.0         5.0          0.924294           0.048469   \n",
       "3       SI      3.0        10.0          0.916379           0.076269   \n",
       "2       SI      3.0         5.0          0.900312           0.061758   \n",
       "\n",
       "    T_EJECUCION  \n",
       "6      0.276465  \n",
       "7      0.332792  \n",
       "9      0.274728  \n",
       "5      0.355536  \n",
       "15     0.071953  \n",
       "11     0.237582  \n",
       "13     0.178997  \n",
       "4      0.297603  \n",
       "1      0.024816  \n",
       "0      0.024454  \n",
       "8      0.231436  \n",
       "14     0.060232  \n",
       "12     0.150828  \n",
       "10     0.200171  \n",
       "3      0.375756  \n",
       "2      0.319751  "
      ]
     },
     "execution_count": 17,
     "metadata": {},
     "output_type": "execute_result"
    }
   ],
   "source": [
    "dfr.sort_values(['ERROR_VALIDACION','T_EJECUCION'], ascending=[False, True])"
   ]
  },
  {
   "cell_type": "code",
   "execution_count": 18,
   "metadata": {},
   "outputs": [
    {
     "data": {
      "text/html": [
       "<div>\n",
       "<style scoped>\n",
       "    .dataframe tbody tr th:only-of-type {\n",
       "        vertical-align: middle;\n",
       "    }\n",
       "\n",
       "    .dataframe tbody tr th {\n",
       "        vertical-align: top;\n",
       "    }\n",
       "\n",
       "    .dataframe thead th {\n",
       "        text-align: right;\n",
       "    }\n",
       "</style>\n",
       "<table border=\"1\" class=\"dataframe\">\n",
       "  <thead>\n",
       "    <tr style=\"text-align: right;\">\n",
       "      <th></th>\n",
       "      <th>CON_SEL</th>\n",
       "      <th>NUM_VAR</th>\n",
       "      <th>NUM_SPLITS</th>\n",
       "      <th>ERROR_VALIDACION</th>\n",
       "      <th>IC_STD_VALIDACION</th>\n",
       "      <th>T_EJECUCION</th>\n",
       "    </tr>\n",
       "  </thead>\n",
       "  <tbody>\n",
       "    <tr>\n",
       "      <th>0</th>\n",
       "      <td>NO</td>\n",
       "      <td>22.0</td>\n",
       "      <td>5.0</td>\n",
       "      <td>0.932288</td>\n",
       "      <td>0.042333</td>\n",
       "      <td>0.024454</td>\n",
       "    </tr>\n",
       "    <tr>\n",
       "      <th>1</th>\n",
       "      <td>NO</td>\n",
       "      <td>22.0</td>\n",
       "      <td>10.0</td>\n",
       "      <td>0.932746</td>\n",
       "      <td>0.043822</td>\n",
       "      <td>0.024816</td>\n",
       "    </tr>\n",
       "    <tr>\n",
       "      <th>2</th>\n",
       "      <td>SI</td>\n",
       "      <td>3.0</td>\n",
       "      <td>5.0</td>\n",
       "      <td>0.900312</td>\n",
       "      <td>0.061758</td>\n",
       "      <td>0.319751</td>\n",
       "    </tr>\n",
       "    <tr>\n",
       "      <th>3</th>\n",
       "      <td>SI</td>\n",
       "      <td>3.0</td>\n",
       "      <td>10.0</td>\n",
       "      <td>0.916379</td>\n",
       "      <td>0.076269</td>\n",
       "      <td>0.375756</td>\n",
       "    </tr>\n",
       "    <tr>\n",
       "      <th>4</th>\n",
       "      <td>SI</td>\n",
       "      <td>5.0</td>\n",
       "      <td>5.0</td>\n",
       "      <td>0.932760</td>\n",
       "      <td>0.050339</td>\n",
       "      <td>0.297603</td>\n",
       "    </tr>\n",
       "    <tr>\n",
       "      <th>5</th>\n",
       "      <td>SI</td>\n",
       "      <td>5.0</td>\n",
       "      <td>10.0</td>\n",
       "      <td>0.934210</td>\n",
       "      <td>0.059247</td>\n",
       "      <td>0.355536</td>\n",
       "    </tr>\n",
       "    <tr>\n",
       "      <th>6</th>\n",
       "      <td>SI</td>\n",
       "      <td>7.0</td>\n",
       "      <td>5.0</td>\n",
       "      <td>0.944985</td>\n",
       "      <td>0.039063</td>\n",
       "      <td>0.276465</td>\n",
       "    </tr>\n",
       "    <tr>\n",
       "      <th>7</th>\n",
       "      <td>SI</td>\n",
       "      <td>7.0</td>\n",
       "      <td>10.0</td>\n",
       "      <td>0.943126</td>\n",
       "      <td>0.043028</td>\n",
       "      <td>0.332792</td>\n",
       "    </tr>\n",
       "    <tr>\n",
       "      <th>8</th>\n",
       "      <td>SI</td>\n",
       "      <td>10.0</td>\n",
       "      <td>5.0</td>\n",
       "      <td>0.930869</td>\n",
       "      <td>0.044681</td>\n",
       "      <td>0.231436</td>\n",
       "    </tr>\n",
       "    <tr>\n",
       "      <th>9</th>\n",
       "      <td>SI</td>\n",
       "      <td>10.0</td>\n",
       "      <td>10.0</td>\n",
       "      <td>0.938903</td>\n",
       "      <td>0.054008</td>\n",
       "      <td>0.274728</td>\n",
       "    </tr>\n",
       "    <tr>\n",
       "      <th>10</th>\n",
       "      <td>SI</td>\n",
       "      <td>12.0</td>\n",
       "      <td>5.0</td>\n",
       "      <td>0.924294</td>\n",
       "      <td>0.048469</td>\n",
       "      <td>0.200171</td>\n",
       "    </tr>\n",
       "    <tr>\n",
       "      <th>11</th>\n",
       "      <td>SI</td>\n",
       "      <td>12.0</td>\n",
       "      <td>10.0</td>\n",
       "      <td>0.933703</td>\n",
       "      <td>0.055211</td>\n",
       "      <td>0.237582</td>\n",
       "    </tr>\n",
       "    <tr>\n",
       "      <th>12</th>\n",
       "      <td>SI</td>\n",
       "      <td>15.0</td>\n",
       "      <td>5.0</td>\n",
       "      <td>0.925700</td>\n",
       "      <td>0.044712</td>\n",
       "      <td>0.150828</td>\n",
       "    </tr>\n",
       "    <tr>\n",
       "      <th>13</th>\n",
       "      <td>SI</td>\n",
       "      <td>15.0</td>\n",
       "      <td>10.0</td>\n",
       "      <td>0.933231</td>\n",
       "      <td>0.047086</td>\n",
       "      <td>0.178997</td>\n",
       "    </tr>\n",
       "    <tr>\n",
       "      <th>14</th>\n",
       "      <td>SI</td>\n",
       "      <td>20.0</td>\n",
       "      <td>5.0</td>\n",
       "      <td>0.929935</td>\n",
       "      <td>0.043191</td>\n",
       "      <td>0.060232</td>\n",
       "    </tr>\n",
       "    <tr>\n",
       "      <th>15</th>\n",
       "      <td>SI</td>\n",
       "      <td>20.0</td>\n",
       "      <td>10.0</td>\n",
       "      <td>0.934166</td>\n",
       "      <td>0.045343</td>\n",
       "      <td>0.071953</td>\n",
       "    </tr>\n",
       "  </tbody>\n",
       "</table>\n",
       "</div>"
      ],
      "text/plain": [
       "   CON_SEL  NUM_VAR  NUM_SPLITS  ERROR_VALIDACION  IC_STD_VALIDACION  \\\n",
       "0       NO     22.0         5.0          0.932288           0.042333   \n",
       "1       NO     22.0        10.0          0.932746           0.043822   \n",
       "2       SI      3.0         5.0          0.900312           0.061758   \n",
       "3       SI      3.0        10.0          0.916379           0.076269   \n",
       "4       SI      5.0         5.0          0.932760           0.050339   \n",
       "5       SI      5.0        10.0          0.934210           0.059247   \n",
       "6       SI      7.0         5.0          0.944985           0.039063   \n",
       "7       SI      7.0        10.0          0.943126           0.043028   \n",
       "8       SI     10.0         5.0          0.930869           0.044681   \n",
       "9       SI     10.0        10.0          0.938903           0.054008   \n",
       "10      SI     12.0         5.0          0.924294           0.048469   \n",
       "11      SI     12.0        10.0          0.933703           0.055211   \n",
       "12      SI     15.0         5.0          0.925700           0.044712   \n",
       "13      SI     15.0        10.0          0.933231           0.047086   \n",
       "14      SI     20.0         5.0          0.929935           0.043191   \n",
       "15      SI     20.0        10.0          0.934166           0.045343   \n",
       "\n",
       "    T_EJECUCION  \n",
       "0      0.024454  \n",
       "1      0.024816  \n",
       "2      0.319751  \n",
       "3      0.375756  \n",
       "4      0.297603  \n",
       "5      0.355536  \n",
       "6      0.276465  \n",
       "7      0.332792  \n",
       "8      0.231436  \n",
       "9      0.274728  \n",
       "10     0.200171  \n",
       "11     0.237582  \n",
       "12     0.150828  \n",
       "13     0.178997  \n",
       "14     0.060232  \n",
       "15     0.071953  "
      ]
     },
     "execution_count": 18,
     "metadata": {},
     "output_type": "execute_result"
    }
   ],
   "source": [
    "dfr"
   ]
  },
  {
   "cell_type": "markdown",
   "metadata": {
    "id": "tCYxXwn63dyF"
   },
   "source": [
    "Y ahora vamos a ver como se relaciona el tiempo de ejecución con los splits, la selección de caracteristicas y le rendimiento del modelo"
   ]
  },
  {
   "cell_type": "code",
   "execution_count": 22,
   "metadata": {
    "colab": {
     "base_uri": "https://localhost:8080/",
     "height": 402
    },
    "executionInfo": {
     "elapsed": 1643,
     "status": "ok",
     "timestamp": 1607026519833,
     "user": {
      "displayName": "JUAN FERNANDO RIOS FRANCO",
      "photoUrl": "",
      "userId": "07270182187478047057"
     },
     "user_tz": 300
    },
    "id": "aICJy37t3dyF",
    "outputId": "b4fa9a64-e9b0-417f-a954-b5b69aad3525"
   },
   "outputs": [
    {
     "data": {
      "text/plain": [
       "<seaborn.axisgrid.FacetGrid at 0x7f5494e755e0>"
      ]
     },
     "execution_count": 22,
     "metadata": {},
     "output_type": "execute_result"
    },
    {
     "data": {
      "image/png": "[encoded data removed]",
      "text/plain": [
       "<Figure size 941.375x360 with 2 Axes>"
      ]
     },
     "metadata": {
      "needs_background": "light"
     },
     "output_type": "display_data"
    }
   ],
   "source": [
    "import seaborn as sns\n",
    "d_toplot = pd.melt(dfr,id_vars=['CON_SEL', 'NUM_VAR', 'NUM_SPLITS'], value_vars=['ERROR_VALIDACION', 'T_EJECUCION'])\n",
    "sns.relplot(data = d_toplot, x = 'NUM_VAR', y = 'value', hue = 'CON_SEL', style = 'NUM_SPLITS', col = 'variable', kind='scatter', facet_kws = {'sharey' : False}, aspect=1.2,s=150)"
   ]
  },
  {
   "cell_type": "code",
   "execution_count": 23,
   "metadata": {
    "cellView": "form",
    "id": "xrpLG8233dyH"
   },
   "outputs": [],
   "source": [
    "#@title Pregunta Abieciónrta\n",
    "#@markdown ¿Que relación observa entre tiempo de ejecución, el desempeño del modelo y el número de caracteristicas? Explicar con base a los resultados\n",
    "respuesta_4 = 'Tal como se podría esperar cuando hay selección de características hay mucho más tiempo de ejecución debido al proceso interno que esto conlleva además de que el error de validación no cambia mucho a medida que cambia la cantidad de características obteniendo los mejores resultados con 7 características dando pensar que hay varias características que sólo están inyectando algo de ruido' #@param {type:\"string\"}"
   ]
  },
  {
   "cell_type": "markdown",
   "metadata": {
    "id": "ZJy4UX-d3dyJ"
   },
   "source": [
    "Ahora use el número de características que lograron el mejor desempeño para entrenar nuevamente un modelo y saber que características tienen el mejor poder predictivo."
   ]
  },
  {
   "cell_type": "code",
   "execution_count": 24,
   "metadata": {
    "colab": {
     "base_uri": "https://localhost:8080/"
    },
    "executionInfo": {
     "elapsed": 9655,
     "status": "ok",
     "timestamp": 1607028722077,
     "user": {
      "displayName": "JUAN FERNANDO RIOS FRANCO",
      "photoUrl": "",
      "userId": "07270182187478047057"
     },
     "user_tz": 300
    },
    "id": "ywXmu0yH3dyJ",
    "outputId": "eee19150-aaad-418c-e807-e070d7302201"
   },
   "outputs": [
    {
     "name": "stdout",
     "output_type": "stream",
     "text": [
      "esta es la mascara (deberia ser solo valores True y False) \n",
      " [ True  True False False  True False  True False  True False False False\n",
      " False False  True  True False  True False False  True  True]\n"
     ]
    }
   ],
   "source": [
    "svc =  SVC(kernel=\"linear\", C=1)\n",
    "rfe, feature_mask, _, _, _ = recursive_feature_elimination_wrapper(svc, 10, x,y)\n",
    "\n",
    "print(\"esta es la mascara (deberia ser solo valores True y False) \\n\", feature_mask)"
   ]
  },
  {
   "cell_type": "code",
   "execution_count": 25,
   "metadata": {
    "cellView": "form",
    "id": "HAI-9lx-X8EG"
   },
   "outputs": [],
   "source": [
    "#@title Pregunta Abierta\n",
    "#@markdown Utilizando los resultados obtenidos ¿cuál sería su sugerencia de apoyo diagnóstico para un médico que esté trabajando en un caso enmarcado en esta base de datos?\n",
    "respuesta_5 = 'Al ser algo médico y que involucra a la salud de las personas se debe utilizar modelos con muy buenos score e intervalos de confianza lo más pequeños posible, en general todos los modelos dieron intervalos de confianza pequeños por lo que se puede considerar solamente el error de validación donde el mejor modelo sugirió que no era necesario incluir varias de las características originales, sin embargo seria pruedente realizar la selección de características con otro estimador para tener mayor certeza.' #@param {type:\"string\"}"
   ]
  },
  {
   "cell_type": "code",
   "execution_count": 26,
   "metadata": {
    "id": "MjCSjpNM2yiA"
   },
   "outputs": [
    {
     "name": "stdout",
     "output_type": "stream",
     "text": [
      "Todo se ve ok. Asegurate de responder las preguntas abiertas y envia e archivo al formulario ¡buen trabajo!\n"
     ]
    }
   ],
   "source": [
    "GRADER.check_tests()"
   ]
  },
  {
   "cell_type": "code",
   "execution_count": 27,
   "metadata": {
    "id": "lthm0tYr3dyO"
   },
   "outputs": [],
   "source": [
    "#@title Integrantes\n",
    "codigo_integrante_1 ='1152219543' #@param {type:\"string\"}\n",
    "codigo_integrante_2 = 'Cancelo :c'  #@param {type:\"string\"}"
   ]
  },
  {
   "cell_type": "markdown",
   "metadata": {
    "id": "df-X7bYE3dyP"
   },
   "source": [
    "----\n",
    "esta linea de codigo va fallar, es de uso exclusivo de los profesores\n"
   ]
  },
  {
   "cell_type": "code",
   "execution_count": 28,
   "metadata": {
    "id": "gBWgsJT83dyQ"
   },
   "outputs": [
    {
     "name": "stdout",
     "output_type": "stream",
     "text": [
      "uso del docente\n"
     ]
    }
   ],
   "source": [
    "GRADER.grade()"
   ]
  },
  {
   "cell_type": "code",
   "execution_count": null,
   "metadata": {},
   "outputs": [],
   "source": []
  }
 ],
 "metadata": {
  "colab": {
   "collapsed_sections": [],
   "name": "Copy of Lab6_parte1.ipynb",
   "provenance": [
    {
     "file_id": "https://github.com/jdariasl/ML_2020/blob/master/Labs/lab6/lab6_parte1.ipynb",
     "timestamp": 1606950659741
    }
   ],
   "toc_visible": true
  },
  "kernelspec": {
   "display_name": "Python 3",
   "language": "python",
   "name": "python3"
  },
  "language_info": {
   "codemirror_mode": {
    "name": "ipython",
    "version": 3
   },
   "file_extension": ".py",
   "mimetype": "text/x-python",
   "name": "python",
   "nbconvert_exporter": "python",
   "pygments_lexer": "ipython3",
   "version": "3.8.5"
  }
 },
 "nbformat": 4,
 "nbformat_minor": 1
}
